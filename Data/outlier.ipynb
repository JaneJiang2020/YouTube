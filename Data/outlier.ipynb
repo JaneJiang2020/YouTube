{
 "cells": [
  {
   "cell_type": "code",
   "execution_count": 11,
   "metadata": {
    "collapsed": true,
    "pycharm": {
     "is_executing": false
    }
   },
   "outputs": [],
   "source": [
    "import pandas as pd\n",
    "import json\n",
    "import matplotlib.pyplot as plt\n",
    "import seaborn as sns\n",
    "import numpy as np\n",
    "from sklearn.preprocessing import StandardScaler"
   ]
  },
  {
   "cell_type": "code",
   "execution_count": 16,
   "outputs": [
    {
     "data": {
      "text/plain": "likes            float64\ndislikes         float64\ncomment_count    float64\ndtype: object"
     },
     "metadata": {},
     "output_type": "execute_result",
     "execution_count": 16
    }
   ],
   "source": [
    "df = pd.read_csv(\"features_data.csv\")\n",
    "new = df[['likes','dislikes','comment_count']]\n",
    "new.dtypes"
   ],
   "metadata": {
    "collapsed": false,
    "pycharm": {
     "name": "#%%\n",
     "is_executing": false
    }
   }
  },
  {
   "cell_type": "code",
   "execution_count": 23,
   "outputs": [],
   "source": [
    "from sklearn.preprocessing import StandardScaler\n",
    "# Standardize the features and target\n",
    "# Implement me\n",
    "import numpy as np\n",
    "ss = StandardScaler()\n",
    "a = ss.fit(new)"
   ],
   "metadata": {
    "collapsed": false,
    "pycharm": {
     "name": "#%%\n",
     "is_executing": false
    }
   }
  },
  {
   "cell_type": "code",
   "execution_count": 30,
   "outputs": [
    {
     "data": {
      "text/plain": "StandardScaler(copy=True, with_mean=True, with_std=True)"
     },
     "metadata": {},
     "output_type": "execute_result",
     "execution_count": 30
    }
   ],
   "source": [
    "a"
   ],
   "metadata": {
    "collapsed": false,
    "pycharm": {
     "name": "#%%\n",
     "is_executing": false
    }
   }
  },
  {
   "cell_type": "code",
   "execution_count": 37,
   "outputs": [
    {
     "traceback": [
      "\u001b[0;31m---------------------------------------------------------------------------\u001b[0m",
      "\u001b[0;31mTypeError\u001b[0m                                 Traceback (most recent call last)",
      "\u001b[0;32m<ipython-input-37-a928b3db0bc1>\u001b[0m in \u001b[0;36m<module>\u001b[0;34m\u001b[0m\n\u001b[1;32m      2\u001b[0m \u001b[0msd\u001b[0m \u001b[0;34m=\u001b[0m \u001b[0mnp\u001b[0m\u001b[0;34m.\u001b[0m\u001b[0mstd\u001b[0m\u001b[0;34m(\u001b[0m\u001b[0mnew\u001b[0m\u001b[0;34m)\u001b[0m\u001b[0;34m\u001b[0m\u001b[0;34m\u001b[0m\u001b[0m\n\u001b[1;32m      3\u001b[0m \u001b[0mb\u001b[0m \u001b[0;34m=\u001b[0m \u001b[0mmean\u001b[0m \u001b[0;34m-\u001b[0m \u001b[0;36m2\u001b[0m \u001b[0;34m*\u001b[0m \u001b[0msd\u001b[0m\u001b[0;34m\u001b[0m\u001b[0;34m\u001b[0m\u001b[0m\n\u001b[0;32m----> 4\u001b[0;31m \u001b[0mfinal_list\u001b[0m \u001b[0;34m=\u001b[0m \u001b[0;34m[\u001b[0m\u001b[0mx\u001b[0m \u001b[0;32mfor\u001b[0m \u001b[0mx\u001b[0m \u001b[0;32min\u001b[0m \u001b[0mnew\u001b[0m \u001b[0;32mif\u001b[0m \u001b[0;34m(\u001b[0m\u001b[0mx\u001b[0m \u001b[0;34m>\u001b[0m \u001b[0mb\u001b[0m\u001b[0;34m)\u001b[0m\u001b[0;34m]\u001b[0m\u001b[0;34m\u001b[0m\u001b[0;34m\u001b[0m\u001b[0m\n\u001b[0m\u001b[1;32m      5\u001b[0m \u001b[0mfinal_list\u001b[0m \u001b[0;34m=\u001b[0m \u001b[0;34m[\u001b[0m\u001b[0mx\u001b[0m \u001b[0;32mfor\u001b[0m \u001b[0mx\u001b[0m \u001b[0;32min\u001b[0m \u001b[0mnew\u001b[0m \u001b[0;32mif\u001b[0m \u001b[0;34m(\u001b[0m\u001b[0mx\u001b[0m \u001b[0;34m<\u001b[0m \u001b[0mb\u001b[0m\u001b[0;34m)\u001b[0m\u001b[0;34m]\u001b[0m\u001b[0;34m\u001b[0m\u001b[0;34m\u001b[0m\u001b[0m\n\u001b[1;32m      6\u001b[0m \u001b[0mprint\u001b[0m\u001b[0;34m(\u001b[0m\u001b[0mfinal_list\u001b[0m\u001b[0;34m)\u001b[0m\u001b[0;34m\u001b[0m\u001b[0;34m\u001b[0m\u001b[0m\n",
      "\u001b[0;32m<ipython-input-37-a928b3db0bc1>\u001b[0m in \u001b[0;36m<listcomp>\u001b[0;34m(.0)\u001b[0m\n\u001b[1;32m      2\u001b[0m \u001b[0msd\u001b[0m \u001b[0;34m=\u001b[0m \u001b[0mnp\u001b[0m\u001b[0;34m.\u001b[0m\u001b[0mstd\u001b[0m\u001b[0;34m(\u001b[0m\u001b[0mnew\u001b[0m\u001b[0;34m)\u001b[0m\u001b[0;34m\u001b[0m\u001b[0;34m\u001b[0m\u001b[0m\n\u001b[1;32m      3\u001b[0m \u001b[0mb\u001b[0m \u001b[0;34m=\u001b[0m \u001b[0mmean\u001b[0m \u001b[0;34m-\u001b[0m \u001b[0;36m2\u001b[0m \u001b[0;34m*\u001b[0m \u001b[0msd\u001b[0m\u001b[0;34m\u001b[0m\u001b[0;34m\u001b[0m\u001b[0m\n\u001b[0;32m----> 4\u001b[0;31m \u001b[0mfinal_list\u001b[0m \u001b[0;34m=\u001b[0m \u001b[0;34m[\u001b[0m\u001b[0mx\u001b[0m \u001b[0;32mfor\u001b[0m \u001b[0mx\u001b[0m \u001b[0;32min\u001b[0m \u001b[0mnew\u001b[0m \u001b[0;32mif\u001b[0m \u001b[0;34m(\u001b[0m\u001b[0mx\u001b[0m \u001b[0;34m>\u001b[0m \u001b[0mb\u001b[0m\u001b[0;34m)\u001b[0m\u001b[0;34m]\u001b[0m\u001b[0;34m\u001b[0m\u001b[0;34m\u001b[0m\u001b[0m\n\u001b[0m\u001b[1;32m      5\u001b[0m \u001b[0mfinal_list\u001b[0m \u001b[0;34m=\u001b[0m \u001b[0;34m[\u001b[0m\u001b[0mx\u001b[0m \u001b[0;32mfor\u001b[0m \u001b[0mx\u001b[0m \u001b[0;32min\u001b[0m \u001b[0mnew\u001b[0m \u001b[0;32mif\u001b[0m \u001b[0;34m(\u001b[0m\u001b[0mx\u001b[0m \u001b[0;34m<\u001b[0m \u001b[0mb\u001b[0m\u001b[0;34m)\u001b[0m\u001b[0;34m]\u001b[0m\u001b[0;34m\u001b[0m\u001b[0;34m\u001b[0m\u001b[0m\n\u001b[1;32m      6\u001b[0m \u001b[0mprint\u001b[0m\u001b[0;34m(\u001b[0m\u001b[0mfinal_list\u001b[0m\u001b[0;34m)\u001b[0m\u001b[0;34m\u001b[0m\u001b[0;34m\u001b[0m\u001b[0m\n",
      "\u001b[0;32m/Library/Frameworks/Python.framework/Versions/3.7/lib/python3.7/site-packages/pandas/core/ops/__init__.py\u001b[0m in \u001b[0;36mwrapper\u001b[0;34m(self, other, axis)\u001b[0m\n\u001b[1;32m   1227\u001b[0m \u001b[0;34m\u001b[0m\u001b[0m\n\u001b[1;32m   1228\u001b[0m             \u001b[0;32mwith\u001b[0m \u001b[0mnp\u001b[0m\u001b[0;34m.\u001b[0m\u001b[0merrstate\u001b[0m\u001b[0;34m(\u001b[0m\u001b[0mall\u001b[0m\u001b[0;34m=\u001b[0m\u001b[0;34m\"ignore\"\u001b[0m\u001b[0;34m)\u001b[0m\u001b[0;34m:\u001b[0m\u001b[0;34m\u001b[0m\u001b[0;34m\u001b[0m\u001b[0m\n\u001b[0;32m-> 1229\u001b[0;31m                 \u001b[0mres\u001b[0m \u001b[0;34m=\u001b[0m \u001b[0mna_op\u001b[0m\u001b[0;34m(\u001b[0m\u001b[0mvalues\u001b[0m\u001b[0;34m,\u001b[0m \u001b[0mother\u001b[0m\u001b[0;34m)\u001b[0m\u001b[0;34m\u001b[0m\u001b[0;34m\u001b[0m\u001b[0m\n\u001b[0m\u001b[1;32m   1230\u001b[0m             \u001b[0;32mif\u001b[0m \u001b[0mis_scalar\u001b[0m\u001b[0;34m(\u001b[0m\u001b[0mres\u001b[0m\u001b[0;34m)\u001b[0m\u001b[0;34m:\u001b[0m\u001b[0;34m\u001b[0m\u001b[0;34m\u001b[0m\u001b[0m\n\u001b[1;32m   1231\u001b[0m                 raise TypeError(\n",
      "\u001b[0;32m/Library/Frameworks/Python.framework/Versions/3.7/lib/python3.7/site-packages/pandas/core/ops/__init__.py\u001b[0m in \u001b[0;36mna_op\u001b[0;34m(x, y)\u001b[0m\n\u001b[1;32m   1115\u001b[0m                     \u001b[0mresult\u001b[0m \u001b[0;34m=\u001b[0m \u001b[0mmethod\u001b[0m\u001b[0;34m(\u001b[0m\u001b[0my\u001b[0m\u001b[0;34m)\u001b[0m\u001b[0;34m\u001b[0m\u001b[0;34m\u001b[0m\u001b[0m\n\u001b[1;32m   1116\u001b[0m                 \u001b[0;32mif\u001b[0m \u001b[0mresult\u001b[0m \u001b[0;32mis\u001b[0m \u001b[0mNotImplemented\u001b[0m\u001b[0;34m:\u001b[0m\u001b[0;34m\u001b[0m\u001b[0;34m\u001b[0m\u001b[0m\n\u001b[0;32m-> 1117\u001b[0;31m                     \u001b[0;32mreturn\u001b[0m \u001b[0minvalid_comparison\u001b[0m\u001b[0;34m(\u001b[0m\u001b[0mx\u001b[0m\u001b[0;34m,\u001b[0m \u001b[0my\u001b[0m\u001b[0;34m,\u001b[0m \u001b[0mop\u001b[0m\u001b[0;34m)\u001b[0m\u001b[0;34m\u001b[0m\u001b[0;34m\u001b[0m\u001b[0m\n\u001b[0m\u001b[1;32m   1118\u001b[0m             \u001b[0;32melse\u001b[0m\u001b[0;34m:\u001b[0m\u001b[0;34m\u001b[0m\u001b[0;34m\u001b[0m\u001b[0m\n\u001b[1;32m   1119\u001b[0m                 \u001b[0mresult\u001b[0m \u001b[0;34m=\u001b[0m \u001b[0mop\u001b[0m\u001b[0;34m(\u001b[0m\u001b[0mx\u001b[0m\u001b[0;34m,\u001b[0m \u001b[0my\u001b[0m\u001b[0;34m)\u001b[0m\u001b[0;34m\u001b[0m\u001b[0;34m\u001b[0m\u001b[0m\n",
      "\u001b[0;32m/Library/Frameworks/Python.framework/Versions/3.7/lib/python3.7/site-packages/pandas/core/ops/__init__.py\u001b[0m in \u001b[0;36minvalid_comparison\u001b[0;34m(left, right, op)\u001b[0m\n\u001b[1;32m    495\u001b[0m         raise TypeError(\n\u001b[1;32m    496\u001b[0m             \"Invalid comparison between dtype={dtype} and {typ}\".format(\n\u001b[0;32m--> 497\u001b[0;31m                 \u001b[0mdtype\u001b[0m\u001b[0;34m=\u001b[0m\u001b[0mleft\u001b[0m\u001b[0;34m.\u001b[0m\u001b[0mdtype\u001b[0m\u001b[0;34m,\u001b[0m \u001b[0mtyp\u001b[0m\u001b[0;34m=\u001b[0m\u001b[0mtype\u001b[0m\u001b[0;34m(\u001b[0m\u001b[0mright\u001b[0m\u001b[0;34m)\u001b[0m\u001b[0;34m.\u001b[0m\u001b[0m__name__\u001b[0m\u001b[0;34m\u001b[0m\u001b[0;34m\u001b[0m\u001b[0m\n\u001b[0m\u001b[1;32m    498\u001b[0m             )\n\u001b[1;32m    499\u001b[0m         )\n",
      "\u001b[0;31mTypeError\u001b[0m: Invalid comparison between dtype=float64 and str"
     ],
     "ename": "TypeError",
     "evalue": "Invalid comparison between dtype=float64 and str",
     "output_type": "error"
    }
   ],
   "source": [
    "mean = np.mean(new)\n",
    "sd = np.std(new)\n",
    "b = mean - 2 * sd\n",
    "final_list = [x for x in new if (x > b)]\n",
    "final_list = [x for x in new if (x < b)]\n",
    "print(final_list)\n",
    "    \n",
    "\n",
    "    \n",
    "    "
   ],
   "metadata": {
    "collapsed": false,
    "pycharm": {
     "name": "#%%\n",
     "is_executing": false
    }
   }
  },
  {
   "cell_type": "code",
   "execution_count": 38,
   "outputs": [
    {
     "name": "stderr",
     "text": [
      "/Library/Frameworks/Python.framework/Versions/3.7/lib/python3.7/site-packages/ipykernel_launcher.py:2: RuntimeWarning: invalid value encountered in less\n",
      "  \n"
     ],
     "output_type": "stream"
    },
    {
     "data": {
      "text/plain": "Empty DataFrame\nColumns: [likes, dislikes, comment_count]\nIndex: []",
      "text/html": "<div>\n<style scoped>\n    .dataframe tbody tr th:only-of-type {\n        vertical-align: middle;\n    }\n\n    .dataframe tbody tr th {\n        vertical-align: top;\n    }\n\n    .dataframe thead th {\n        text-align: right;\n    }\n</style>\n<table border=\"1\" class=\"dataframe\">\n  <thead>\n    <tr style=\"text-align: right;\">\n      <th></th>\n      <th>likes</th>\n      <th>dislikes</th>\n      <th>comment_count</th>\n    </tr>\n  </thead>\n  <tbody>\n  </tbody>\n</table>\n</div>"
     },
     "metadata": {},
     "output_type": "execute_result",
     "execution_count": 38
    }
   ],
   "source": [
    "\n",
    "\n",
    "\n",
    "from scipy import stats\n",
    "new[(np.abs(stats.zscore(new)) < 3).all(axis=1)]\n"
   ],
   "metadata": {
    "collapsed": false,
    "pycharm": {
     "name": "#%%\n",
     "is_executing": false
    }
   }
  },
  {
   "cell_type": "code",
   "execution_count": 46,
   "outputs": [
    {
     "data": {
      "text/plain": "          likes  dislikes  comment_count\n21     810895.0   16139.0        59473.0\n155   1788960.0   24548.0        93428.0\n262    911883.0   53873.0       127481.0\n430   1035003.0    4901.0        86912.0\n545   2376636.0  117196.0       134224.0\n...         ...       ...            ...\n6270  4934188.0  335462.0       509799.0\n6384  1323550.0   48192.0        71176.0\n6385  2032463.0  101678.0       320194.0\n6412   911150.0   30130.0        78492.0\n6416  1817699.0   11949.0       156793.0\n\n[64 rows x 3 columns]",
      "text/html": "<div>\n<style scoped>\n    .dataframe tbody tr th:only-of-type {\n        vertical-align: middle;\n    }\n\n    .dataframe tbody tr th {\n        vertical-align: top;\n    }\n\n    .dataframe thead th {\n        text-align: right;\n    }\n</style>\n<table border=\"1\" class=\"dataframe\">\n  <thead>\n    <tr style=\"text-align: right;\">\n      <th></th>\n      <th>likes</th>\n      <th>dislikes</th>\n      <th>comment_count</th>\n    </tr>\n  </thead>\n  <tbody>\n    <tr>\n      <th>21</th>\n      <td>810895.0</td>\n      <td>16139.0</td>\n      <td>59473.0</td>\n    </tr>\n    <tr>\n      <th>155</th>\n      <td>1788960.0</td>\n      <td>24548.0</td>\n      <td>93428.0</td>\n    </tr>\n    <tr>\n      <th>262</th>\n      <td>911883.0</td>\n      <td>53873.0</td>\n      <td>127481.0</td>\n    </tr>\n    <tr>\n      <th>430</th>\n      <td>1035003.0</td>\n      <td>4901.0</td>\n      <td>86912.0</td>\n    </tr>\n    <tr>\n      <th>545</th>\n      <td>2376636.0</td>\n      <td>117196.0</td>\n      <td>134224.0</td>\n    </tr>\n    <tr>\n      <th>...</th>\n      <td>...</td>\n      <td>...</td>\n      <td>...</td>\n    </tr>\n    <tr>\n      <th>6270</th>\n      <td>4934188.0</td>\n      <td>335462.0</td>\n      <td>509799.0</td>\n    </tr>\n    <tr>\n      <th>6384</th>\n      <td>1323550.0</td>\n      <td>48192.0</td>\n      <td>71176.0</td>\n    </tr>\n    <tr>\n      <th>6385</th>\n      <td>2032463.0</td>\n      <td>101678.0</td>\n      <td>320194.0</td>\n    </tr>\n    <tr>\n      <th>6412</th>\n      <td>911150.0</td>\n      <td>30130.0</td>\n      <td>78492.0</td>\n    </tr>\n    <tr>\n      <th>6416</th>\n      <td>1817699.0</td>\n      <td>11949.0</td>\n      <td>156793.0</td>\n    </tr>\n  </tbody>\n</table>\n<p>64 rows × 3 columns</p>\n</div>"
     },
     "metadata": {},
     "output_type": "execute_result",
     "execution_count": 46
    }
   ],
   "source": [
    "q = new[\"likes\"].quantile(0.99)\n",
    "new[new[\"likes\"] > q]"
   ],
   "metadata": {
    "collapsed": false,
    "pycharm": {
     "name": "#%%\n",
     "is_executing": false
    }
   }
  },
  {
   "cell_type": "code",
   "execution_count": 42,
   "outputs": [
    {
     "data": {
      "text/plain": "     Unnamed: 0     video_id trending_date  \\\n262         995  n1WpP7iowLc    2017-11-18   \n380        1568  ItYOdWRo0JY    2017-11-21   \n545        2587  TyHvyGVs42U    2017-11-26   \n866        3349  kTlv5_Bs8aw    2017-11-30   \n1204       5575  _9YMpuLDnwo    2017-12-11   \n...         ...          ...           ...   \n6270      38146  VYOjWnS4cMY    2018-05-31   \n6361      40800  V15BYnSr0P8    2018-06-14   \n6370      40809  GnGPAYvve1A    2018-06-14   \n6384      40823  VY1eFxgRR-k    2018-06-14   \n6385      40824  J2HytHu5VBI    2018-06-14   \n\n                                                  title        channel_title  \\\n262          Eminem - Walk On Water (Audio) ft. Beyoncé           EminemVEVO   \n380         Selling My iPhone X To a Machine at Walmart           TechSmartt   \n545           Luis Fonsi, Demi Lovato - Échame La Culpa        LuisFonsiVEVO   \n866   BTS (방탄소년단) 'MIC Drop (Steve Aoki Remix)' Offi...              ibighit   \n1204   42 HOLY GRAIL HACKS THAT WILL SAVE YOU A FORTUNE      5-Minute Crafts   \n...                                                 ...                  ...   \n6270  Childish Gambino - This Is America (Official V...  ChildishGambinoVEVO   \n6361  Live It Up (Official Video) - Nicky Jam feat. ...           NickyJamTV   \n6370                         #ProudToCreate: Pride 2018    YouTube Spotlight   \n6384                         Selena Gomez - Back To You      SelenaGomezVEVO   \n6385                                        we broke up         David Dobrik   \n\n     category_id         publish_time  \\\n262           10  2017-11-10 17:00:03   \n380           28  2017-11-14 00:45:15   \n545           10  2017-11-17 05:00:01   \n866           10  2017-11-24 09:00:02   \n1204          26  2017-12-03 08:30:00   \n...          ...                  ...   \n6270          10  2018-05-06 04:00:07   \n6361          10  2018-06-08 11:58:38   \n6370          24  2018-06-07 19:08:51   \n6384          10  2018-06-05 14:00:07   \n6385          22  2018-06-05 04:54:35   \n\n                                                   tags      views      likes  \\\n262   Eminem|\"Walk\"|\"On\"|\"Water\"|\"Aftermath/Shady/In...   26448434   911883.0   \n380   iphone x|\"iphone 10\"|\"iphone\"|\"walmart\"|\"techs...    3798127    44277.0   \n545   Luis|\"Fonsi\"|\"Demi\"|\"Lovato\"|\"Échame\"|\"La\"|\"Cu...  102012605  2376636.0   \n866           BIGHIT|\"빅히트\"|\"방탄소년단\"|\"BTS\"|\"BANGTAN\"|\"방탄\"   33810576  2674694.0   \n1204  5-Minute Crafts|\"DIY\"|\"Do it yourself\"|\"crafts...   54155921   378111.0   \n...                                                 ...        ...        ...   \n6270  Childish Gambino|\"Rap\"|\"This Is America\"|\"mcDJ...  217750076  4934188.0   \n6361  Nicky Jam|\"NickyJamPR\"|\"latin\"|\"will smith\"|\"E...   20409647   568680.0   \n6370  #Pride|\"#ProudToCreate\"|\"#ProudToBe\"|\"#ProudTo...    1329391    48386.0   \n6384        Selena|\"Gomez\"|\"Back\"|\"To\"|\"You\"|\"PS\"|\"Pop\"   35181079  1323550.0   \n6385  lizzza|\"lizza\"|\"liza\"|\"koshy\"|\"david\"|\"dobrik\"...   33627806  2032463.0   \n\n      ...   sec  count_word count_word_tags count_unique_word  \\\n262   ...   3.0         8.0             1.0               8.0   \n380   ...  15.0         9.0             4.0               9.0   \n545   ...   1.0         8.0             1.0               8.0   \n866   ...   2.0         9.0             1.0               9.0   \n1204  ...   0.0        10.0            26.0              10.0   \n...   ...   ...         ...             ...               ...   \n6270  ...   7.0         8.0             6.0               8.0   \n6361  ...  38.0        19.0            35.0              19.0   \n6370  ...  51.0         3.0            13.0               3.0   \n6384  ...   7.0         6.0             1.0               6.0   \n6385  ...  35.0         3.0             1.0               3.0   \n\n     count_unique_word_tags count_tags      neutral y_cat_1 y_cat_2 y_cat_3  \n262                     1.0        6.0   25482678.0    high    high    high  \n380                     4.0        6.0    3706381.0    high    high    high  \n545                     1.0       11.0   99518773.0    high    high    high  \n866                     1.0        6.0   31089819.0    high    high    high  \n1204                   25.0       45.0   53711178.0    high    high    high  \n...                     ...        ...          ...     ...     ...     ...  \n6270                    6.0        4.0  212480426.0    high    high    high  \n6361                   30.0       33.0   19796113.0    high    high    high  \n6370                   13.0       35.0    1154074.0    high    high    high  \n6384                    1.0        7.0   33809337.0    high    high    high  \n6385                    1.0       29.0   31493665.0    high    high    high  \n\n[64 rows x 37 columns]",
      "text/html": "<div>\n<style scoped>\n    .dataframe tbody tr th:only-of-type {\n        vertical-align: middle;\n    }\n\n    .dataframe tbody tr th {\n        vertical-align: top;\n    }\n\n    .dataframe thead th {\n        text-align: right;\n    }\n</style>\n<table border=\"1\" class=\"dataframe\">\n  <thead>\n    <tr style=\"text-align: right;\">\n      <th></th>\n      <th>Unnamed: 0</th>\n      <th>video_id</th>\n      <th>trending_date</th>\n      <th>title</th>\n      <th>channel_title</th>\n      <th>category_id</th>\n      <th>publish_time</th>\n      <th>tags</th>\n      <th>views</th>\n      <th>likes</th>\n      <th>...</th>\n      <th>sec</th>\n      <th>count_word</th>\n      <th>count_word_tags</th>\n      <th>count_unique_word</th>\n      <th>count_unique_word_tags</th>\n      <th>count_tags</th>\n      <th>neutral</th>\n      <th>y_cat_1</th>\n      <th>y_cat_2</th>\n      <th>y_cat_3</th>\n    </tr>\n  </thead>\n  <tbody>\n    <tr>\n      <th>262</th>\n      <td>995</td>\n      <td>n1WpP7iowLc</td>\n      <td>2017-11-18</td>\n      <td>Eminem - Walk On Water (Audio) ft. Beyoncé</td>\n      <td>EminemVEVO</td>\n      <td>10</td>\n      <td>2017-11-10 17:00:03</td>\n      <td>Eminem|\"Walk\"|\"On\"|\"Water\"|\"Aftermath/Shady/In...</td>\n      <td>26448434</td>\n      <td>911883.0</td>\n      <td>...</td>\n      <td>3.0</td>\n      <td>8.0</td>\n      <td>1.0</td>\n      <td>8.0</td>\n      <td>1.0</td>\n      <td>6.0</td>\n      <td>25482678.0</td>\n      <td>high</td>\n      <td>high</td>\n      <td>high</td>\n    </tr>\n    <tr>\n      <th>380</th>\n      <td>1568</td>\n      <td>ItYOdWRo0JY</td>\n      <td>2017-11-21</td>\n      <td>Selling My iPhone X To a Machine at Walmart</td>\n      <td>TechSmartt</td>\n      <td>28</td>\n      <td>2017-11-14 00:45:15</td>\n      <td>iphone x|\"iphone 10\"|\"iphone\"|\"walmart\"|\"techs...</td>\n      <td>3798127</td>\n      <td>44277.0</td>\n      <td>...</td>\n      <td>15.0</td>\n      <td>9.0</td>\n      <td>4.0</td>\n      <td>9.0</td>\n      <td>4.0</td>\n      <td>6.0</td>\n      <td>3706381.0</td>\n      <td>high</td>\n      <td>high</td>\n      <td>high</td>\n    </tr>\n    <tr>\n      <th>545</th>\n      <td>2587</td>\n      <td>TyHvyGVs42U</td>\n      <td>2017-11-26</td>\n      <td>Luis Fonsi, Demi Lovato - Échame La Culpa</td>\n      <td>LuisFonsiVEVO</td>\n      <td>10</td>\n      <td>2017-11-17 05:00:01</td>\n      <td>Luis|\"Fonsi\"|\"Demi\"|\"Lovato\"|\"Échame\"|\"La\"|\"Cu...</td>\n      <td>102012605</td>\n      <td>2376636.0</td>\n      <td>...</td>\n      <td>1.0</td>\n      <td>8.0</td>\n      <td>1.0</td>\n      <td>8.0</td>\n      <td>1.0</td>\n      <td>11.0</td>\n      <td>99518773.0</td>\n      <td>high</td>\n      <td>high</td>\n      <td>high</td>\n    </tr>\n    <tr>\n      <th>866</th>\n      <td>3349</td>\n      <td>kTlv5_Bs8aw</td>\n      <td>2017-11-30</td>\n      <td>BTS (방탄소년단) 'MIC Drop (Steve Aoki Remix)' Offi...</td>\n      <td>ibighit</td>\n      <td>10</td>\n      <td>2017-11-24 09:00:02</td>\n      <td>BIGHIT|\"빅히트\"|\"방탄소년단\"|\"BTS\"|\"BANGTAN\"|\"방탄\"</td>\n      <td>33810576</td>\n      <td>2674694.0</td>\n      <td>...</td>\n      <td>2.0</td>\n      <td>9.0</td>\n      <td>1.0</td>\n      <td>9.0</td>\n      <td>1.0</td>\n      <td>6.0</td>\n      <td>31089819.0</td>\n      <td>high</td>\n      <td>high</td>\n      <td>high</td>\n    </tr>\n    <tr>\n      <th>1204</th>\n      <td>5575</td>\n      <td>_9YMpuLDnwo</td>\n      <td>2017-12-11</td>\n      <td>42 HOLY GRAIL HACKS THAT WILL SAVE YOU A FORTUNE</td>\n      <td>5-Minute Crafts</td>\n      <td>26</td>\n      <td>2017-12-03 08:30:00</td>\n      <td>5-Minute Crafts|\"DIY\"|\"Do it yourself\"|\"crafts...</td>\n      <td>54155921</td>\n      <td>378111.0</td>\n      <td>...</td>\n      <td>0.0</td>\n      <td>10.0</td>\n      <td>26.0</td>\n      <td>10.0</td>\n      <td>25.0</td>\n      <td>45.0</td>\n      <td>53711178.0</td>\n      <td>high</td>\n      <td>high</td>\n      <td>high</td>\n    </tr>\n    <tr>\n      <th>...</th>\n      <td>...</td>\n      <td>...</td>\n      <td>...</td>\n      <td>...</td>\n      <td>...</td>\n      <td>...</td>\n      <td>...</td>\n      <td>...</td>\n      <td>...</td>\n      <td>...</td>\n      <td>...</td>\n      <td>...</td>\n      <td>...</td>\n      <td>...</td>\n      <td>...</td>\n      <td>...</td>\n      <td>...</td>\n      <td>...</td>\n      <td>...</td>\n      <td>...</td>\n      <td>...</td>\n    </tr>\n    <tr>\n      <th>6270</th>\n      <td>38146</td>\n      <td>VYOjWnS4cMY</td>\n      <td>2018-05-31</td>\n      <td>Childish Gambino - This Is America (Official V...</td>\n      <td>ChildishGambinoVEVO</td>\n      <td>10</td>\n      <td>2018-05-06 04:00:07</td>\n      <td>Childish Gambino|\"Rap\"|\"This Is America\"|\"mcDJ...</td>\n      <td>217750076</td>\n      <td>4934188.0</td>\n      <td>...</td>\n      <td>7.0</td>\n      <td>8.0</td>\n      <td>6.0</td>\n      <td>8.0</td>\n      <td>6.0</td>\n      <td>4.0</td>\n      <td>212480426.0</td>\n      <td>high</td>\n      <td>high</td>\n      <td>high</td>\n    </tr>\n    <tr>\n      <th>6361</th>\n      <td>40800</td>\n      <td>V15BYnSr0P8</td>\n      <td>2018-06-14</td>\n      <td>Live It Up (Official Video) - Nicky Jam feat. ...</td>\n      <td>NickyJamTV</td>\n      <td>10</td>\n      <td>2018-06-08 11:58:38</td>\n      <td>Nicky Jam|\"NickyJamPR\"|\"latin\"|\"will smith\"|\"E...</td>\n      <td>20409647</td>\n      <td>568680.0</td>\n      <td>...</td>\n      <td>38.0</td>\n      <td>19.0</td>\n      <td>35.0</td>\n      <td>19.0</td>\n      <td>30.0</td>\n      <td>33.0</td>\n      <td>19796113.0</td>\n      <td>high</td>\n      <td>high</td>\n      <td>high</td>\n    </tr>\n    <tr>\n      <th>6370</th>\n      <td>40809</td>\n      <td>GnGPAYvve1A</td>\n      <td>2018-06-14</td>\n      <td>#ProudToCreate: Pride 2018</td>\n      <td>YouTube Spotlight</td>\n      <td>24</td>\n      <td>2018-06-07 19:08:51</td>\n      <td>#Pride|\"#ProudToCreate\"|\"#ProudToBe\"|\"#ProudTo...</td>\n      <td>1329391</td>\n      <td>48386.0</td>\n      <td>...</td>\n      <td>51.0</td>\n      <td>3.0</td>\n      <td>13.0</td>\n      <td>3.0</td>\n      <td>13.0</td>\n      <td>35.0</td>\n      <td>1154074.0</td>\n      <td>high</td>\n      <td>high</td>\n      <td>high</td>\n    </tr>\n    <tr>\n      <th>6384</th>\n      <td>40823</td>\n      <td>VY1eFxgRR-k</td>\n      <td>2018-06-14</td>\n      <td>Selena Gomez - Back To You</td>\n      <td>SelenaGomezVEVO</td>\n      <td>10</td>\n      <td>2018-06-05 14:00:07</td>\n      <td>Selena|\"Gomez\"|\"Back\"|\"To\"|\"You\"|\"PS\"|\"Pop\"</td>\n      <td>35181079</td>\n      <td>1323550.0</td>\n      <td>...</td>\n      <td>7.0</td>\n      <td>6.0</td>\n      <td>1.0</td>\n      <td>6.0</td>\n      <td>1.0</td>\n      <td>7.0</td>\n      <td>33809337.0</td>\n      <td>high</td>\n      <td>high</td>\n      <td>high</td>\n    </tr>\n    <tr>\n      <th>6385</th>\n      <td>40824</td>\n      <td>J2HytHu5VBI</td>\n      <td>2018-06-14</td>\n      <td>we broke up</td>\n      <td>David Dobrik</td>\n      <td>22</td>\n      <td>2018-06-05 04:54:35</td>\n      <td>lizzza|\"lizza\"|\"liza\"|\"koshy\"|\"david\"|\"dobrik\"...</td>\n      <td>33627806</td>\n      <td>2032463.0</td>\n      <td>...</td>\n      <td>35.0</td>\n      <td>3.0</td>\n      <td>1.0</td>\n      <td>3.0</td>\n      <td>1.0</td>\n      <td>29.0</td>\n      <td>31493665.0</td>\n      <td>high</td>\n      <td>high</td>\n      <td>high</td>\n    </tr>\n  </tbody>\n</table>\n<p>64 rows × 37 columns</p>\n</div>"
     },
     "metadata": {},
     "output_type": "execute_result",
     "execution_count": 42
    }
   ],
   "source": [
    "q = new[\"dislikes\"].quantile(0.99)\n",
    "new[new[\"dislikes\"] > q]\n"
   ],
   "metadata": {
    "collapsed": false,
    "pycharm": {
     "name": "#%%\n",
     "is_executing": false
    }
   }
  },
  {
   "cell_type": "code",
   "execution_count": 47,
   "outputs": [
    {
     "data": {
      "text/plain": "          likes  dislikes  comment_count\n155   1788960.0   24548.0        93428.0\n262    911883.0   53873.0       127481.0\n430   1035003.0    4901.0        86912.0\n545   2376636.0  117196.0       134224.0\n576    368569.0    8898.0       103635.0\n...         ...       ...            ...\n6360   387156.0    8882.0       108849.0\n6370    48386.0  126931.0        90365.0\n6385  2032463.0  101678.0       320194.0\n6412   911150.0   30130.0        78492.0\n6416  1817699.0   11949.0       156793.0\n\n[64 rows x 3 columns]",
      "text/html": "<div>\n<style scoped>\n    .dataframe tbody tr th:only-of-type {\n        vertical-align: middle;\n    }\n\n    .dataframe tbody tr th {\n        vertical-align: top;\n    }\n\n    .dataframe thead th {\n        text-align: right;\n    }\n</style>\n<table border=\"1\" class=\"dataframe\">\n  <thead>\n    <tr style=\"text-align: right;\">\n      <th></th>\n      <th>likes</th>\n      <th>dislikes</th>\n      <th>comment_count</th>\n    </tr>\n  </thead>\n  <tbody>\n    <tr>\n      <th>155</th>\n      <td>1788960.0</td>\n      <td>24548.0</td>\n      <td>93428.0</td>\n    </tr>\n    <tr>\n      <th>262</th>\n      <td>911883.0</td>\n      <td>53873.0</td>\n      <td>127481.0</td>\n    </tr>\n    <tr>\n      <th>430</th>\n      <td>1035003.0</td>\n      <td>4901.0</td>\n      <td>86912.0</td>\n    </tr>\n    <tr>\n      <th>545</th>\n      <td>2376636.0</td>\n      <td>117196.0</td>\n      <td>134224.0</td>\n    </tr>\n    <tr>\n      <th>576</th>\n      <td>368569.0</td>\n      <td>8898.0</td>\n      <td>103635.0</td>\n    </tr>\n    <tr>\n      <th>...</th>\n      <td>...</td>\n      <td>...</td>\n      <td>...</td>\n    </tr>\n    <tr>\n      <th>6360</th>\n      <td>387156.0</td>\n      <td>8882.0</td>\n      <td>108849.0</td>\n    </tr>\n    <tr>\n      <th>6370</th>\n      <td>48386.0</td>\n      <td>126931.0</td>\n      <td>90365.0</td>\n    </tr>\n    <tr>\n      <th>6385</th>\n      <td>2032463.0</td>\n      <td>101678.0</td>\n      <td>320194.0</td>\n    </tr>\n    <tr>\n      <th>6412</th>\n      <td>911150.0</td>\n      <td>30130.0</td>\n      <td>78492.0</td>\n    </tr>\n    <tr>\n      <th>6416</th>\n      <td>1817699.0</td>\n      <td>11949.0</td>\n      <td>156793.0</td>\n    </tr>\n  </tbody>\n</table>\n<p>64 rows × 3 columns</p>\n</div>"
     },
     "metadata": {},
     "output_type": "execute_result",
     "execution_count": 47
    }
   ],
   "source": [
    "q = new[\"comment_count\"].quantile(0.99)\n",
    "new[new[\"comment_count\"] > q]"
   ],
   "metadata": {
    "collapsed": false,
    "pycharm": {
     "name": "#%%\n",
     "is_executing": false
    }
   }
  },
  {
   "cell_type": "code",
   "execution_count": 54,
   "outputs": [
    {
     "data": {
      "text/plain": "          likes   dislikes  comment_count\n545   2376636.0   117196.0       134224.0\n1396  3093544.0  1643059.0       810698.0\n1560  1013411.0   140271.0       175929.0\n2319  1402578.0  1674420.0      1361580.0\n2777  1844959.0   102849.0       148768.0\n3358  1970266.0   487820.0       647524.0\n3668  1216340.0   291900.0       436698.0\n4901  1928392.0   113990.0       162990.0\n5471  1324609.0   118647.0       238744.0\n6196  5595203.0   205565.0      1225326.0\n6270  4934188.0   335462.0       509799.0\n6385  2032463.0   101678.0       320194.0",
      "text/html": "<div>\n<style scoped>\n    .dataframe tbody tr th:only-of-type {\n        vertical-align: middle;\n    }\n\n    .dataframe tbody tr th {\n        vertical-align: top;\n    }\n\n    .dataframe thead th {\n        text-align: right;\n    }\n</style>\n<table border=\"1\" class=\"dataframe\">\n  <thead>\n    <tr style=\"text-align: right;\">\n      <th></th>\n      <th>likes</th>\n      <th>dislikes</th>\n      <th>comment_count</th>\n    </tr>\n  </thead>\n  <tbody>\n    <tr>\n      <th>545</th>\n      <td>2376636.0</td>\n      <td>117196.0</td>\n      <td>134224.0</td>\n    </tr>\n    <tr>\n      <th>1396</th>\n      <td>3093544.0</td>\n      <td>1643059.0</td>\n      <td>810698.0</td>\n    </tr>\n    <tr>\n      <th>1560</th>\n      <td>1013411.0</td>\n      <td>140271.0</td>\n      <td>175929.0</td>\n    </tr>\n    <tr>\n      <th>2319</th>\n      <td>1402578.0</td>\n      <td>1674420.0</td>\n      <td>1361580.0</td>\n    </tr>\n    <tr>\n      <th>2777</th>\n      <td>1844959.0</td>\n      <td>102849.0</td>\n      <td>148768.0</td>\n    </tr>\n    <tr>\n      <th>3358</th>\n      <td>1970266.0</td>\n      <td>487820.0</td>\n      <td>647524.0</td>\n    </tr>\n    <tr>\n      <th>3668</th>\n      <td>1216340.0</td>\n      <td>291900.0</td>\n      <td>436698.0</td>\n    </tr>\n    <tr>\n      <th>4901</th>\n      <td>1928392.0</td>\n      <td>113990.0</td>\n      <td>162990.0</td>\n    </tr>\n    <tr>\n      <th>5471</th>\n      <td>1324609.0</td>\n      <td>118647.0</td>\n      <td>238744.0</td>\n    </tr>\n    <tr>\n      <th>6196</th>\n      <td>5595203.0</td>\n      <td>205565.0</td>\n      <td>1225326.0</td>\n    </tr>\n    <tr>\n      <th>6270</th>\n      <td>4934188.0</td>\n      <td>335462.0</td>\n      <td>509799.0</td>\n    </tr>\n    <tr>\n      <th>6385</th>\n      <td>2032463.0</td>\n      <td>101678.0</td>\n      <td>320194.0</td>\n    </tr>\n  </tbody>\n</table>\n</div>"
     },
     "metadata": {},
     "output_type": "execute_result",
     "execution_count": 54
    }
   ],
   "source": [
    "new[new.apply(lambda x: np.abs(x - x.mean()) / x.std() > 3).all(axis=1)]"
   ],
   "metadata": {
    "collapsed": false,
    "pycharm": {
     "name": "#%%\n",
     "is_executing": false
    }
   }
  },
  {
   "cell_type": "code",
   "execution_count": 52,
   "outputs": [
    {
     "data": {
      "text/plain": "          likes  dislikes  comment_count\n21     810895.0   16139.0        59473.0\n155   1788960.0   24548.0        93428.0\n262    911883.0   53873.0       127481.0\n430   1035003.0    4901.0        86912.0\n545   2376636.0  117196.0       134224.0\n...         ...       ...            ...\n6384  1323550.0   48192.0        71176.0\n6385  2032463.0  101678.0       320194.0\n6412   911150.0   30130.0        78492.0\n6416  1817699.0   11949.0       156793.0\n6432   778513.0   30866.0        76944.0\n\n[78 rows x 3 columns]",
      "text/html": "<div>\n<style scoped>\n    .dataframe tbody tr th:only-of-type {\n        vertical-align: middle;\n    }\n\n    .dataframe tbody tr th {\n        vertical-align: top;\n    }\n\n    .dataframe thead th {\n        text-align: right;\n    }\n</style>\n<table border=\"1\" class=\"dataframe\">\n  <thead>\n    <tr style=\"text-align: right;\">\n      <th></th>\n      <th>likes</th>\n      <th>dislikes</th>\n      <th>comment_count</th>\n    </tr>\n  </thead>\n  <tbody>\n    <tr>\n      <th>21</th>\n      <td>810895.0</td>\n      <td>16139.0</td>\n      <td>59473.0</td>\n    </tr>\n    <tr>\n      <th>155</th>\n      <td>1788960.0</td>\n      <td>24548.0</td>\n      <td>93428.0</td>\n    </tr>\n    <tr>\n      <th>262</th>\n      <td>911883.0</td>\n      <td>53873.0</td>\n      <td>127481.0</td>\n    </tr>\n    <tr>\n      <th>430</th>\n      <td>1035003.0</td>\n      <td>4901.0</td>\n      <td>86912.0</td>\n    </tr>\n    <tr>\n      <th>545</th>\n      <td>2376636.0</td>\n      <td>117196.0</td>\n      <td>134224.0</td>\n    </tr>\n    <tr>\n      <th>...</th>\n      <td>...</td>\n      <td>...</td>\n      <td>...</td>\n    </tr>\n    <tr>\n      <th>6384</th>\n      <td>1323550.0</td>\n      <td>48192.0</td>\n      <td>71176.0</td>\n    </tr>\n    <tr>\n      <th>6385</th>\n      <td>2032463.0</td>\n      <td>101678.0</td>\n      <td>320194.0</td>\n    </tr>\n    <tr>\n      <th>6412</th>\n      <td>911150.0</td>\n      <td>30130.0</td>\n      <td>78492.0</td>\n    </tr>\n    <tr>\n      <th>6416</th>\n      <td>1817699.0</td>\n      <td>11949.0</td>\n      <td>156793.0</td>\n    </tr>\n    <tr>\n      <th>6432</th>\n      <td>778513.0</td>\n      <td>30866.0</td>\n      <td>76944.0</td>\n    </tr>\n  </tbody>\n</table>\n<p>78 rows × 3 columns</p>\n</div>"
     },
     "metadata": {},
     "output_type": "execute_result",
     "execution_count": 52
    }
   ],
   "source": [
    "new[((new.likes - new.likes.mean()) / new.likes.std()).abs() > 3]"
   ],
   "metadata": {
    "collapsed": false,
    "pycharm": {
     "name": "#%%\n",
     "is_executing": false
    }
   }
  },
  {
   "cell_type": "code",
   "execution_count": 55,
   "outputs": [
    {
     "data": {
      "text/plain": "          likes   dislikes  comment_count\n545   2376636.0   117196.0       134224.0\n1396  3093544.0  1643059.0       810698.0\n1538     5930.0   132439.0        23543.0\n1560  1013411.0   140271.0       175929.0\n1729     9572.0   228426.0        29634.0\n1974   821971.0   165109.0        81388.0\n2319  1402578.0  1674420.0      1361580.0\n2777  1844959.0   102849.0       148768.0\n3292   610574.0   116170.0        79735.0\n3358  1970266.0   487820.0       647524.0\n3668  1216340.0   291900.0       436698.0\n4455    59281.0   176903.0        65181.0\n4901  1928392.0   113990.0       162990.0\n5471  1324609.0   118647.0       238744.0\n6196  5595203.0   205565.0      1225326.0\n6204   346030.0   206198.0       140470.0\n6270  4934188.0   335462.0       509799.0\n6370    48386.0   126931.0        90365.0\n6385  2032463.0   101678.0       320194.0",
      "text/html": "<div>\n<style scoped>\n    .dataframe tbody tr th:only-of-type {\n        vertical-align: middle;\n    }\n\n    .dataframe tbody tr th {\n        vertical-align: top;\n    }\n\n    .dataframe thead th {\n        text-align: right;\n    }\n</style>\n<table border=\"1\" class=\"dataframe\">\n  <thead>\n    <tr style=\"text-align: right;\">\n      <th></th>\n      <th>likes</th>\n      <th>dislikes</th>\n      <th>comment_count</th>\n    </tr>\n  </thead>\n  <tbody>\n    <tr>\n      <th>545</th>\n      <td>2376636.0</td>\n      <td>117196.0</td>\n      <td>134224.0</td>\n    </tr>\n    <tr>\n      <th>1396</th>\n      <td>3093544.0</td>\n      <td>1643059.0</td>\n      <td>810698.0</td>\n    </tr>\n    <tr>\n      <th>1538</th>\n      <td>5930.0</td>\n      <td>132439.0</td>\n      <td>23543.0</td>\n    </tr>\n    <tr>\n      <th>1560</th>\n      <td>1013411.0</td>\n      <td>140271.0</td>\n      <td>175929.0</td>\n    </tr>\n    <tr>\n      <th>1729</th>\n      <td>9572.0</td>\n      <td>228426.0</td>\n      <td>29634.0</td>\n    </tr>\n    <tr>\n      <th>1974</th>\n      <td>821971.0</td>\n      <td>165109.0</td>\n      <td>81388.0</td>\n    </tr>\n    <tr>\n      <th>2319</th>\n      <td>1402578.0</td>\n      <td>1674420.0</td>\n      <td>1361580.0</td>\n    </tr>\n    <tr>\n      <th>2777</th>\n      <td>1844959.0</td>\n      <td>102849.0</td>\n      <td>148768.0</td>\n    </tr>\n    <tr>\n      <th>3292</th>\n      <td>610574.0</td>\n      <td>116170.0</td>\n      <td>79735.0</td>\n    </tr>\n    <tr>\n      <th>3358</th>\n      <td>1970266.0</td>\n      <td>487820.0</td>\n      <td>647524.0</td>\n    </tr>\n    <tr>\n      <th>3668</th>\n      <td>1216340.0</td>\n      <td>291900.0</td>\n      <td>436698.0</td>\n    </tr>\n    <tr>\n      <th>4455</th>\n      <td>59281.0</td>\n      <td>176903.0</td>\n      <td>65181.0</td>\n    </tr>\n    <tr>\n      <th>4901</th>\n      <td>1928392.0</td>\n      <td>113990.0</td>\n      <td>162990.0</td>\n    </tr>\n    <tr>\n      <th>5471</th>\n      <td>1324609.0</td>\n      <td>118647.0</td>\n      <td>238744.0</td>\n    </tr>\n    <tr>\n      <th>6196</th>\n      <td>5595203.0</td>\n      <td>205565.0</td>\n      <td>1225326.0</td>\n    </tr>\n    <tr>\n      <th>6204</th>\n      <td>346030.0</td>\n      <td>206198.0</td>\n      <td>140470.0</td>\n    </tr>\n    <tr>\n      <th>6270</th>\n      <td>4934188.0</td>\n      <td>335462.0</td>\n      <td>509799.0</td>\n    </tr>\n    <tr>\n      <th>6370</th>\n      <td>48386.0</td>\n      <td>126931.0</td>\n      <td>90365.0</td>\n    </tr>\n    <tr>\n      <th>6385</th>\n      <td>2032463.0</td>\n      <td>101678.0</td>\n      <td>320194.0</td>\n    </tr>\n  </tbody>\n</table>\n</div>"
     },
     "metadata": {},
     "output_type": "execute_result",
     "execution_count": 55
    }
   ],
   "source": [
    "new[((new.dislikes - new.dislikes.mean()) / new.dislikes.std()).abs() > 3]"
   ],
   "metadata": {
    "collapsed": false,
    "pycharm": {
     "name": "#%%\n",
     "is_executing": false
    }
   }
  },
  {
   "cell_type": "code",
   "execution_count": 61,
   "outputs": [
    {
     "data": {
      "text/plain": "<bound method DataFrame.count of           likes   dislikes  comment_count\n262    911883.0    53873.0       127481.0\n545   2376636.0   117196.0       134224.0\n717   1735895.0    21969.0       241237.0\n866   2674694.0    46063.0       539309.0\n1396  3093544.0  1643059.0       810698.0\n1499   630523.0     9657.0       210605.0\n1560  1013411.0   140271.0       175929.0\n1567   956937.0    91898.0       157207.0\n1827   879532.0    17542.0       157166.0\n2161   326557.0     2372.0       137991.0\n2319  1402578.0  1674420.0      1361580.0\n2436  1919583.0    73239.0       133601.0\n2777  1844959.0   102849.0       148768.0\n3171  1021328.0     2716.0       117897.0\n3242   859235.0    21765.0       107746.0\n3358  1970266.0   487820.0       647524.0\n3668  1216340.0   291900.0       436698.0\n3913   711348.0     6636.0       193355.0\n4422   145207.0     1721.0       200021.0\n4527  2672431.0    29088.0       477233.0\n4695   264835.0     5210.0       136746.0\n4735  1784129.0    11162.0       180133.0\n4901  1928392.0   113990.0       162990.0\n4911  1036693.0    10869.0       213764.0\n4941  1565579.0    32705.0       194290.0\n5315   800784.0    10683.0       129289.0\n5371   402569.0     9373.0       383762.0\n5380  2162749.0    18342.0       227648.0\n5471  1324609.0   118647.0       238744.0\n5573  1243476.0    44414.0       134673.0\n5642  2562936.0    96851.0       211699.0\n5834  2700800.0    29341.0       371864.0\n5859  1431724.0     6335.0       125168.0\n6196  5595203.0   205565.0      1225326.0\n6204   346030.0   206198.0       140470.0\n6207   564046.0    33508.0       180469.0\n6270  4934188.0   335462.0       509799.0\n6360   387156.0     8882.0       108849.0\n6385  2032463.0   101678.0       320194.0\n6416  1817699.0    11949.0       156793.0>"
     },
     "metadata": {},
     "output_type": "execute_result",
     "execution_count": 61
    }
   ],
   "source": [
    "new[((new.comment_count - new.comment_count.mean()) / new.comment_count.std()).abs() > 3]"
   ],
   "metadata": {
    "collapsed": false,
    "pycharm": {
     "name": "#%%\n",
     "is_executing": false
    }
   }
  },
  {
   "cell_type": "code",
   "execution_count": 60,
   "outputs": [
    {
     "data": {
      "text/plain": "<bound method DataFrame.count of           likes   dislikes  comment_count\n262    911883.0    53873.0       127481.0\n545   2376636.0   117196.0       134224.0\n717   1735895.0    21969.0       241237.0\n866   2674694.0    46063.0       539309.0\n1396  3093544.0  1643059.0       810698.0\n1499   630523.0     9657.0       210605.0\n1560  1013411.0   140271.0       175929.0\n1567   956937.0    91898.0       157207.0\n1827   879532.0    17542.0       157166.0\n2161   326557.0     2372.0       137991.0\n2319  1402578.0  1674420.0      1361580.0\n2436  1919583.0    73239.0       133601.0\n2777  1844959.0   102849.0       148768.0\n3171  1021328.0     2716.0       117897.0\n3242   859235.0    21765.0       107746.0\n3358  1970266.0   487820.0       647524.0\n3668  1216340.0   291900.0       436698.0\n3913   711348.0     6636.0       193355.0\n4422   145207.0     1721.0       200021.0\n4527  2672431.0    29088.0       477233.0\n4695   264835.0     5210.0       136746.0\n4735  1784129.0    11162.0       180133.0\n4901  1928392.0   113990.0       162990.0\n4911  1036693.0    10869.0       213764.0\n4941  1565579.0    32705.0       194290.0\n5315   800784.0    10683.0       129289.0\n5371   402569.0     9373.0       383762.0\n5380  2162749.0    18342.0       227648.0\n5471  1324609.0   118647.0       238744.0\n5573  1243476.0    44414.0       134673.0\n5642  2562936.0    96851.0       211699.0\n5834  2700800.0    29341.0       371864.0\n5859  1431724.0     6335.0       125168.0\n6196  5595203.0   205565.0      1225326.0\n6204   346030.0   206198.0       140470.0\n6207   564046.0    33508.0       180469.0\n6270  4934188.0   335462.0       509799.0\n6360   387156.0     8882.0       108849.0\n6385  2032463.0   101678.0       320194.0\n6416  1817699.0    11949.0       156793.0>"
     },
     "metadata": {},
     "output_type": "execute_result",
     "execution_count": 60
    }
   ],
   "source": [],
   "metadata": {
    "collapsed": false,
    "pycharm": {
     "name": "#%%\n",
     "is_executing": false
    }
   }
  },
  {
   "cell_type": "code",
   "execution_count": null,
   "outputs": [],
   "source": [
    "\n"
   ],
   "metadata": {
    "collapsed": false,
    "pycharm": {
     "name": "#%%\n"
    }
   }
  }
 ],
 "metadata": {
  "kernelspec": {
   "display_name": "Python 3",
   "language": "python",
   "name": "python3"
  },
  "language_info": {
   "codemirror_mode": {
    "name": "ipython",
    "version": 2
   },
   "file_extension": ".py",
   "mimetype": "text/x-python",
   "name": "python",
   "nbconvert_exporter": "python",
   "pygments_lexer": "ipython2",
   "version": "2.7.6"
  },
  "pycharm": {
   "stem_cell": {
    "cell_type": "raw",
    "source": [],
    "metadata": {
     "collapsed": false
    }
   }
  }
 },
 "nbformat": 4,
 "nbformat_minor": 0
}