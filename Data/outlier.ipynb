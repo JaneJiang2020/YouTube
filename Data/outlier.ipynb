{
 "cells": [
  {
   "cell_type": "code",
   "execution_count": 1,
   "metadata": {
    "collapsed": true,
    "pycharm": {
     "is_executing": false
    }
   },
   "outputs": [],
   "source": [
    "import pandas as pd\n",
    "import json\n",
    "import matplotlib.pyplot as plt\n",
    "import seaborn as sns\n",
    "import numpy as np\n",
    "from sklearn.preprocessing import StandardScaler"
   ]
  },
  {
   "cell_type": "code",
   "execution_count": 2,
   "outputs": [
    {
     "data": {
      "text/plain": "views             object\nlikes            float64\ndislikes          object\ncomment_count     object\ndtype: object"
     },
     "metadata": {},
     "output_type": "execute_result",
     "execution_count": 2
    }
   ],
   "source": [
    "df = pd.read_csv(\"features_data.csv\")\n",
    "new = df[['views','likes','dislikes','comment_count']]\n",
    "new.dtypes"
   ],
   "metadata": {
    "collapsed": false,
    "pycharm": {
     "name": "#%%\n",
     "is_executing": false
    }
   }
  },
  {
   "cell_type": "code",
   "execution_count": 3,
   "outputs": [
    {
     "traceback": [
      "\u001b[0;31m---------------------------------------------------------------------------\u001b[0m",
      "\u001b[0;31mValueError\u001b[0m                                Traceback (most recent call last)",
      "\u001b[0;32m<ipython-input-3-986001b2d338>\u001b[0m in \u001b[0;36m<module>\u001b[0;34m\u001b[0m\n\u001b[1;32m      4\u001b[0m \u001b[0;32mimport\u001b[0m \u001b[0mnumpy\u001b[0m \u001b[0;32mas\u001b[0m \u001b[0mnp\u001b[0m\u001b[0;34m\u001b[0m\u001b[0;34m\u001b[0m\u001b[0m\n\u001b[1;32m      5\u001b[0m \u001b[0mss\u001b[0m \u001b[0;34m=\u001b[0m \u001b[0mStandardScaler\u001b[0m\u001b[0;34m(\u001b[0m\u001b[0;34m)\u001b[0m\u001b[0;34m\u001b[0m\u001b[0;34m\u001b[0m\u001b[0m\n\u001b[0;32m----> 6\u001b[0;31m \u001b[0ma\u001b[0m \u001b[0;34m=\u001b[0m \u001b[0mss\u001b[0m\u001b[0;34m.\u001b[0m\u001b[0mfit\u001b[0m\u001b[0;34m(\u001b[0m\u001b[0mnew\u001b[0m\u001b[0;34m)\u001b[0m\u001b[0;34m\u001b[0m\u001b[0;34m\u001b[0m\u001b[0m\n\u001b[0m\u001b[1;32m      7\u001b[0m \u001b[0;34m\u001b[0m\u001b[0m\n",
      "\u001b[0;32m/Library/Frameworks/Python.framework/Versions/3.7/lib/python3.7/site-packages/sklearn/preprocessing/_data.py\u001b[0m in \u001b[0;36mfit\u001b[0;34m(self, X, y)\u001b[0m\n\u001b[1;32m    667\u001b[0m         \u001b[0;31m# Reset internal state before fitting\u001b[0m\u001b[0;34m\u001b[0m\u001b[0;34m\u001b[0m\u001b[0;34m\u001b[0m\u001b[0m\n\u001b[1;32m    668\u001b[0m         \u001b[0mself\u001b[0m\u001b[0;34m.\u001b[0m\u001b[0m_reset\u001b[0m\u001b[0;34m(\u001b[0m\u001b[0;34m)\u001b[0m\u001b[0;34m\u001b[0m\u001b[0;34m\u001b[0m\u001b[0m\n\u001b[0;32m--> 669\u001b[0;31m         \u001b[0;32mreturn\u001b[0m \u001b[0mself\u001b[0m\u001b[0;34m.\u001b[0m\u001b[0mpartial_fit\u001b[0m\u001b[0;34m(\u001b[0m\u001b[0mX\u001b[0m\u001b[0;34m,\u001b[0m \u001b[0my\u001b[0m\u001b[0;34m)\u001b[0m\u001b[0;34m\u001b[0m\u001b[0;34m\u001b[0m\u001b[0m\n\u001b[0m\u001b[1;32m    670\u001b[0m \u001b[0;34m\u001b[0m\u001b[0m\n\u001b[1;32m    671\u001b[0m     \u001b[0;32mdef\u001b[0m \u001b[0mpartial_fit\u001b[0m\u001b[0;34m(\u001b[0m\u001b[0mself\u001b[0m\u001b[0;34m,\u001b[0m \u001b[0mX\u001b[0m\u001b[0;34m,\u001b[0m \u001b[0my\u001b[0m\u001b[0;34m=\u001b[0m\u001b[0;32mNone\u001b[0m\u001b[0;34m)\u001b[0m\u001b[0;34m:\u001b[0m\u001b[0;34m\u001b[0m\u001b[0;34m\u001b[0m\u001b[0m\n",
      "\u001b[0;32m/Library/Frameworks/Python.framework/Versions/3.7/lib/python3.7/site-packages/sklearn/preprocessing/_data.py\u001b[0m in \u001b[0;36mpartial_fit\u001b[0;34m(self, X, y)\u001b[0m\n\u001b[1;32m    698\u001b[0m         X = check_array(X, accept_sparse=('csr', 'csc'),\n\u001b[1;32m    699\u001b[0m                         \u001b[0mestimator\u001b[0m\u001b[0;34m=\u001b[0m\u001b[0mself\u001b[0m\u001b[0;34m,\u001b[0m \u001b[0mdtype\u001b[0m\u001b[0;34m=\u001b[0m\u001b[0mFLOAT_DTYPES\u001b[0m\u001b[0;34m,\u001b[0m\u001b[0;34m\u001b[0m\u001b[0;34m\u001b[0m\u001b[0m\n\u001b[0;32m--> 700\u001b[0;31m                         force_all_finite='allow-nan')\n\u001b[0m\u001b[1;32m    701\u001b[0m \u001b[0;34m\u001b[0m\u001b[0m\n\u001b[1;32m    702\u001b[0m         \u001b[0;31m# Even in the case of `with_mean=False`, we update the mean anyway\u001b[0m\u001b[0;34m\u001b[0m\u001b[0;34m\u001b[0m\u001b[0;34m\u001b[0m\u001b[0m\n",
      "\u001b[0;32m/Library/Frameworks/Python.framework/Versions/3.7/lib/python3.7/site-packages/sklearn/utils/validation.py\u001b[0m in \u001b[0;36mcheck_array\u001b[0;34m(array, accept_sparse, accept_large_sparse, dtype, order, copy, force_all_finite, ensure_2d, allow_nd, ensure_min_samples, ensure_min_features, warn_on_dtype, estimator)\u001b[0m\n\u001b[1;32m    513\u001b[0m                     \u001b[0marray\u001b[0m \u001b[0;34m=\u001b[0m \u001b[0marray\u001b[0m\u001b[0;34m.\u001b[0m\u001b[0mastype\u001b[0m\u001b[0;34m(\u001b[0m\u001b[0mdtype\u001b[0m\u001b[0;34m,\u001b[0m \u001b[0mcasting\u001b[0m\u001b[0;34m=\u001b[0m\u001b[0;34m\"unsafe\"\u001b[0m\u001b[0;34m,\u001b[0m \u001b[0mcopy\u001b[0m\u001b[0;34m=\u001b[0m\u001b[0;32mFalse\u001b[0m\u001b[0;34m)\u001b[0m\u001b[0;34m\u001b[0m\u001b[0;34m\u001b[0m\u001b[0m\n\u001b[1;32m    514\u001b[0m                 \u001b[0;32melse\u001b[0m\u001b[0;34m:\u001b[0m\u001b[0;34m\u001b[0m\u001b[0;34m\u001b[0m\u001b[0m\n\u001b[0;32m--> 515\u001b[0;31m                     \u001b[0marray\u001b[0m \u001b[0;34m=\u001b[0m \u001b[0mnp\u001b[0m\u001b[0;34m.\u001b[0m\u001b[0masarray\u001b[0m\u001b[0;34m(\u001b[0m\u001b[0marray\u001b[0m\u001b[0;34m,\u001b[0m \u001b[0morder\u001b[0m\u001b[0;34m=\u001b[0m\u001b[0morder\u001b[0m\u001b[0;34m,\u001b[0m \u001b[0mdtype\u001b[0m\u001b[0;34m=\u001b[0m\u001b[0mdtype\u001b[0m\u001b[0;34m)\u001b[0m\u001b[0;34m\u001b[0m\u001b[0;34m\u001b[0m\u001b[0m\n\u001b[0m\u001b[1;32m    516\u001b[0m             \u001b[0;32mexcept\u001b[0m \u001b[0mComplexWarning\u001b[0m\u001b[0;34m:\u001b[0m\u001b[0;34m\u001b[0m\u001b[0;34m\u001b[0m\u001b[0m\n\u001b[1;32m    517\u001b[0m                 raise ValueError(\"Complex data not supported\\n\"\n",
      "\u001b[0;32m/Library/Frameworks/Python.framework/Versions/3.7/lib/python3.7/site-packages/numpy/core/_asarray.py\u001b[0m in \u001b[0;36masarray\u001b[0;34m(a, dtype, order)\u001b[0m\n\u001b[1;32m     83\u001b[0m \u001b[0;34m\u001b[0m\u001b[0m\n\u001b[1;32m     84\u001b[0m     \"\"\"\n\u001b[0;32m---> 85\u001b[0;31m     \u001b[0;32mreturn\u001b[0m \u001b[0marray\u001b[0m\u001b[0;34m(\u001b[0m\u001b[0ma\u001b[0m\u001b[0;34m,\u001b[0m \u001b[0mdtype\u001b[0m\u001b[0;34m,\u001b[0m \u001b[0mcopy\u001b[0m\u001b[0;34m=\u001b[0m\u001b[0;32mFalse\u001b[0m\u001b[0;34m,\u001b[0m \u001b[0morder\u001b[0m\u001b[0;34m=\u001b[0m\u001b[0morder\u001b[0m\u001b[0;34m)\u001b[0m\u001b[0;34m\u001b[0m\u001b[0;34m\u001b[0m\u001b[0m\n\u001b[0m\u001b[1;32m     86\u001b[0m \u001b[0;34m\u001b[0m\u001b[0m\n\u001b[1;32m     87\u001b[0m \u001b[0;34m\u001b[0m\u001b[0m\n",
      "\u001b[0;31mValueError\u001b[0m: could not convert string to float: 'True'"
     ],
     "ename": "ValueError",
     "evalue": "could not convert string to float: 'True'",
     "output_type": "error"
    }
   ],
   "source": [
    "from sklearn.preprocessing import StandardScaler\n",
    "# Standardize the features and target\n",
    "# Implement me\n",
    "import numpy as np\n",
    "ss = StandardScaler()\n",
    "a = ss.fit(new)"
   ],
   "metadata": {
    "collapsed": false,
    "pycharm": {
     "name": "#%%\n",
     "is_executing": false
    }
   }
  },
  {
   "cell_type": "code",
   "execution_count": 4,
   "outputs": [
    {
     "traceback": [
      "\u001b[0;31m---------------------------------------------------------------------------\u001b[0m",
      "\u001b[0;31mNameError\u001b[0m                                 Traceback (most recent call last)",
      "\u001b[0;32m<ipython-input-4-4b728c0ea801>\u001b[0m in \u001b[0;36m<module>\u001b[0;34m\u001b[0m\n\u001b[0;32m----> 1\u001b[0;31m \u001b[0ma\u001b[0m\u001b[0;34m\u001b[0m\u001b[0;34m\u001b[0m\u001b[0m\n\u001b[0m\u001b[1;32m      2\u001b[0m \u001b[0;34m\u001b[0m\u001b[0m\n",
      "\u001b[0;31mNameError\u001b[0m: name 'a' is not defined"
     ],
     "ename": "NameError",
     "evalue": "name 'a' is not defined",
     "output_type": "error"
    }
   ],
   "source": [
    "a"
   ],
   "metadata": {
    "collapsed": false,
    "pycharm": {
     "name": "#%%\n",
     "is_executing": false
    }
   }
  },
  {
   "cell_type": "code",
   "execution_count": 5,
   "outputs": [
    {
     "traceback": [
      "\u001b[0;31m---------------------------------------------------------------------------\u001b[0m",
      "\u001b[0;31mTypeError\u001b[0m                                 Traceback (most recent call last)",
      "\u001b[0;32m<ipython-input-5-6c9667caaaca>\u001b[0m in \u001b[0;36m<module>\u001b[0;34m\u001b[0m\n\u001b[1;32m      2\u001b[0m \u001b[0msd\u001b[0m \u001b[0;34m=\u001b[0m \u001b[0mnp\u001b[0m\u001b[0;34m.\u001b[0m\u001b[0mstd\u001b[0m\u001b[0;34m(\u001b[0m\u001b[0mnew\u001b[0m\u001b[0;34m)\u001b[0m\u001b[0;34m\u001b[0m\u001b[0;34m\u001b[0m\u001b[0m\n\u001b[1;32m      3\u001b[0m \u001b[0mb\u001b[0m \u001b[0;34m=\u001b[0m \u001b[0mmean\u001b[0m \u001b[0;34m-\u001b[0m \u001b[0;36m2\u001b[0m \u001b[0;34m*\u001b[0m \u001b[0msd\u001b[0m\u001b[0;34m\u001b[0m\u001b[0;34m\u001b[0m\u001b[0m\n\u001b[0;32m----> 4\u001b[0;31m \u001b[0mfinal_list\u001b[0m \u001b[0;34m=\u001b[0m \u001b[0;34m[\u001b[0m\u001b[0mx\u001b[0m \u001b[0;32mfor\u001b[0m \u001b[0mx\u001b[0m \u001b[0;32min\u001b[0m \u001b[0mnew\u001b[0m \u001b[0;32mif\u001b[0m \u001b[0;34m(\u001b[0m\u001b[0mx\u001b[0m \u001b[0;34m>\u001b[0m \u001b[0mb\u001b[0m\u001b[0;34m)\u001b[0m\u001b[0;34m]\u001b[0m\u001b[0;34m\u001b[0m\u001b[0;34m\u001b[0m\u001b[0m\n\u001b[0m\u001b[1;32m      5\u001b[0m \u001b[0mfinal_list\u001b[0m \u001b[0;34m=\u001b[0m \u001b[0;34m[\u001b[0m\u001b[0mx\u001b[0m \u001b[0;32mfor\u001b[0m \u001b[0mx\u001b[0m \u001b[0;32min\u001b[0m \u001b[0mnew\u001b[0m \u001b[0;32mif\u001b[0m \u001b[0;34m(\u001b[0m\u001b[0mx\u001b[0m \u001b[0;34m<\u001b[0m \u001b[0mb\u001b[0m\u001b[0;34m)\u001b[0m\u001b[0;34m]\u001b[0m\u001b[0;34m\u001b[0m\u001b[0;34m\u001b[0m\u001b[0m\n\u001b[1;32m      6\u001b[0m \u001b[0mprint\u001b[0m\u001b[0;34m(\u001b[0m\u001b[0mfinal_list\u001b[0m\u001b[0;34m)\u001b[0m\u001b[0;34m\u001b[0m\u001b[0;34m\u001b[0m\u001b[0m\n",
      "\u001b[0;32m<ipython-input-5-6c9667caaaca>\u001b[0m in \u001b[0;36m<listcomp>\u001b[0;34m(.0)\u001b[0m\n\u001b[1;32m      2\u001b[0m \u001b[0msd\u001b[0m \u001b[0;34m=\u001b[0m \u001b[0mnp\u001b[0m\u001b[0;34m.\u001b[0m\u001b[0mstd\u001b[0m\u001b[0;34m(\u001b[0m\u001b[0mnew\u001b[0m\u001b[0;34m)\u001b[0m\u001b[0;34m\u001b[0m\u001b[0;34m\u001b[0m\u001b[0m\n\u001b[1;32m      3\u001b[0m \u001b[0mb\u001b[0m \u001b[0;34m=\u001b[0m \u001b[0mmean\u001b[0m \u001b[0;34m-\u001b[0m \u001b[0;36m2\u001b[0m \u001b[0;34m*\u001b[0m \u001b[0msd\u001b[0m\u001b[0;34m\u001b[0m\u001b[0;34m\u001b[0m\u001b[0m\n\u001b[0;32m----> 4\u001b[0;31m \u001b[0mfinal_list\u001b[0m \u001b[0;34m=\u001b[0m \u001b[0;34m[\u001b[0m\u001b[0mx\u001b[0m \u001b[0;32mfor\u001b[0m \u001b[0mx\u001b[0m \u001b[0;32min\u001b[0m \u001b[0mnew\u001b[0m \u001b[0;32mif\u001b[0m \u001b[0;34m(\u001b[0m\u001b[0mx\u001b[0m \u001b[0;34m>\u001b[0m \u001b[0mb\u001b[0m\u001b[0;34m)\u001b[0m\u001b[0;34m]\u001b[0m\u001b[0;34m\u001b[0m\u001b[0;34m\u001b[0m\u001b[0m\n\u001b[0m\u001b[1;32m      5\u001b[0m \u001b[0mfinal_list\u001b[0m \u001b[0;34m=\u001b[0m \u001b[0;34m[\u001b[0m\u001b[0mx\u001b[0m \u001b[0;32mfor\u001b[0m \u001b[0mx\u001b[0m \u001b[0;32min\u001b[0m \u001b[0mnew\u001b[0m \u001b[0;32mif\u001b[0m \u001b[0;34m(\u001b[0m\u001b[0mx\u001b[0m \u001b[0;34m<\u001b[0m \u001b[0mb\u001b[0m\u001b[0;34m)\u001b[0m\u001b[0;34m]\u001b[0m\u001b[0;34m\u001b[0m\u001b[0;34m\u001b[0m\u001b[0m\n\u001b[1;32m      6\u001b[0m \u001b[0mprint\u001b[0m\u001b[0;34m(\u001b[0m\u001b[0mfinal_list\u001b[0m\u001b[0;34m)\u001b[0m\u001b[0;34m\u001b[0m\u001b[0;34m\u001b[0m\u001b[0m\n",
      "\u001b[0;32m/Library/Frameworks/Python.framework/Versions/3.7/lib/python3.7/site-packages/pandas/core/ops/__init__.py\u001b[0m in \u001b[0;36mwrapper\u001b[0;34m(self, other, axis)\u001b[0m\n\u001b[1;32m   1227\u001b[0m \u001b[0;34m\u001b[0m\u001b[0m\n\u001b[1;32m   1228\u001b[0m             \u001b[0;32mwith\u001b[0m \u001b[0mnp\u001b[0m\u001b[0;34m.\u001b[0m\u001b[0merrstate\u001b[0m\u001b[0;34m(\u001b[0m\u001b[0mall\u001b[0m\u001b[0;34m=\u001b[0m\u001b[0;34m\"ignore\"\u001b[0m\u001b[0;34m)\u001b[0m\u001b[0;34m:\u001b[0m\u001b[0;34m\u001b[0m\u001b[0;34m\u001b[0m\u001b[0m\n\u001b[0;32m-> 1229\u001b[0;31m                 \u001b[0mres\u001b[0m \u001b[0;34m=\u001b[0m \u001b[0mna_op\u001b[0m\u001b[0;34m(\u001b[0m\u001b[0mvalues\u001b[0m\u001b[0;34m,\u001b[0m \u001b[0mother\u001b[0m\u001b[0;34m)\u001b[0m\u001b[0;34m\u001b[0m\u001b[0;34m\u001b[0m\u001b[0m\n\u001b[0m\u001b[1;32m   1230\u001b[0m             \u001b[0;32mif\u001b[0m \u001b[0mis_scalar\u001b[0m\u001b[0;34m(\u001b[0m\u001b[0mres\u001b[0m\u001b[0;34m)\u001b[0m\u001b[0;34m:\u001b[0m\u001b[0;34m\u001b[0m\u001b[0;34m\u001b[0m\u001b[0m\n\u001b[1;32m   1231\u001b[0m                 raise TypeError(\n",
      "\u001b[0;32m/Library/Frameworks/Python.framework/Versions/3.7/lib/python3.7/site-packages/pandas/core/ops/__init__.py\u001b[0m in \u001b[0;36mna_op\u001b[0;34m(x, y)\u001b[0m\n\u001b[1;32m   1115\u001b[0m                     \u001b[0mresult\u001b[0m \u001b[0;34m=\u001b[0m \u001b[0mmethod\u001b[0m\u001b[0;34m(\u001b[0m\u001b[0my\u001b[0m\u001b[0;34m)\u001b[0m\u001b[0;34m\u001b[0m\u001b[0;34m\u001b[0m\u001b[0m\n\u001b[1;32m   1116\u001b[0m                 \u001b[0;32mif\u001b[0m \u001b[0mresult\u001b[0m \u001b[0;32mis\u001b[0m \u001b[0mNotImplemented\u001b[0m\u001b[0;34m:\u001b[0m\u001b[0;34m\u001b[0m\u001b[0;34m\u001b[0m\u001b[0m\n\u001b[0;32m-> 1117\u001b[0;31m                     \u001b[0;32mreturn\u001b[0m \u001b[0minvalid_comparison\u001b[0m\u001b[0;34m(\u001b[0m\u001b[0mx\u001b[0m\u001b[0;34m,\u001b[0m \u001b[0my\u001b[0m\u001b[0;34m,\u001b[0m \u001b[0mop\u001b[0m\u001b[0;34m)\u001b[0m\u001b[0;34m\u001b[0m\u001b[0;34m\u001b[0m\u001b[0m\n\u001b[0m\u001b[1;32m   1118\u001b[0m             \u001b[0;32melse\u001b[0m\u001b[0;34m:\u001b[0m\u001b[0;34m\u001b[0m\u001b[0;34m\u001b[0m\u001b[0m\n\u001b[1;32m   1119\u001b[0m                 \u001b[0mresult\u001b[0m \u001b[0;34m=\u001b[0m \u001b[0mop\u001b[0m\u001b[0;34m(\u001b[0m\u001b[0mx\u001b[0m\u001b[0;34m,\u001b[0m \u001b[0my\u001b[0m\u001b[0;34m)\u001b[0m\u001b[0;34m\u001b[0m\u001b[0;34m\u001b[0m\u001b[0m\n",
      "\u001b[0;32m/Library/Frameworks/Python.framework/Versions/3.7/lib/python3.7/site-packages/pandas/core/ops/__init__.py\u001b[0m in \u001b[0;36minvalid_comparison\u001b[0;34m(left, right, op)\u001b[0m\n\u001b[1;32m    495\u001b[0m         raise TypeError(\n\u001b[1;32m    496\u001b[0m             \"Invalid comparison between dtype={dtype} and {typ}\".format(\n\u001b[0;32m--> 497\u001b[0;31m                 \u001b[0mdtype\u001b[0m\u001b[0;34m=\u001b[0m\u001b[0mleft\u001b[0m\u001b[0;34m.\u001b[0m\u001b[0mdtype\u001b[0m\u001b[0;34m,\u001b[0m \u001b[0mtyp\u001b[0m\u001b[0;34m=\u001b[0m\u001b[0mtype\u001b[0m\u001b[0;34m(\u001b[0m\u001b[0mright\u001b[0m\u001b[0;34m)\u001b[0m\u001b[0;34m.\u001b[0m\u001b[0m__name__\u001b[0m\u001b[0;34m\u001b[0m\u001b[0;34m\u001b[0m\u001b[0m\n\u001b[0m\u001b[1;32m    498\u001b[0m             )\n\u001b[1;32m    499\u001b[0m         )\n",
      "\u001b[0;31mTypeError\u001b[0m: Invalid comparison between dtype=float64 and str"
     ],
     "ename": "TypeError",
     "evalue": "Invalid comparison between dtype=float64 and str",
     "output_type": "error"
    }
   ],
   "source": [
    "mean = np.mean(new)\n",
    "sd = np.std(new)\n",
    "b = mean - 2 * sd\n",
    "final_list = [x for x in new if (x > b)]\n",
    "final_list = [x for x in new if (x < b)]\n",
    "print(final_list)\n",
    "    \n",
    "\n",
    "    \n",
    "    "
   ],
   "metadata": {
    "collapsed": false,
    "pycharm": {
     "name": "#%%\n",
     "is_executing": false
    }
   }
  },
  {
   "cell_type": "code",
   "execution_count": 6,
   "outputs": [
    {
     "traceback": [
      "\u001b[0;31m---------------------------------------------------------------------------\u001b[0m",
      "\u001b[0;31mTypeError\u001b[0m                                 Traceback (most recent call last)",
      "\u001b[0;32m<ipython-input-6-393d27514595>\u001b[0m in \u001b[0;36m<module>\u001b[0;34m\u001b[0m\n\u001b[1;32m      1\u001b[0m \u001b[0;32mfrom\u001b[0m \u001b[0mscipy\u001b[0m \u001b[0;32mimport\u001b[0m \u001b[0mstats\u001b[0m\u001b[0;34m\u001b[0m\u001b[0;34m\u001b[0m\u001b[0m\n\u001b[0;32m----> 2\u001b[0;31m \u001b[0mnew\u001b[0m\u001b[0;34m[\u001b[0m\u001b[0;34m(\u001b[0m\u001b[0mnp\u001b[0m\u001b[0;34m.\u001b[0m\u001b[0mabs\u001b[0m\u001b[0;34m(\u001b[0m\u001b[0mstats\u001b[0m\u001b[0;34m.\u001b[0m\u001b[0mzscore\u001b[0m\u001b[0;34m(\u001b[0m\u001b[0mnew\u001b[0m\u001b[0;34m)\u001b[0m\u001b[0;34m)\u001b[0m \u001b[0;34m<\u001b[0m \u001b[0;36m3\u001b[0m\u001b[0;34m)\u001b[0m\u001b[0;34m.\u001b[0m\u001b[0mall\u001b[0m\u001b[0;34m(\u001b[0m\u001b[0maxis\u001b[0m\u001b[0;34m=\u001b[0m\u001b[0;36m1\u001b[0m\u001b[0;34m)\u001b[0m\u001b[0;34m]\u001b[0m\u001b[0;34m\u001b[0m\u001b[0;34m\u001b[0m\u001b[0m\n\u001b[0m\u001b[1;32m      3\u001b[0m \u001b[0;34m\u001b[0m\u001b[0m\n\u001b[1;32m      4\u001b[0m \u001b[0;34m\u001b[0m\u001b[0m\n",
      "\u001b[0;32m/Library/Frameworks/Python.framework/Versions/3.7/lib/python3.7/site-packages/scipy/stats/stats.py\u001b[0m in \u001b[0;36mzscore\u001b[0;34m(a, axis, ddof)\u001b[0m\n\u001b[1;32m   2307\u001b[0m     \"\"\"\n\u001b[1;32m   2308\u001b[0m     \u001b[0ma\u001b[0m \u001b[0;34m=\u001b[0m \u001b[0mnp\u001b[0m\u001b[0;34m.\u001b[0m\u001b[0masanyarray\u001b[0m\u001b[0;34m(\u001b[0m\u001b[0ma\u001b[0m\u001b[0;34m)\u001b[0m\u001b[0;34m\u001b[0m\u001b[0;34m\u001b[0m\u001b[0m\n\u001b[0;32m-> 2309\u001b[0;31m     \u001b[0mmns\u001b[0m \u001b[0;34m=\u001b[0m \u001b[0ma\u001b[0m\u001b[0;34m.\u001b[0m\u001b[0mmean\u001b[0m\u001b[0;34m(\u001b[0m\u001b[0maxis\u001b[0m\u001b[0;34m=\u001b[0m\u001b[0maxis\u001b[0m\u001b[0;34m)\u001b[0m\u001b[0;34m\u001b[0m\u001b[0;34m\u001b[0m\u001b[0m\n\u001b[0m\u001b[1;32m   2310\u001b[0m     \u001b[0msstd\u001b[0m \u001b[0;34m=\u001b[0m \u001b[0ma\u001b[0m\u001b[0;34m.\u001b[0m\u001b[0mstd\u001b[0m\u001b[0;34m(\u001b[0m\u001b[0maxis\u001b[0m\u001b[0;34m=\u001b[0m\u001b[0maxis\u001b[0m\u001b[0;34m,\u001b[0m \u001b[0mddof\u001b[0m\u001b[0;34m=\u001b[0m\u001b[0mddof\u001b[0m\u001b[0;34m)\u001b[0m\u001b[0;34m\u001b[0m\u001b[0;34m\u001b[0m\u001b[0m\n\u001b[1;32m   2311\u001b[0m     \u001b[0;32mif\u001b[0m \u001b[0maxis\u001b[0m \u001b[0;32mand\u001b[0m \u001b[0mmns\u001b[0m\u001b[0;34m.\u001b[0m\u001b[0mndim\u001b[0m \u001b[0;34m<\u001b[0m \u001b[0ma\u001b[0m\u001b[0;34m.\u001b[0m\u001b[0mndim\u001b[0m\u001b[0;34m:\u001b[0m\u001b[0;34m\u001b[0m\u001b[0;34m\u001b[0m\u001b[0m\n",
      "\u001b[0;32m/Library/Frameworks/Python.framework/Versions/3.7/lib/python3.7/site-packages/numpy/core/_methods.py\u001b[0m in \u001b[0;36m_mean\u001b[0;34m(a, axis, dtype, out, keepdims)\u001b[0m\n\u001b[1;32m    149\u001b[0m             \u001b[0mis_float16_result\u001b[0m \u001b[0;34m=\u001b[0m \u001b[0;32mTrue\u001b[0m\u001b[0;34m\u001b[0m\u001b[0;34m\u001b[0m\u001b[0m\n\u001b[1;32m    150\u001b[0m \u001b[0;34m\u001b[0m\u001b[0m\n\u001b[0;32m--> 151\u001b[0;31m     \u001b[0mret\u001b[0m \u001b[0;34m=\u001b[0m \u001b[0mumr_sum\u001b[0m\u001b[0;34m(\u001b[0m\u001b[0marr\u001b[0m\u001b[0;34m,\u001b[0m \u001b[0maxis\u001b[0m\u001b[0;34m,\u001b[0m \u001b[0mdtype\u001b[0m\u001b[0;34m,\u001b[0m \u001b[0mout\u001b[0m\u001b[0;34m,\u001b[0m \u001b[0mkeepdims\u001b[0m\u001b[0;34m)\u001b[0m\u001b[0;34m\u001b[0m\u001b[0;34m\u001b[0m\u001b[0m\n\u001b[0m\u001b[1;32m    152\u001b[0m     \u001b[0;32mif\u001b[0m \u001b[0misinstance\u001b[0m\u001b[0;34m(\u001b[0m\u001b[0mret\u001b[0m\u001b[0;34m,\u001b[0m \u001b[0mmu\u001b[0m\u001b[0;34m.\u001b[0m\u001b[0mndarray\u001b[0m\u001b[0;34m)\u001b[0m\u001b[0;34m:\u001b[0m\u001b[0;34m\u001b[0m\u001b[0;34m\u001b[0m\u001b[0m\n\u001b[1;32m    153\u001b[0m         ret = um.true_divide(\n",
      "\u001b[0;31mTypeError\u001b[0m: can only concatenate str (not \"float\") to str"
     ],
     "ename": "TypeError",
     "evalue": "can only concatenate str (not \"float\") to str",
     "output_type": "error"
    }
   ],
   "source": [
    "\n",
    "\n",
    "\n",
    "from scipy import stats\n",
    "new[(np.abs(stats.zscore(new)) < 3).all(axis=1)]\n"
   ],
   "metadata": {
    "collapsed": false,
    "pycharm": {
     "name": "#%%\n",
     "is_executing": false
    }
   }
  },
  {
   "cell_type": "markdown",
   "source": [
    "Visualizing outliers"
   ],
   "metadata": {
    "collapsed": false,
    "pycharm": {
     "name": "#%% md\n",
     "is_executing": false
    }
   }
  },
  {
   "cell_type": "code",
   "execution_count": 8,
   "outputs": [
    {
     "name": "stderr",
     "text": [
      "/Library/Frameworks/Python.framework/Versions/3.7/lib/python3.7/site-packages/ipykernel_launcher.py:4: SettingWithCopyWarning: \n",
      "A value is trying to be set on a copy of a slice from a DataFrame.\n",
      "Try using .loc[row_indexer,col_indexer] = value instead\n",
      "\n",
      "See the caveats in the documentation: http://pandas.pydata.org/pandas-docs/stable/user_guide/indexing.html#returning-a-view-versus-a-copy\n",
      "  after removing the cwd from sys.path.\n",
      "/Library/Frameworks/Python.framework/Versions/3.7/lib/python3.7/site-packages/ipykernel_launcher.py:5: SettingWithCopyWarning: \n",
      "A value is trying to be set on a copy of a slice from a DataFrame.\n",
      "Try using .loc[row_indexer,col_indexer] = value instead\n",
      "\n",
      "See the caveats in the documentation: http://pandas.pydata.org/pandas-docs/stable/user_guide/indexing.html#returning-a-view-versus-a-copy\n",
      "  \"\"\"\n",
      "/Library/Frameworks/Python.framework/Versions/3.7/lib/python3.7/site-packages/ipykernel_launcher.py:7: SettingWithCopyWarning: \n",
      "A value is trying to be set on a copy of a slice from a DataFrame.\n",
      "Try using .loc[row_indexer,col_indexer] = value instead\n",
      "\n",
      "See the caveats in the documentation: http://pandas.pydata.org/pandas-docs/stable/user_guide/indexing.html#returning-a-view-versus-a-copy\n",
      "  import sys\n",
      "/Library/Frameworks/Python.framework/Versions/3.7/lib/python3.7/site-packages/ipykernel_launcher.py:8: SettingWithCopyWarning: \n",
      "A value is trying to be set on a copy of a slice from a DataFrame.\n",
      "Try using .loc[row_indexer,col_indexer] = value instead\n",
      "\n",
      "See the caveats in the documentation: http://pandas.pydata.org/pandas-docs/stable/user_guide/indexing.html#returning-a-view-versus-a-copy\n",
      "  \n"
     ],
     "output_type": "stream"
    },
    {
     "data": {
      "text/plain": "<matplotlib.axes._subplots.AxesSubplot at 0x11e1be250>"
     },
     "metadata": {},
     "output_type": "execute_result",
     "execution_count": 8
    },
    {
     "data": {
      "text/plain": "<Figure size 432x288 with 1 Axes>",
      "image/png": "[encoded data removed]"
     },
     "metadata": {
      "needs_background": "light"
     },
     "output_type": "display_data"
    }
   ],
   "source": [
    "import seaborn as sns\n",
    "\n",
    "\n",
    "new[\"views\"] = pd.to_numeric(new.views, errors='coerce')\n",
    "new[\"likes\"] = pd.to_numeric(new.likes, errors='coerce')\n",
    "new.dtypes\n",
    "new[\"dislikes\"] = pd.to_numeric(new.dislikes, errors='coerce')\n",
    "new[\"comment_count\"] = pd.to_numeric(new.comment_count, errors='coerce')\n",
    "sns.boxplot(x=new['likes'])"
   ],
   "metadata": {
    "collapsed": false,
    "pycharm": {
     "name": "#%%\n",
     "is_executing": false
    }
   }
  },
  {
   "cell_type": "code",
   "execution_count": 9,
   "outputs": [
    {
     "data": {
      "text/plain": "<matplotlib.axes._subplots.AxesSubplot at 0x11dfb2550>"
     },
     "metadata": {},
     "output_type": "execute_result",
     "execution_count": 9
    },
    {
     "data": {
      "text/plain": "<Figure size 432x288 with 1 Axes>",
      "image/png": "[encoded data removed]"
     },
     "metadata": {
      "needs_background": "light"
     },
     "output_type": "display_data"
    }
   ],
   "source": [
    "sns.boxplot(x=new['dislikes'])"
   ],
   "metadata": {
    "collapsed": false,
    "pycharm": {
     "name": "#%%\n",
     "is_executing": false
    }
   }
  },
  {
   "cell_type": "code",
   "execution_count": 10,
   "outputs": [
    {
     "data": {
      "text/plain": "<matplotlib.axes._subplots.AxesSubplot at 0x1202ed550>"
     },
     "metadata": {},
     "output_type": "execute_result",
     "execution_count": 10
    },
    {
     "data": {
      "text/plain": "<Figure size 432x288 with 1 Axes>",
      "image/png": "[encoded data removed]"
     },
     "metadata": {
      "needs_background": "light"
     },
     "output_type": "display_data"
    }
   ],
   "source": [
    "sns.boxplot(x=new['views'])"
   ],
   "metadata": {
    "collapsed": false,
    "pycharm": {
     "name": "#%%\n",
     "is_executing": false
    }
   }
  },
  {
   "cell_type": "code",
   "execution_count": 11,
   "outputs": [
    {
     "data": {
      "text/plain": "<matplotlib.axes._subplots.AxesSubplot at 0x11e1d4f10>"
     },
     "metadata": {},
     "output_type": "execute_result",
     "execution_count": 11
    },
    {
     "data": {
      "text/plain": "<Figure size 432x288 with 1 Axes>",
      "image/png": "[encoded data removed]"
     },
     "metadata": {
      "needs_background": "light"
     },
     "output_type": "display_data"
    }
   ],
   "source": [
    "sns.boxplot(x=new['comment_count'])\n",
    "\n",
    "\n",
    "\n"
   ],
   "metadata": {
    "collapsed": false,
    "pycharm": {
     "name": "#%%\n",
     "is_executing": false
    }
   }
  },
  {
   "cell_type": "markdown",
   "source": [
    "Computing outliers"
   ],
   "metadata": {
    "collapsed": false
   }
  },
  {
   "cell_type": "code",
   "execution_count": 12,
   "outputs": [],
   "source": [
    "q = new[\"likes\"].quantile(0.99)\n",
    "outliers_like = new[new[\"likes\"] > q]"
   ],
   "metadata": {
    "collapsed": false,
    "pycharm": {
     "name": "#%%\n",
     "is_executing": false
    }
   }
  },
  {
   "cell_type": "code",
   "execution_count": 13,
   "outputs": [],
   "source": [
    "q = new[\"dislikes\"].quantile(0.99)\n",
    "outliers_dislike= new[new[\"dislikes\"] > q]"
   ],
   "metadata": {
    "collapsed": false,
    "pycharm": {
     "name": "#%%\n",
     "is_executing": false
    }
   }
  },
  {
   "cell_type": "code",
   "execution_count": 14,
   "outputs": [],
   "source": [
    "q = new[\"views\"].quantile(0.99)\n",
    "outliers_views= new[new[\"views\"] > q]\n",
    "\n",
    "\n",
    "\n"
   ],
   "metadata": {
    "collapsed": false,
    "pycharm": {
     "name": "#%%\n",
     "is_executing": false
    }
   }
  },
  {
   "cell_type": "code",
   "execution_count": 15,
   "outputs": [],
   "source": [
    "q = new[\"comment_count\"].quantile(0.99)\n",
    "outliers_comment_count = new[new[\"comment_count\"] > q]"
   ],
   "metadata": {
    "collapsed": false,
    "pycharm": {
     "name": "#%%\n",
     "is_executing": false
    }
   }
  },
  {
   "cell_type": "markdown",
   "source": [
    "Outlier Treatment\n"
   ],
   "metadata": {
    "collapsed": false
   }
  },
  {
   "cell_type": "code",
   "execution_count": 16,
   "outputs": [
    {
     "data": {
      "text/plain": "     Unnamed: 0     video_id        trending_date  \\\n0            10  9wRQljFNDW8  2017-11-14 00:00:00   \n1            36  Om_zGhJLZ5U  2017-11-14 00:00:00   \n2            41  goP4Z5wyOlM  2017-11-14 00:00:00   \n3            55  8NHA23f7LvU  2017-11-14 00:00:00   \n4            76  IE-xepGLVt8  2017-11-14 00:00:00   \n...         ...          ...                  ...   \n6434      40881  mHd8Ug4ljN4  2018-06-14 00:00:00   \n6435      40884  LU86T12xBQQ  2018-06-14 00:00:00   \n6436      40885  wI6a1t-M_48  2018-06-14 00:00:00   \n6437      40895  X9fHoWLf1w0  2018-06-14 00:00:00   \n6438      40947  oV0zkMe1K8s  2018-06-14 00:00:00   \n\n                                                  title  \\\n0     Dion Lewis' 103-Yd Kick Return TD vs. Denver! ...   \n1        TL;DW - Every DCEU Movie Before Justice League   \n2     Iraq-Iran earthquake: Deadly tremor hits borde...   \n3     Jason Momoa Wows Hugh Grant With Some Dothraki...   \n4     Mayo Clinic's first face transplant patient me...   \n...                                                 ...   \n6434  Broadway's 'Frozen' cast performs 'For the Fir...   \n6435                Artist Vs. Designer: DIY Prom Dress   \n6436  Yale Graduation Speaker Breaks Up with Boyfrie...   \n6437                    The Best BBQ Meat | Great Taste   \n6438                How Black Panther Should Have Ended   \n\n                 channel_title  category_id         publish_time  \\\n0                          NFL         17.0  2017-11-13 02:05:26   \n1               Screen Junkies          1.0  2017-11-12 18:00:03   \n2                     BBC News         25.0  2017-11-12 21:16:40   \n3       The Graham Norton Show         24.0  2017-11-10 19:06:23   \n4                  Mayo Clinic         28.0  2017-11-10 12:04:17   \n...                        ...          ...                  ...   \n6434      Good Morning America         24.0  2018-05-30 13:55:16   \n6435                     As/Is         22.0  2018-05-30 22:00:25   \n6436            Ben Kronengold         22.0  2018-05-21 19:37:09   \n6437           All Def Digital         24.0  2018-05-26 16:00:04   \n6438  How It Should Have Ended          1.0  2018-05-17 17:00:04   \n\n                                                   tags    views     likes  \\\n0     NFL|\"Football\"|\"offense\"|\"defense\"|\"afc\"|\"nfc\"...    81377     655.0   \n1     screenjunkies|\"screen junkies\"|\"sj news\"|\"hone...   288922    7515.0   \n2     bbc|\"bbc news\"|\"news\"|\"iran\"|\"iran news\"|\"iraq...    34785     308.0   \n3     Graham Norton|\"Graham Norton Show Official\"|\"E...  1496225   16116.0   \n4     Mayo Clinic|\"Health Care (Issue)\"|\"Healthcare ...   237307    1896.0   \n...                                                 ...      ...       ...   \n6434  broadway|\"frozen\"|\"cast\"|\"performs\"|\"for\"|\"the...   735189   13364.0   \n6435  BuzzFeed|\"As/Is\"|\"Prom Season\"|\"video\"|\"prom\"|...   820885   21819.0   \n6436  commencement|\"commencement speech\"|\"yale\"|\"yal...  2771306   81319.0   \n6437  The Best BBQ Meat|\"barbecue\"|\"barbeque\"|\"doboy...   608459   21784.0   \n6438  Black Panther|\"HISHE\"|\"Marvel\"|\"Infinity War\"|...  5660813  192957.0   \n\n      ...   sec count_word count_word_tags count_unique_word  \\\n0     ...  26.0       16.0             8.0              15.0   \n1     ...   3.0        8.0            33.0               8.0   \n2     ...  40.0       10.0             6.0              10.0   \n3     ...  23.0       13.0            29.0              13.0   \n4     ...  17.0        9.0            20.0               9.0   \n...   ...   ...        ...             ...               ...   \n6434  ...  16.0       10.0             8.0              10.0   \n6435  ...  25.0        6.0            11.0               6.0   \n6436  ...   9.0       15.0            25.0              15.0   \n6437  ...   4.0        7.0            45.0               7.0   \n6438  ...   4.0        6.0            15.0               6.0   \n\n     count_unique_word_tags count_tags    neutral y_cat_1  y_cat_2  y_cat_3  \n0                       8.0       49.0    80697.0     low      low      low  \n1                      31.0       28.0   280615.0  medium   medium   medium  \n2                       6.0       10.0    34451.0     low      low      low  \n3                      22.0       14.0  1479873.0    high     high     high  \n4                      20.0        8.0   235337.0     low      low      low  \n...                     ...        ...        ...     ...      ...      ...  \n6434                    8.0       24.0   721337.0  medium   medium   medium  \n6435                   11.0       27.0   798603.0  medium   medium   medium  \n6436                   22.0       36.0  2685805.0    high     high     high  \n6437                   29.0       34.0   586500.0  medium   medium   medium  \n6438                   15.0       22.0  5465010.0    high     high     high  \n\n[6439 rows x 40 columns]",
      "text/html": "<div>\n<style scoped>\n    .dataframe tbody tr th:only-of-type {\n        vertical-align: middle;\n    }\n\n    .dataframe tbody tr th {\n        vertical-align: top;\n    }\n\n    .dataframe thead th {\n        text-align: right;\n    }\n</style>\n<table border=\"1\" class=\"dataframe\">\n  <thead>\n    <tr style=\"text-align: right;\">\n      <th></th>\n      <th>Unnamed: 0</th>\n      <th>video_id</th>\n      <th>trending_date</th>\n      <th>title</th>\n      <th>channel_title</th>\n      <th>category_id</th>\n      <th>publish_time</th>\n      <th>tags</th>\n      <th>views</th>\n      <th>likes</th>\n      <th>...</th>\n      <th>sec</th>\n      <th>count_word</th>\n      <th>count_word_tags</th>\n      <th>count_unique_word</th>\n      <th>count_unique_word_tags</th>\n      <th>count_tags</th>\n      <th>neutral</th>\n      <th>y_cat_1</th>\n      <th>y_cat_2</th>\n      <th>y_cat_3</th>\n    </tr>\n  </thead>\n  <tbody>\n    <tr>\n      <th>0</th>\n      <td>10</td>\n      <td>9wRQljFNDW8</td>\n      <td>2017-11-14 00:00:00</td>\n      <td>Dion Lewis' 103-Yd Kick Return TD vs. Denver! ...</td>\n      <td>NFL</td>\n      <td>17.0</td>\n      <td>2017-11-13 02:05:26</td>\n      <td>NFL|\"Football\"|\"offense\"|\"defense\"|\"afc\"|\"nfc\"...</td>\n      <td>81377</td>\n      <td>655.0</td>\n      <td>...</td>\n      <td>26.0</td>\n      <td>16.0</td>\n      <td>8.0</td>\n      <td>15.0</td>\n      <td>8.0</td>\n      <td>49.0</td>\n      <td>80697.0</td>\n      <td>low</td>\n      <td>low</td>\n      <td>low</td>\n    </tr>\n    <tr>\n      <th>1</th>\n      <td>36</td>\n      <td>Om_zGhJLZ5U</td>\n      <td>2017-11-14 00:00:00</td>\n      <td>TL;DW - Every DCEU Movie Before Justice League</td>\n      <td>Screen Junkies</td>\n      <td>1.0</td>\n      <td>2017-11-12 18:00:03</td>\n      <td>screenjunkies|\"screen junkies\"|\"sj news\"|\"hone...</td>\n      <td>288922</td>\n      <td>7515.0</td>\n      <td>...</td>\n      <td>3.0</td>\n      <td>8.0</td>\n      <td>33.0</td>\n      <td>8.0</td>\n      <td>31.0</td>\n      <td>28.0</td>\n      <td>280615.0</td>\n      <td>medium</td>\n      <td>medium</td>\n      <td>medium</td>\n    </tr>\n    <tr>\n      <th>2</th>\n      <td>41</td>\n      <td>goP4Z5wyOlM</td>\n      <td>2017-11-14 00:00:00</td>\n      <td>Iraq-Iran earthquake: Deadly tremor hits borde...</td>\n      <td>BBC News</td>\n      <td>25.0</td>\n      <td>2017-11-12 21:16:40</td>\n      <td>bbc|\"bbc news\"|\"news\"|\"iran\"|\"iran news\"|\"iraq...</td>\n      <td>34785</td>\n      <td>308.0</td>\n      <td>...</td>\n      <td>40.0</td>\n      <td>10.0</td>\n      <td>6.0</td>\n      <td>10.0</td>\n      <td>6.0</td>\n      <td>10.0</td>\n      <td>34451.0</td>\n      <td>low</td>\n      <td>low</td>\n      <td>low</td>\n    </tr>\n    <tr>\n      <th>3</th>\n      <td>55</td>\n      <td>8NHA23f7LvU</td>\n      <td>2017-11-14 00:00:00</td>\n      <td>Jason Momoa Wows Hugh Grant With Some Dothraki...</td>\n      <td>The Graham Norton Show</td>\n      <td>24.0</td>\n      <td>2017-11-10 19:06:23</td>\n      <td>Graham Norton|\"Graham Norton Show Official\"|\"E...</td>\n      <td>1496225</td>\n      <td>16116.0</td>\n      <td>...</td>\n      <td>23.0</td>\n      <td>13.0</td>\n      <td>29.0</td>\n      <td>13.0</td>\n      <td>22.0</td>\n      <td>14.0</td>\n      <td>1479873.0</td>\n      <td>high</td>\n      <td>high</td>\n      <td>high</td>\n    </tr>\n    <tr>\n      <th>4</th>\n      <td>76</td>\n      <td>IE-xepGLVt8</td>\n      <td>2017-11-14 00:00:00</td>\n      <td>Mayo Clinic's first face transplant patient me...</td>\n      <td>Mayo Clinic</td>\n      <td>28.0</td>\n      <td>2017-11-10 12:04:17</td>\n      <td>Mayo Clinic|\"Health Care (Issue)\"|\"Healthcare ...</td>\n      <td>237307</td>\n      <td>1896.0</td>\n      <td>...</td>\n      <td>17.0</td>\n      <td>9.0</td>\n      <td>20.0</td>\n      <td>9.0</td>\n      <td>20.0</td>\n      <td>8.0</td>\n      <td>235337.0</td>\n      <td>low</td>\n      <td>low</td>\n      <td>low</td>\n    </tr>\n    <tr>\n      <th>...</th>\n      <td>...</td>\n      <td>...</td>\n      <td>...</td>\n      <td>...</td>\n      <td>...</td>\n      <td>...</td>\n      <td>...</td>\n      <td>...</td>\n      <td>...</td>\n      <td>...</td>\n      <td>...</td>\n      <td>...</td>\n      <td>...</td>\n      <td>...</td>\n      <td>...</td>\n      <td>...</td>\n      <td>...</td>\n      <td>...</td>\n      <td>...</td>\n      <td>...</td>\n      <td>...</td>\n    </tr>\n    <tr>\n      <th>6434</th>\n      <td>40881</td>\n      <td>mHd8Ug4ljN4</td>\n      <td>2018-06-14 00:00:00</td>\n      <td>Broadway's 'Frozen' cast performs 'For the Fir...</td>\n      <td>Good Morning America</td>\n      <td>24.0</td>\n      <td>2018-05-30 13:55:16</td>\n      <td>broadway|\"frozen\"|\"cast\"|\"performs\"|\"for\"|\"the...</td>\n      <td>735189</td>\n      <td>13364.0</td>\n      <td>...</td>\n      <td>16.0</td>\n      <td>10.0</td>\n      <td>8.0</td>\n      <td>10.0</td>\n      <td>8.0</td>\n      <td>24.0</td>\n      <td>721337.0</td>\n      <td>medium</td>\n      <td>medium</td>\n      <td>medium</td>\n    </tr>\n    <tr>\n      <th>6435</th>\n      <td>40884</td>\n      <td>LU86T12xBQQ</td>\n      <td>2018-06-14 00:00:00</td>\n      <td>Artist Vs. Designer: DIY Prom Dress</td>\n      <td>As/Is</td>\n      <td>22.0</td>\n      <td>2018-05-30 22:00:25</td>\n      <td>BuzzFeed|\"As/Is\"|\"Prom Season\"|\"video\"|\"prom\"|...</td>\n      <td>820885</td>\n      <td>21819.0</td>\n      <td>...</td>\n      <td>25.0</td>\n      <td>6.0</td>\n      <td>11.0</td>\n      <td>6.0</td>\n      <td>11.0</td>\n      <td>27.0</td>\n      <td>798603.0</td>\n      <td>medium</td>\n      <td>medium</td>\n      <td>medium</td>\n    </tr>\n    <tr>\n      <th>6436</th>\n      <td>40885</td>\n      <td>wI6a1t-M_48</td>\n      <td>2018-06-14 00:00:00</td>\n      <td>Yale Graduation Speaker Breaks Up with Boyfrie...</td>\n      <td>Ben Kronengold</td>\n      <td>22.0</td>\n      <td>2018-05-21 19:37:09</td>\n      <td>commencement|\"commencement speech\"|\"yale\"|\"yal...</td>\n      <td>2771306</td>\n      <td>81319.0</td>\n      <td>...</td>\n      <td>9.0</td>\n      <td>15.0</td>\n      <td>25.0</td>\n      <td>15.0</td>\n      <td>22.0</td>\n      <td>36.0</td>\n      <td>2685805.0</td>\n      <td>high</td>\n      <td>high</td>\n      <td>high</td>\n    </tr>\n    <tr>\n      <th>6437</th>\n      <td>40895</td>\n      <td>X9fHoWLf1w0</td>\n      <td>2018-06-14 00:00:00</td>\n      <td>The Best BBQ Meat | Great Taste</td>\n      <td>All Def Digital</td>\n      <td>24.0</td>\n      <td>2018-05-26 16:00:04</td>\n      <td>The Best BBQ Meat|\"barbecue\"|\"barbeque\"|\"doboy...</td>\n      <td>608459</td>\n      <td>21784.0</td>\n      <td>...</td>\n      <td>4.0</td>\n      <td>7.0</td>\n      <td>45.0</td>\n      <td>7.0</td>\n      <td>29.0</td>\n      <td>34.0</td>\n      <td>586500.0</td>\n      <td>medium</td>\n      <td>medium</td>\n      <td>medium</td>\n    </tr>\n    <tr>\n      <th>6438</th>\n      <td>40947</td>\n      <td>oV0zkMe1K8s</td>\n      <td>2018-06-14 00:00:00</td>\n      <td>How Black Panther Should Have Ended</td>\n      <td>How It Should Have Ended</td>\n      <td>1.0</td>\n      <td>2018-05-17 17:00:04</td>\n      <td>Black Panther|\"HISHE\"|\"Marvel\"|\"Infinity War\"|...</td>\n      <td>5660813</td>\n      <td>192957.0</td>\n      <td>...</td>\n      <td>4.0</td>\n      <td>6.0</td>\n      <td>15.0</td>\n      <td>6.0</td>\n      <td>15.0</td>\n      <td>22.0</td>\n      <td>5465010.0</td>\n      <td>high</td>\n      <td>high</td>\n      <td>high</td>\n    </tr>\n  </tbody>\n</table>\n<p>6439 rows × 40 columns</p>\n</div>"
     },
     "metadata": {},
     "output_type": "execute_result",
     "execution_count": 16
    }
   ],
   "source": [
    "like_mean = new[\"likes\"].mean()\n",
    "\n",
    "df.replace(to_replace = outliers_like, \n",
    "                 value = like_mean) "
   ],
   "metadata": {
    "collapsed": false,
    "pycharm": {
     "name": "#%%\n",
     "is_executing": false
    }
   }
  },
  {
   "cell_type": "code",
   "execution_count": 17,
   "outputs": [
    {
     "data": {
      "text/plain": "     Unnamed: 0     video_id        trending_date  \\\n0            10  9wRQljFNDW8  2017-11-14 00:00:00   \n1            36  Om_zGhJLZ5U  2017-11-14 00:00:00   \n2            41  goP4Z5wyOlM  2017-11-14 00:00:00   \n3            55  8NHA23f7LvU  2017-11-14 00:00:00   \n4            76  IE-xepGLVt8  2017-11-14 00:00:00   \n...         ...          ...                  ...   \n6434      40881  mHd8Ug4ljN4  2018-06-14 00:00:00   \n6435      40884  LU86T12xBQQ  2018-06-14 00:00:00   \n6436      40885  wI6a1t-M_48  2018-06-14 00:00:00   \n6437      40895  X9fHoWLf1w0  2018-06-14 00:00:00   \n6438      40947  oV0zkMe1K8s  2018-06-14 00:00:00   \n\n                                                  title  \\\n0     Dion Lewis' 103-Yd Kick Return TD vs. Denver! ...   \n1        TL;DW - Every DCEU Movie Before Justice League   \n2     Iraq-Iran earthquake: Deadly tremor hits borde...   \n3     Jason Momoa Wows Hugh Grant With Some Dothraki...   \n4     Mayo Clinic's first face transplant patient me...   \n...                                                 ...   \n6434  Broadway's 'Frozen' cast performs 'For the Fir...   \n6435                Artist Vs. Designer: DIY Prom Dress   \n6436  Yale Graduation Speaker Breaks Up with Boyfrie...   \n6437                    The Best BBQ Meat | Great Taste   \n6438                How Black Panther Should Have Ended   \n\n                 channel_title  category_id         publish_time  \\\n0                          NFL         17.0  2017-11-13 02:05:26   \n1               Screen Junkies          1.0  2017-11-12 18:00:03   \n2                     BBC News         25.0  2017-11-12 21:16:40   \n3       The Graham Norton Show         24.0  2017-11-10 19:06:23   \n4                  Mayo Clinic         28.0  2017-11-10 12:04:17   \n...                        ...          ...                  ...   \n6434      Good Morning America         24.0  2018-05-30 13:55:16   \n6435                     As/Is         22.0  2018-05-30 22:00:25   \n6436            Ben Kronengold         22.0  2018-05-21 19:37:09   \n6437           All Def Digital         24.0  2018-05-26 16:00:04   \n6438  How It Should Have Ended          1.0  2018-05-17 17:00:04   \n\n                                                   tags    views     likes  \\\n0     NFL|\"Football\"|\"offense\"|\"defense\"|\"afc\"|\"nfc\"...    81377     655.0   \n1     screenjunkies|\"screen junkies\"|\"sj news\"|\"hone...   288922    7515.0   \n2     bbc|\"bbc news\"|\"news\"|\"iran\"|\"iran news\"|\"iraq...    34785     308.0   \n3     Graham Norton|\"Graham Norton Show Official\"|\"E...  1496225   16116.0   \n4     Mayo Clinic|\"Health Care (Issue)\"|\"Healthcare ...   237307    1896.0   \n...                                                 ...      ...       ...   \n6434  broadway|\"frozen\"|\"cast\"|\"performs\"|\"for\"|\"the...   735189   13364.0   \n6435  BuzzFeed|\"As/Is\"|\"Prom Season\"|\"video\"|\"prom\"|...   820885   21819.0   \n6436  commencement|\"commencement speech\"|\"yale\"|\"yal...  2771306   81319.0   \n6437  The Best BBQ Meat|\"barbecue\"|\"barbeque\"|\"doboy...   608459   21784.0   \n6438  Black Panther|\"HISHE\"|\"Marvel\"|\"Infinity War\"|...  5660813  192957.0   \n\n      ...   sec count_word count_word_tags count_unique_word  \\\n0     ...  26.0       16.0             8.0              15.0   \n1     ...   3.0        8.0            33.0               8.0   \n2     ...  40.0       10.0             6.0              10.0   \n3     ...  23.0       13.0            29.0              13.0   \n4     ...  17.0        9.0            20.0               9.0   \n...   ...   ...        ...             ...               ...   \n6434  ...  16.0       10.0             8.0              10.0   \n6435  ...  25.0        6.0            11.0               6.0   \n6436  ...   9.0       15.0            25.0              15.0   \n6437  ...   4.0        7.0            45.0               7.0   \n6438  ...   4.0        6.0            15.0               6.0   \n\n     count_unique_word_tags count_tags    neutral y_cat_1  y_cat_2  y_cat_3  \n0                       8.0       49.0    80697.0     low      low      low  \n1                      31.0       28.0   280615.0  medium   medium   medium  \n2                       6.0       10.0    34451.0     low      low      low  \n3                      22.0       14.0  1479873.0    high     high     high  \n4                      20.0        8.0   235337.0     low      low      low  \n...                     ...        ...        ...     ...      ...      ...  \n6434                    8.0       24.0   721337.0  medium   medium   medium  \n6435                   11.0       27.0   798603.0  medium   medium   medium  \n6436                   22.0       36.0  2685805.0    high     high     high  \n6437                   29.0       34.0   586500.0  medium   medium   medium  \n6438                   15.0       22.0  5465010.0    high     high     high  \n\n[6439 rows x 40 columns]",
      "text/html": "<div>\n<style scoped>\n    .dataframe tbody tr th:only-of-type {\n        vertical-align: middle;\n    }\n\n    .dataframe tbody tr th {\n        vertical-align: top;\n    }\n\n    .dataframe thead th {\n        text-align: right;\n    }\n</style>\n<table border=\"1\" class=\"dataframe\">\n  <thead>\n    <tr style=\"text-align: right;\">\n      <th></th>\n      <th>Unnamed: 0</th>\n      <th>video_id</th>\n      <th>trending_date</th>\n      <th>title</th>\n      <th>channel_title</th>\n      <th>category_id</th>\n      <th>publish_time</th>\n      <th>tags</th>\n      <th>views</th>\n      <th>likes</th>\n      <th>...</th>\n      <th>sec</th>\n      <th>count_word</th>\n      <th>count_word_tags</th>\n      <th>count_unique_word</th>\n      <th>count_unique_word_tags</th>\n      <th>count_tags</th>\n      <th>neutral</th>\n      <th>y_cat_1</th>\n      <th>y_cat_2</th>\n      <th>y_cat_3</th>\n    </tr>\n  </thead>\n  <tbody>\n    <tr>\n      <th>0</th>\n      <td>10</td>\n      <td>9wRQljFNDW8</td>\n      <td>2017-11-14 00:00:00</td>\n      <td>Dion Lewis' 103-Yd Kick Return TD vs. Denver! ...</td>\n      <td>NFL</td>\n      <td>17.0</td>\n      <td>2017-11-13 02:05:26</td>\n      <td>NFL|\"Football\"|\"offense\"|\"defense\"|\"afc\"|\"nfc\"...</td>\n      <td>81377</td>\n      <td>655.0</td>\n      <td>...</td>\n      <td>26.0</td>\n      <td>16.0</td>\n      <td>8.0</td>\n      <td>15.0</td>\n      <td>8.0</td>\n      <td>49.0</td>\n      <td>80697.0</td>\n      <td>low</td>\n      <td>low</td>\n      <td>low</td>\n    </tr>\n    <tr>\n      <th>1</th>\n      <td>36</td>\n      <td>Om_zGhJLZ5U</td>\n      <td>2017-11-14 00:00:00</td>\n      <td>TL;DW - Every DCEU Movie Before Justice League</td>\n      <td>Screen Junkies</td>\n      <td>1.0</td>\n      <td>2017-11-12 18:00:03</td>\n      <td>screenjunkies|\"screen junkies\"|\"sj news\"|\"hone...</td>\n      <td>288922</td>\n      <td>7515.0</td>\n      <td>...</td>\n      <td>3.0</td>\n      <td>8.0</td>\n      <td>33.0</td>\n      <td>8.0</td>\n      <td>31.0</td>\n      <td>28.0</td>\n      <td>280615.0</td>\n      <td>medium</td>\n      <td>medium</td>\n      <td>medium</td>\n    </tr>\n    <tr>\n      <th>2</th>\n      <td>41</td>\n      <td>goP4Z5wyOlM</td>\n      <td>2017-11-14 00:00:00</td>\n      <td>Iraq-Iran earthquake: Deadly tremor hits borde...</td>\n      <td>BBC News</td>\n      <td>25.0</td>\n      <td>2017-11-12 21:16:40</td>\n      <td>bbc|\"bbc news\"|\"news\"|\"iran\"|\"iran news\"|\"iraq...</td>\n      <td>34785</td>\n      <td>308.0</td>\n      <td>...</td>\n      <td>40.0</td>\n      <td>10.0</td>\n      <td>6.0</td>\n      <td>10.0</td>\n      <td>6.0</td>\n      <td>10.0</td>\n      <td>34451.0</td>\n      <td>low</td>\n      <td>low</td>\n      <td>low</td>\n    </tr>\n    <tr>\n      <th>3</th>\n      <td>55</td>\n      <td>8NHA23f7LvU</td>\n      <td>2017-11-14 00:00:00</td>\n      <td>Jason Momoa Wows Hugh Grant With Some Dothraki...</td>\n      <td>The Graham Norton Show</td>\n      <td>24.0</td>\n      <td>2017-11-10 19:06:23</td>\n      <td>Graham Norton|\"Graham Norton Show Official\"|\"E...</td>\n      <td>1496225</td>\n      <td>16116.0</td>\n      <td>...</td>\n      <td>23.0</td>\n      <td>13.0</td>\n      <td>29.0</td>\n      <td>13.0</td>\n      <td>22.0</td>\n      <td>14.0</td>\n      <td>1479873.0</td>\n      <td>high</td>\n      <td>high</td>\n      <td>high</td>\n    </tr>\n    <tr>\n      <th>4</th>\n      <td>76</td>\n      <td>IE-xepGLVt8</td>\n      <td>2017-11-14 00:00:00</td>\n      <td>Mayo Clinic's first face transplant patient me...</td>\n      <td>Mayo Clinic</td>\n      <td>28.0</td>\n      <td>2017-11-10 12:04:17</td>\n      <td>Mayo Clinic|\"Health Care (Issue)\"|\"Healthcare ...</td>\n      <td>237307</td>\n      <td>1896.0</td>\n      <td>...</td>\n      <td>17.0</td>\n      <td>9.0</td>\n      <td>20.0</td>\n      <td>9.0</td>\n      <td>20.0</td>\n      <td>8.0</td>\n      <td>235337.0</td>\n      <td>low</td>\n      <td>low</td>\n      <td>low</td>\n    </tr>\n    <tr>\n      <th>...</th>\n      <td>...</td>\n      <td>...</td>\n      <td>...</td>\n      <td>...</td>\n      <td>...</td>\n      <td>...</td>\n      <td>...</td>\n      <td>...</td>\n      <td>...</td>\n      <td>...</td>\n      <td>...</td>\n      <td>...</td>\n      <td>...</td>\n      <td>...</td>\n      <td>...</td>\n      <td>...</td>\n      <td>...</td>\n      <td>...</td>\n      <td>...</td>\n      <td>...</td>\n      <td>...</td>\n    </tr>\n    <tr>\n      <th>6434</th>\n      <td>40881</td>\n      <td>mHd8Ug4ljN4</td>\n      <td>2018-06-14 00:00:00</td>\n      <td>Broadway's 'Frozen' cast performs 'For the Fir...</td>\n      <td>Good Morning America</td>\n      <td>24.0</td>\n      <td>2018-05-30 13:55:16</td>\n      <td>broadway|\"frozen\"|\"cast\"|\"performs\"|\"for\"|\"the...</td>\n      <td>735189</td>\n      <td>13364.0</td>\n      <td>...</td>\n      <td>16.0</td>\n      <td>10.0</td>\n      <td>8.0</td>\n      <td>10.0</td>\n      <td>8.0</td>\n      <td>24.0</td>\n      <td>721337.0</td>\n      <td>medium</td>\n      <td>medium</td>\n      <td>medium</td>\n    </tr>\n    <tr>\n      <th>6435</th>\n      <td>40884</td>\n      <td>LU86T12xBQQ</td>\n      <td>2018-06-14 00:00:00</td>\n      <td>Artist Vs. Designer: DIY Prom Dress</td>\n      <td>As/Is</td>\n      <td>22.0</td>\n      <td>2018-05-30 22:00:25</td>\n      <td>BuzzFeed|\"As/Is\"|\"Prom Season\"|\"video\"|\"prom\"|...</td>\n      <td>820885</td>\n      <td>21819.0</td>\n      <td>...</td>\n      <td>25.0</td>\n      <td>6.0</td>\n      <td>11.0</td>\n      <td>6.0</td>\n      <td>11.0</td>\n      <td>27.0</td>\n      <td>798603.0</td>\n      <td>medium</td>\n      <td>medium</td>\n      <td>medium</td>\n    </tr>\n    <tr>\n      <th>6436</th>\n      <td>40885</td>\n      <td>wI6a1t-M_48</td>\n      <td>2018-06-14 00:00:00</td>\n      <td>Yale Graduation Speaker Breaks Up with Boyfrie...</td>\n      <td>Ben Kronengold</td>\n      <td>22.0</td>\n      <td>2018-05-21 19:37:09</td>\n      <td>commencement|\"commencement speech\"|\"yale\"|\"yal...</td>\n      <td>2771306</td>\n      <td>81319.0</td>\n      <td>...</td>\n      <td>9.0</td>\n      <td>15.0</td>\n      <td>25.0</td>\n      <td>15.0</td>\n      <td>22.0</td>\n      <td>36.0</td>\n      <td>2685805.0</td>\n      <td>high</td>\n      <td>high</td>\n      <td>high</td>\n    </tr>\n    <tr>\n      <th>6437</th>\n      <td>40895</td>\n      <td>X9fHoWLf1w0</td>\n      <td>2018-06-14 00:00:00</td>\n      <td>The Best BBQ Meat | Great Taste</td>\n      <td>All Def Digital</td>\n      <td>24.0</td>\n      <td>2018-05-26 16:00:04</td>\n      <td>The Best BBQ Meat|\"barbecue\"|\"barbeque\"|\"doboy...</td>\n      <td>608459</td>\n      <td>21784.0</td>\n      <td>...</td>\n      <td>4.0</td>\n      <td>7.0</td>\n      <td>45.0</td>\n      <td>7.0</td>\n      <td>29.0</td>\n      <td>34.0</td>\n      <td>586500.0</td>\n      <td>medium</td>\n      <td>medium</td>\n      <td>medium</td>\n    </tr>\n    <tr>\n      <th>6438</th>\n      <td>40947</td>\n      <td>oV0zkMe1K8s</td>\n      <td>2018-06-14 00:00:00</td>\n      <td>How Black Panther Should Have Ended</td>\n      <td>How It Should Have Ended</td>\n      <td>1.0</td>\n      <td>2018-05-17 17:00:04</td>\n      <td>Black Panther|\"HISHE\"|\"Marvel\"|\"Infinity War\"|...</td>\n      <td>5660813</td>\n      <td>192957.0</td>\n      <td>...</td>\n      <td>4.0</td>\n      <td>6.0</td>\n      <td>15.0</td>\n      <td>6.0</td>\n      <td>15.0</td>\n      <td>22.0</td>\n      <td>5465010.0</td>\n      <td>high</td>\n      <td>high</td>\n      <td>high</td>\n    </tr>\n  </tbody>\n</table>\n<p>6439 rows × 40 columns</p>\n</div>"
     },
     "metadata": {},
     "output_type": "execute_result",
     "execution_count": 17
    }
   ],
   "source": [
    "dislike_mean = new[\"dislikes\"].mean()\n",
    "\n",
    "df.replace(to_replace = outliers_dislike, \n",
    "                 value = dislike_mean) "
   ],
   "metadata": {
    "collapsed": false,
    "pycharm": {
     "name": "#%%\n",
     "is_executing": false
    }
   }
  },
  {
   "cell_type": "code",
   "execution_count": 18,
   "outputs": [
    {
     "data": {
      "text/plain": "     Unnamed: 0     video_id        trending_date  \\\n0            10  9wRQljFNDW8  2017-11-14 00:00:00   \n1            36  Om_zGhJLZ5U  2017-11-14 00:00:00   \n2            41  goP4Z5wyOlM  2017-11-14 00:00:00   \n3            55  8NHA23f7LvU  2017-11-14 00:00:00   \n4            76  IE-xepGLVt8  2017-11-14 00:00:00   \n...         ...          ...                  ...   \n6434      40881  mHd8Ug4ljN4  2018-06-14 00:00:00   \n6435      40884  LU86T12xBQQ  2018-06-14 00:00:00   \n6436      40885  wI6a1t-M_48  2018-06-14 00:00:00   \n6437      40895  X9fHoWLf1w0  2018-06-14 00:00:00   \n6438      40947  oV0zkMe1K8s  2018-06-14 00:00:00   \n\n                                                  title  \\\n0     Dion Lewis' 103-Yd Kick Return TD vs. Denver! ...   \n1        TL;DW - Every DCEU Movie Before Justice League   \n2     Iraq-Iran earthquake: Deadly tremor hits borde...   \n3     Jason Momoa Wows Hugh Grant With Some Dothraki...   \n4     Mayo Clinic's first face transplant patient me...   \n...                                                 ...   \n6434  Broadway's 'Frozen' cast performs 'For the Fir...   \n6435                Artist Vs. Designer: DIY Prom Dress   \n6436  Yale Graduation Speaker Breaks Up with Boyfrie...   \n6437                    The Best BBQ Meat | Great Taste   \n6438                How Black Panther Should Have Ended   \n\n                 channel_title  category_id         publish_time  \\\n0                          NFL         17.0  2017-11-13 02:05:26   \n1               Screen Junkies          1.0  2017-11-12 18:00:03   \n2                     BBC News         25.0  2017-11-12 21:16:40   \n3       The Graham Norton Show         24.0  2017-11-10 19:06:23   \n4                  Mayo Clinic         28.0  2017-11-10 12:04:17   \n...                        ...          ...                  ...   \n6434      Good Morning America         24.0  2018-05-30 13:55:16   \n6435                     As/Is         22.0  2018-05-30 22:00:25   \n6436            Ben Kronengold         22.0  2018-05-21 19:37:09   \n6437           All Def Digital         24.0  2018-05-26 16:00:04   \n6438  How It Should Have Ended          1.0  2018-05-17 17:00:04   \n\n                                                   tags    views     likes  \\\n0     NFL|\"Football\"|\"offense\"|\"defense\"|\"afc\"|\"nfc\"...    81377     655.0   \n1     screenjunkies|\"screen junkies\"|\"sj news\"|\"hone...   288922    7515.0   \n2     bbc|\"bbc news\"|\"news\"|\"iran\"|\"iran news\"|\"iraq...    34785     308.0   \n3     Graham Norton|\"Graham Norton Show Official\"|\"E...  1496225   16116.0   \n4     Mayo Clinic|\"Health Care (Issue)\"|\"Healthcare ...   237307    1896.0   \n...                                                 ...      ...       ...   \n6434  broadway|\"frozen\"|\"cast\"|\"performs\"|\"for\"|\"the...   735189   13364.0   \n6435  BuzzFeed|\"As/Is\"|\"Prom Season\"|\"video\"|\"prom\"|...   820885   21819.0   \n6436  commencement|\"commencement speech\"|\"yale\"|\"yal...  2771306   81319.0   \n6437  The Best BBQ Meat|\"barbecue\"|\"barbeque\"|\"doboy...   608459   21784.0   \n6438  Black Panther|\"HISHE\"|\"Marvel\"|\"Infinity War\"|...  5660813  192957.0   \n\n      ...   sec count_word count_word_tags count_unique_word  \\\n0     ...  26.0       16.0             8.0              15.0   \n1     ...   3.0        8.0            33.0               8.0   \n2     ...  40.0       10.0             6.0              10.0   \n3     ...  23.0       13.0            29.0              13.0   \n4     ...  17.0        9.0            20.0               9.0   \n...   ...   ...        ...             ...               ...   \n6434  ...  16.0       10.0             8.0              10.0   \n6435  ...  25.0        6.0            11.0               6.0   \n6436  ...   9.0       15.0            25.0              15.0   \n6437  ...   4.0        7.0            45.0               7.0   \n6438  ...   4.0        6.0            15.0               6.0   \n\n     count_unique_word_tags count_tags    neutral y_cat_1  y_cat_2  y_cat_3  \n0                       8.0       49.0    80697.0     low      low      low  \n1                      31.0       28.0   280615.0  medium   medium   medium  \n2                       6.0       10.0    34451.0     low      low      low  \n3                      22.0       14.0  1479873.0    high     high     high  \n4                      20.0        8.0   235337.0     low      low      low  \n...                     ...        ...        ...     ...      ...      ...  \n6434                    8.0       24.0   721337.0  medium   medium   medium  \n6435                   11.0       27.0   798603.0  medium   medium   medium  \n6436                   22.0       36.0  2685805.0    high     high     high  \n6437                   29.0       34.0   586500.0  medium   medium   medium  \n6438                   15.0       22.0  5465010.0    high     high     high  \n\n[6439 rows x 40 columns]",
      "text/html": "<div>\n<style scoped>\n    .dataframe tbody tr th:only-of-type {\n        vertical-align: middle;\n    }\n\n    .dataframe tbody tr th {\n        vertical-align: top;\n    }\n\n    .dataframe thead th {\n        text-align: right;\n    }\n</style>\n<table border=\"1\" class=\"dataframe\">\n  <thead>\n    <tr style=\"text-align: right;\">\n      <th></th>\n      <th>Unnamed: 0</th>\n      <th>video_id</th>\n      <th>trending_date</th>\n      <th>title</th>\n      <th>channel_title</th>\n      <th>category_id</th>\n      <th>publish_time</th>\n      <th>tags</th>\n      <th>views</th>\n      <th>likes</th>\n      <th>...</th>\n      <th>sec</th>\n      <th>count_word</th>\n      <th>count_word_tags</th>\n      <th>count_unique_word</th>\n      <th>count_unique_word_tags</th>\n      <th>count_tags</th>\n      <th>neutral</th>\n      <th>y_cat_1</th>\n      <th>y_cat_2</th>\n      <th>y_cat_3</th>\n    </tr>\n  </thead>\n  <tbody>\n    <tr>\n      <th>0</th>\n      <td>10</td>\n      <td>9wRQljFNDW8</td>\n      <td>2017-11-14 00:00:00</td>\n      <td>Dion Lewis' 103-Yd Kick Return TD vs. Denver! ...</td>\n      <td>NFL</td>\n      <td>17.0</td>\n      <td>2017-11-13 02:05:26</td>\n      <td>NFL|\"Football\"|\"offense\"|\"defense\"|\"afc\"|\"nfc\"...</td>\n      <td>81377</td>\n      <td>655.0</td>\n      <td>...</td>\n      <td>26.0</td>\n      <td>16.0</td>\n      <td>8.0</td>\n      <td>15.0</td>\n      <td>8.0</td>\n      <td>49.0</td>\n      <td>80697.0</td>\n      <td>low</td>\n      <td>low</td>\n      <td>low</td>\n    </tr>\n    <tr>\n      <th>1</th>\n      <td>36</td>\n      <td>Om_zGhJLZ5U</td>\n      <td>2017-11-14 00:00:00</td>\n      <td>TL;DW - Every DCEU Movie Before Justice League</td>\n      <td>Screen Junkies</td>\n      <td>1.0</td>\n      <td>2017-11-12 18:00:03</td>\n      <td>screenjunkies|\"screen junkies\"|\"sj news\"|\"hone...</td>\n      <td>288922</td>\n      <td>7515.0</td>\n      <td>...</td>\n      <td>3.0</td>\n      <td>8.0</td>\n      <td>33.0</td>\n      <td>8.0</td>\n      <td>31.0</td>\n      <td>28.0</td>\n      <td>280615.0</td>\n      <td>medium</td>\n      <td>medium</td>\n      <td>medium</td>\n    </tr>\n    <tr>\n      <th>2</th>\n      <td>41</td>\n      <td>goP4Z5wyOlM</td>\n      <td>2017-11-14 00:00:00</td>\n      <td>Iraq-Iran earthquake: Deadly tremor hits borde...</td>\n      <td>BBC News</td>\n      <td>25.0</td>\n      <td>2017-11-12 21:16:40</td>\n      <td>bbc|\"bbc news\"|\"news\"|\"iran\"|\"iran news\"|\"iraq...</td>\n      <td>34785</td>\n      <td>308.0</td>\n      <td>...</td>\n      <td>40.0</td>\n      <td>10.0</td>\n      <td>6.0</td>\n      <td>10.0</td>\n      <td>6.0</td>\n      <td>10.0</td>\n      <td>34451.0</td>\n      <td>low</td>\n      <td>low</td>\n      <td>low</td>\n    </tr>\n    <tr>\n      <th>3</th>\n      <td>55</td>\n      <td>8NHA23f7LvU</td>\n      <td>2017-11-14 00:00:00</td>\n      <td>Jason Momoa Wows Hugh Grant With Some Dothraki...</td>\n      <td>The Graham Norton Show</td>\n      <td>24.0</td>\n      <td>2017-11-10 19:06:23</td>\n      <td>Graham Norton|\"Graham Norton Show Official\"|\"E...</td>\n      <td>1496225</td>\n      <td>16116.0</td>\n      <td>...</td>\n      <td>23.0</td>\n      <td>13.0</td>\n      <td>29.0</td>\n      <td>13.0</td>\n      <td>22.0</td>\n      <td>14.0</td>\n      <td>1479873.0</td>\n      <td>high</td>\n      <td>high</td>\n      <td>high</td>\n    </tr>\n    <tr>\n      <th>4</th>\n      <td>76</td>\n      <td>IE-xepGLVt8</td>\n      <td>2017-11-14 00:00:00</td>\n      <td>Mayo Clinic's first face transplant patient me...</td>\n      <td>Mayo Clinic</td>\n      <td>28.0</td>\n      <td>2017-11-10 12:04:17</td>\n      <td>Mayo Clinic|\"Health Care (Issue)\"|\"Healthcare ...</td>\n      <td>237307</td>\n      <td>1896.0</td>\n      <td>...</td>\n      <td>17.0</td>\n      <td>9.0</td>\n      <td>20.0</td>\n      <td>9.0</td>\n      <td>20.0</td>\n      <td>8.0</td>\n      <td>235337.0</td>\n      <td>low</td>\n      <td>low</td>\n      <td>low</td>\n    </tr>\n    <tr>\n      <th>...</th>\n      <td>...</td>\n      <td>...</td>\n      <td>...</td>\n      <td>...</td>\n      <td>...</td>\n      <td>...</td>\n      <td>...</td>\n      <td>...</td>\n      <td>...</td>\n      <td>...</td>\n      <td>...</td>\n      <td>...</td>\n      <td>...</td>\n      <td>...</td>\n      <td>...</td>\n      <td>...</td>\n      <td>...</td>\n      <td>...</td>\n      <td>...</td>\n      <td>...</td>\n      <td>...</td>\n    </tr>\n    <tr>\n      <th>6434</th>\n      <td>40881</td>\n      <td>mHd8Ug4ljN4</td>\n      <td>2018-06-14 00:00:00</td>\n      <td>Broadway's 'Frozen' cast performs 'For the Fir...</td>\n      <td>Good Morning America</td>\n      <td>24.0</td>\n      <td>2018-05-30 13:55:16</td>\n      <td>broadway|\"frozen\"|\"cast\"|\"performs\"|\"for\"|\"the...</td>\n      <td>735189</td>\n      <td>13364.0</td>\n      <td>...</td>\n      <td>16.0</td>\n      <td>10.0</td>\n      <td>8.0</td>\n      <td>10.0</td>\n      <td>8.0</td>\n      <td>24.0</td>\n      <td>721337.0</td>\n      <td>medium</td>\n      <td>medium</td>\n      <td>medium</td>\n    </tr>\n    <tr>\n      <th>6435</th>\n      <td>40884</td>\n      <td>LU86T12xBQQ</td>\n      <td>2018-06-14 00:00:00</td>\n      <td>Artist Vs. Designer: DIY Prom Dress</td>\n      <td>As/Is</td>\n      <td>22.0</td>\n      <td>2018-05-30 22:00:25</td>\n      <td>BuzzFeed|\"As/Is\"|\"Prom Season\"|\"video\"|\"prom\"|...</td>\n      <td>820885</td>\n      <td>21819.0</td>\n      <td>...</td>\n      <td>25.0</td>\n      <td>6.0</td>\n      <td>11.0</td>\n      <td>6.0</td>\n      <td>11.0</td>\n      <td>27.0</td>\n      <td>798603.0</td>\n      <td>medium</td>\n      <td>medium</td>\n      <td>medium</td>\n    </tr>\n    <tr>\n      <th>6436</th>\n      <td>40885</td>\n      <td>wI6a1t-M_48</td>\n      <td>2018-06-14 00:00:00</td>\n      <td>Yale Graduation Speaker Breaks Up with Boyfrie...</td>\n      <td>Ben Kronengold</td>\n      <td>22.0</td>\n      <td>2018-05-21 19:37:09</td>\n      <td>commencement|\"commencement speech\"|\"yale\"|\"yal...</td>\n      <td>2771306</td>\n      <td>81319.0</td>\n      <td>...</td>\n      <td>9.0</td>\n      <td>15.0</td>\n      <td>25.0</td>\n      <td>15.0</td>\n      <td>22.0</td>\n      <td>36.0</td>\n      <td>2685805.0</td>\n      <td>high</td>\n      <td>high</td>\n      <td>high</td>\n    </tr>\n    <tr>\n      <th>6437</th>\n      <td>40895</td>\n      <td>X9fHoWLf1w0</td>\n      <td>2018-06-14 00:00:00</td>\n      <td>The Best BBQ Meat | Great Taste</td>\n      <td>All Def Digital</td>\n      <td>24.0</td>\n      <td>2018-05-26 16:00:04</td>\n      <td>The Best BBQ Meat|\"barbecue\"|\"barbeque\"|\"doboy...</td>\n      <td>608459</td>\n      <td>21784.0</td>\n      <td>...</td>\n      <td>4.0</td>\n      <td>7.0</td>\n      <td>45.0</td>\n      <td>7.0</td>\n      <td>29.0</td>\n      <td>34.0</td>\n      <td>586500.0</td>\n      <td>medium</td>\n      <td>medium</td>\n      <td>medium</td>\n    </tr>\n    <tr>\n      <th>6438</th>\n      <td>40947</td>\n      <td>oV0zkMe1K8s</td>\n      <td>2018-06-14 00:00:00</td>\n      <td>How Black Panther Should Have Ended</td>\n      <td>How It Should Have Ended</td>\n      <td>1.0</td>\n      <td>2018-05-17 17:00:04</td>\n      <td>Black Panther|\"HISHE\"|\"Marvel\"|\"Infinity War\"|...</td>\n      <td>5660813</td>\n      <td>192957.0</td>\n      <td>...</td>\n      <td>4.0</td>\n      <td>6.0</td>\n      <td>15.0</td>\n      <td>6.0</td>\n      <td>15.0</td>\n      <td>22.0</td>\n      <td>5465010.0</td>\n      <td>high</td>\n      <td>high</td>\n      <td>high</td>\n    </tr>\n  </tbody>\n</table>\n<p>6439 rows × 40 columns</p>\n</div>"
     },
     "metadata": {},
     "output_type": "execute_result",
     "execution_count": 18
    }
   ],
   "source": [
    "comment_count_mean = new[\"comment_count\"].mean()\n",
    "\n",
    "df.replace(to_replace = outliers_comment_count, \n",
    "                 value = comment_count_mean) "
   ],
   "metadata": {
    "collapsed": false,
    "pycharm": {
     "name": "#%%\n",
     "is_executing": false
    }
   }
  },
  {
   "cell_type": "code",
   "execution_count": 19,
   "outputs": [
    {
     "data": {
      "text/plain": "     Unnamed: 0     video_id        trending_date  \\\n0            10  9wRQljFNDW8  2017-11-14 00:00:00   \n1            36  Om_zGhJLZ5U  2017-11-14 00:00:00   \n2            41  goP4Z5wyOlM  2017-11-14 00:00:00   \n3            55  8NHA23f7LvU  2017-11-14 00:00:00   \n4            76  IE-xepGLVt8  2017-11-14 00:00:00   \n...         ...          ...                  ...   \n6434      40881  mHd8Ug4ljN4  2018-06-14 00:00:00   \n6435      40884  LU86T12xBQQ  2018-06-14 00:00:00   \n6436      40885  wI6a1t-M_48  2018-06-14 00:00:00   \n6437      40895  X9fHoWLf1w0  2018-06-14 00:00:00   \n6438      40947  oV0zkMe1K8s  2018-06-14 00:00:00   \n\n                                                  title  \\\n0     Dion Lewis' 103-Yd Kick Return TD vs. Denver! ...   \n1        TL;DW - Every DCEU Movie Before Justice League   \n2     Iraq-Iran earthquake: Deadly tremor hits borde...   \n3     Jason Momoa Wows Hugh Grant With Some Dothraki...   \n4     Mayo Clinic's first face transplant patient me...   \n...                                                 ...   \n6434  Broadway's 'Frozen' cast performs 'For the Fir...   \n6435                Artist Vs. Designer: DIY Prom Dress   \n6436  Yale Graduation Speaker Breaks Up with Boyfrie...   \n6437                    The Best BBQ Meat | Great Taste   \n6438                How Black Panther Should Have Ended   \n\n                 channel_title  category_id         publish_time  \\\n0                          NFL         17.0  2017-11-13 02:05:26   \n1               Screen Junkies          1.0  2017-11-12 18:00:03   \n2                     BBC News         25.0  2017-11-12 21:16:40   \n3       The Graham Norton Show         24.0  2017-11-10 19:06:23   \n4                  Mayo Clinic         28.0  2017-11-10 12:04:17   \n...                        ...          ...                  ...   \n6434      Good Morning America         24.0  2018-05-30 13:55:16   \n6435                     As/Is         22.0  2018-05-30 22:00:25   \n6436            Ben Kronengold         22.0  2018-05-21 19:37:09   \n6437           All Def Digital         24.0  2018-05-26 16:00:04   \n6438  How It Should Have Ended          1.0  2018-05-17 17:00:04   \n\n                                                   tags    views     likes  \\\n0     NFL|\"Football\"|\"offense\"|\"defense\"|\"afc\"|\"nfc\"...    81377     655.0   \n1     screenjunkies|\"screen junkies\"|\"sj news\"|\"hone...   288922    7515.0   \n2     bbc|\"bbc news\"|\"news\"|\"iran\"|\"iran news\"|\"iraq...    34785     308.0   \n3     Graham Norton|\"Graham Norton Show Official\"|\"E...  1496225   16116.0   \n4     Mayo Clinic|\"Health Care (Issue)\"|\"Healthcare ...   237307    1896.0   \n...                                                 ...      ...       ...   \n6434  broadway|\"frozen\"|\"cast\"|\"performs\"|\"for\"|\"the...   735189   13364.0   \n6435  BuzzFeed|\"As/Is\"|\"Prom Season\"|\"video\"|\"prom\"|...   820885   21819.0   \n6436  commencement|\"commencement speech\"|\"yale\"|\"yal...  2771306   81319.0   \n6437  The Best BBQ Meat|\"barbecue\"|\"barbeque\"|\"doboy...   608459   21784.0   \n6438  Black Panther|\"HISHE\"|\"Marvel\"|\"Infinity War\"|...  5660813  192957.0   \n\n      ...   sec count_word count_word_tags count_unique_word  \\\n0     ...  26.0       16.0             8.0              15.0   \n1     ...   3.0        8.0            33.0               8.0   \n2     ...  40.0       10.0             6.0              10.0   \n3     ...  23.0       13.0            29.0              13.0   \n4     ...  17.0        9.0            20.0               9.0   \n...   ...   ...        ...             ...               ...   \n6434  ...  16.0       10.0             8.0              10.0   \n6435  ...  25.0        6.0            11.0               6.0   \n6436  ...   9.0       15.0            25.0              15.0   \n6437  ...   4.0        7.0            45.0               7.0   \n6438  ...   4.0        6.0            15.0               6.0   \n\n     count_unique_word_tags count_tags    neutral y_cat_1  y_cat_2  y_cat_3  \n0                       8.0       49.0    80697.0     low      low      low  \n1                      31.0       28.0   280615.0  medium   medium   medium  \n2                       6.0       10.0    34451.0     low      low      low  \n3                      22.0       14.0  1479873.0    high     high     high  \n4                      20.0        8.0   235337.0     low      low      low  \n...                     ...        ...        ...     ...      ...      ...  \n6434                    8.0       24.0   721337.0  medium   medium   medium  \n6435                   11.0       27.0   798603.0  medium   medium   medium  \n6436                   22.0       36.0  2685805.0    high     high     high  \n6437                   29.0       34.0   586500.0  medium   medium   medium  \n6438                   15.0       22.0  5465010.0    high     high     high  \n\n[6439 rows x 40 columns]",
      "text/html": "<div>\n<style scoped>\n    .dataframe tbody tr th:only-of-type {\n        vertical-align: middle;\n    }\n\n    .dataframe tbody tr th {\n        vertical-align: top;\n    }\n\n    .dataframe thead th {\n        text-align: right;\n    }\n</style>\n<table border=\"1\" class=\"dataframe\">\n  <thead>\n    <tr style=\"text-align: right;\">\n      <th></th>\n      <th>Unnamed: 0</th>\n      <th>video_id</th>\n      <th>trending_date</th>\n      <th>title</th>\n      <th>channel_title</th>\n      <th>category_id</th>\n      <th>publish_time</th>\n      <th>tags</th>\n      <th>views</th>\n      <th>likes</th>\n      <th>...</th>\n      <th>sec</th>\n      <th>count_word</th>\n      <th>count_word_tags</th>\n      <th>count_unique_word</th>\n      <th>count_unique_word_tags</th>\n      <th>count_tags</th>\n      <th>neutral</th>\n      <th>y_cat_1</th>\n      <th>y_cat_2</th>\n      <th>y_cat_3</th>\n    </tr>\n  </thead>\n  <tbody>\n    <tr>\n      <th>0</th>\n      <td>10</td>\n      <td>9wRQljFNDW8</td>\n      <td>2017-11-14 00:00:00</td>\n      <td>Dion Lewis' 103-Yd Kick Return TD vs. Denver! ...</td>\n      <td>NFL</td>\n      <td>17.0</td>\n      <td>2017-11-13 02:05:26</td>\n      <td>NFL|\"Football\"|\"offense\"|\"defense\"|\"afc\"|\"nfc\"...</td>\n      <td>81377</td>\n      <td>655.0</td>\n      <td>...</td>\n      <td>26.0</td>\n      <td>16.0</td>\n      <td>8.0</td>\n      <td>15.0</td>\n      <td>8.0</td>\n      <td>49.0</td>\n      <td>80697.0</td>\n      <td>low</td>\n      <td>low</td>\n      <td>low</td>\n    </tr>\n    <tr>\n      <th>1</th>\n      <td>36</td>\n      <td>Om_zGhJLZ5U</td>\n      <td>2017-11-14 00:00:00</td>\n      <td>TL;DW - Every DCEU Movie Before Justice League</td>\n      <td>Screen Junkies</td>\n      <td>1.0</td>\n      <td>2017-11-12 18:00:03</td>\n      <td>screenjunkies|\"screen junkies\"|\"sj news\"|\"hone...</td>\n      <td>288922</td>\n      <td>7515.0</td>\n      <td>...</td>\n      <td>3.0</td>\n      <td>8.0</td>\n      <td>33.0</td>\n      <td>8.0</td>\n      <td>31.0</td>\n      <td>28.0</td>\n      <td>280615.0</td>\n      <td>medium</td>\n      <td>medium</td>\n      <td>medium</td>\n    </tr>\n    <tr>\n      <th>2</th>\n      <td>41</td>\n      <td>goP4Z5wyOlM</td>\n      <td>2017-11-14 00:00:00</td>\n      <td>Iraq-Iran earthquake: Deadly tremor hits borde...</td>\n      <td>BBC News</td>\n      <td>25.0</td>\n      <td>2017-11-12 21:16:40</td>\n      <td>bbc|\"bbc news\"|\"news\"|\"iran\"|\"iran news\"|\"iraq...</td>\n      <td>34785</td>\n      <td>308.0</td>\n      <td>...</td>\n      <td>40.0</td>\n      <td>10.0</td>\n      <td>6.0</td>\n      <td>10.0</td>\n      <td>6.0</td>\n      <td>10.0</td>\n      <td>34451.0</td>\n      <td>low</td>\n      <td>low</td>\n      <td>low</td>\n    </tr>\n    <tr>\n      <th>3</th>\n      <td>55</td>\n      <td>8NHA23f7LvU</td>\n      <td>2017-11-14 00:00:00</td>\n      <td>Jason Momoa Wows Hugh Grant With Some Dothraki...</td>\n      <td>The Graham Norton Show</td>\n      <td>24.0</td>\n      <td>2017-11-10 19:06:23</td>\n      <td>Graham Norton|\"Graham Norton Show Official\"|\"E...</td>\n      <td>1496225</td>\n      <td>16116.0</td>\n      <td>...</td>\n      <td>23.0</td>\n      <td>13.0</td>\n      <td>29.0</td>\n      <td>13.0</td>\n      <td>22.0</td>\n      <td>14.0</td>\n      <td>1479873.0</td>\n      <td>high</td>\n      <td>high</td>\n      <td>high</td>\n    </tr>\n    <tr>\n      <th>4</th>\n      <td>76</td>\n      <td>IE-xepGLVt8</td>\n      <td>2017-11-14 00:00:00</td>\n      <td>Mayo Clinic's first face transplant patient me...</td>\n      <td>Mayo Clinic</td>\n      <td>28.0</td>\n      <td>2017-11-10 12:04:17</td>\n      <td>Mayo Clinic|\"Health Care (Issue)\"|\"Healthcare ...</td>\n      <td>237307</td>\n      <td>1896.0</td>\n      <td>...</td>\n      <td>17.0</td>\n      <td>9.0</td>\n      <td>20.0</td>\n      <td>9.0</td>\n      <td>20.0</td>\n      <td>8.0</td>\n      <td>235337.0</td>\n      <td>low</td>\n      <td>low</td>\n      <td>low</td>\n    </tr>\n    <tr>\n      <th>...</th>\n      <td>...</td>\n      <td>...</td>\n      <td>...</td>\n      <td>...</td>\n      <td>...</td>\n      <td>...</td>\n      <td>...</td>\n      <td>...</td>\n      <td>...</td>\n      <td>...</td>\n      <td>...</td>\n      <td>...</td>\n      <td>...</td>\n      <td>...</td>\n      <td>...</td>\n      <td>...</td>\n      <td>...</td>\n      <td>...</td>\n      <td>...</td>\n      <td>...</td>\n      <td>...</td>\n    </tr>\n    <tr>\n      <th>6434</th>\n      <td>40881</td>\n      <td>mHd8Ug4ljN4</td>\n      <td>2018-06-14 00:00:00</td>\n      <td>Broadway's 'Frozen' cast performs 'For the Fir...</td>\n      <td>Good Morning America</td>\n      <td>24.0</td>\n      <td>2018-05-30 13:55:16</td>\n      <td>broadway|\"frozen\"|\"cast\"|\"performs\"|\"for\"|\"the...</td>\n      <td>735189</td>\n      <td>13364.0</td>\n      <td>...</td>\n      <td>16.0</td>\n      <td>10.0</td>\n      <td>8.0</td>\n      <td>10.0</td>\n      <td>8.0</td>\n      <td>24.0</td>\n      <td>721337.0</td>\n      <td>medium</td>\n      <td>medium</td>\n      <td>medium</td>\n    </tr>\n    <tr>\n      <th>6435</th>\n      <td>40884</td>\n      <td>LU86T12xBQQ</td>\n      <td>2018-06-14 00:00:00</td>\n      <td>Artist Vs. Designer: DIY Prom Dress</td>\n      <td>As/Is</td>\n      <td>22.0</td>\n      <td>2018-05-30 22:00:25</td>\n      <td>BuzzFeed|\"As/Is\"|\"Prom Season\"|\"video\"|\"prom\"|...</td>\n      <td>820885</td>\n      <td>21819.0</td>\n      <td>...</td>\n      <td>25.0</td>\n      <td>6.0</td>\n      <td>11.0</td>\n      <td>6.0</td>\n      <td>11.0</td>\n      <td>27.0</td>\n      <td>798603.0</td>\n      <td>medium</td>\n      <td>medium</td>\n      <td>medium</td>\n    </tr>\n    <tr>\n      <th>6436</th>\n      <td>40885</td>\n      <td>wI6a1t-M_48</td>\n      <td>2018-06-14 00:00:00</td>\n      <td>Yale Graduation Speaker Breaks Up with Boyfrie...</td>\n      <td>Ben Kronengold</td>\n      <td>22.0</td>\n      <td>2018-05-21 19:37:09</td>\n      <td>commencement|\"commencement speech\"|\"yale\"|\"yal...</td>\n      <td>2771306</td>\n      <td>81319.0</td>\n      <td>...</td>\n      <td>9.0</td>\n      <td>15.0</td>\n      <td>25.0</td>\n      <td>15.0</td>\n      <td>22.0</td>\n      <td>36.0</td>\n      <td>2685805.0</td>\n      <td>high</td>\n      <td>high</td>\n      <td>high</td>\n    </tr>\n    <tr>\n      <th>6437</th>\n      <td>40895</td>\n      <td>X9fHoWLf1w0</td>\n      <td>2018-06-14 00:00:00</td>\n      <td>The Best BBQ Meat | Great Taste</td>\n      <td>All Def Digital</td>\n      <td>24.0</td>\n      <td>2018-05-26 16:00:04</td>\n      <td>The Best BBQ Meat|\"barbecue\"|\"barbeque\"|\"doboy...</td>\n      <td>608459</td>\n      <td>21784.0</td>\n      <td>...</td>\n      <td>4.0</td>\n      <td>7.0</td>\n      <td>45.0</td>\n      <td>7.0</td>\n      <td>29.0</td>\n      <td>34.0</td>\n      <td>586500.0</td>\n      <td>medium</td>\n      <td>medium</td>\n      <td>medium</td>\n    </tr>\n    <tr>\n      <th>6438</th>\n      <td>40947</td>\n      <td>oV0zkMe1K8s</td>\n      <td>2018-06-14 00:00:00</td>\n      <td>How Black Panther Should Have Ended</td>\n      <td>How It Should Have Ended</td>\n      <td>1.0</td>\n      <td>2018-05-17 17:00:04</td>\n      <td>Black Panther|\"HISHE\"|\"Marvel\"|\"Infinity War\"|...</td>\n      <td>5660813</td>\n      <td>192957.0</td>\n      <td>...</td>\n      <td>4.0</td>\n      <td>6.0</td>\n      <td>15.0</td>\n      <td>6.0</td>\n      <td>15.0</td>\n      <td>22.0</td>\n      <td>5465010.0</td>\n      <td>high</td>\n      <td>high</td>\n      <td>high</td>\n    </tr>\n  </tbody>\n</table>\n<p>6439 rows × 40 columns</p>\n</div>"
     },
     "metadata": {},
     "output_type": "execute_result",
     "execution_count": 19
    }
   ],
   "source": [
    "views_mean = new[\"views\"].mean()\n",
    "\n",
    "df.replace(to_replace = outliers_views, \n",
    "                 value = views_mean) \n"
   ],
   "metadata": {
    "collapsed": false,
    "pycharm": {
     "name": "#%%\n",
     "is_executing": false
    }
   }
  },
  {
   "cell_type": "code",
   "execution_count": 19,
   "outputs": [],
   "source": [],
   "metadata": {
    "collapsed": false,
    "pycharm": {
     "name": "#%%\n",
     "is_executing": false
    }
   }
  },
  {
   "cell_type": "code",
   "execution_count": null,
   "outputs": [],
   "source": [
    "\n"
   ],
   "metadata": {
    "collapsed": false,
    "pycharm": {
     "name": "#%%\n"
    }
   }
  }
 ],
 "metadata": {
  "kernelspec": {
   "display_name": "Python 3",
   "language": "python",
   "name": "python3"
  },
  "language_info": {
   "codemirror_mode": {
    "name": "ipython",
    "version": 2
   },
   "file_extension": ".py",
   "mimetype": "text/x-python",
   "name": "python",
   "nbconvert_exporter": "python",
   "pygments_lexer": "ipython2",
   "version": "2.7.6"
  },
  "pycharm": {
   "stem_cell": {
    "cell_type": "raw",
    "source": [],
    "metadata": {
     "collapsed": false
    }
   }
  }
 },
 "nbformat": 4,
 "nbformat_minor": 0
}