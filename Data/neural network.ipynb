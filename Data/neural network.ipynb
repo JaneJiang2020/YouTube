{
 "cells": [
  {
   "cell_type": "code",
   "execution_count": 13,
   "metadata": {
    "collapsed": true,
    "pycharm": {
     "is_executing": false
    }
   },
   "outputs": [
    {
     "name": "stderr",
     "text": [
      "/Library/Frameworks/Python.framework/Versions/3.7/lib/python3.7/site-packages/ipykernel_launcher.py:7: SettingWithCopyWarning: \n",
      "A value is trying to be set on a copy of a slice from a DataFrame.\n",
      "Try using .loc[row_indexer,col_indexer] = value instead\n",
      "\n",
      "See the caveats in the documentation: http://pandas.pydata.org/pandas-docs/stable/user_guide/indexing.html#returning-a-view-versus-a-copy\n",
      "  import sys\n",
      "/Library/Frameworks/Python.framework/Versions/3.7/lib/python3.7/site-packages/ipykernel_launcher.py:9: SettingWithCopyWarning: \n",
      "A value is trying to be set on a copy of a slice from a DataFrame.\n",
      "Try using .loc[row_indexer,col_indexer] = value instead\n",
      "\n",
      "See the caveats in the documentation: http://pandas.pydata.org/pandas-docs/stable/user_guide/indexing.html#returning-a-view-versus-a-copy\n",
      "  if __name__ == '__main__':\n",
      "/Library/Frameworks/Python.framework/Versions/3.7/lib/python3.7/site-packages/ipykernel_launcher.py:10: SettingWithCopyWarning: \n",
      "A value is trying to be set on a copy of a slice from a DataFrame.\n",
      "Try using .loc[row_indexer,col_indexer] = value instead\n",
      "\n",
      "See the caveats in the documentation: http://pandas.pydata.org/pandas-docs/stable/user_guide/indexing.html#returning-a-view-versus-a-copy\n",
      "  # Remove the CWD from sys.path while we load stuff.\n",
      "/Library/Frameworks/Python.framework/Versions/3.7/lib/python3.7/site-packages/ipykernel_launcher.py:16: SettingWithCopyWarning: \n",
      "A value is trying to be set on a copy of a slice from a DataFrame.\n",
      "Try using .loc[row_indexer,col_indexer] = value instead\n",
      "\n",
      "See the caveats in the documentation: http://pandas.pydata.org/pandas-docs/stable/user_guide/indexing.html#returning-a-view-versus-a-copy\n",
      "  app.launch_new_instance()\n",
      "/Library/Frameworks/Python.framework/Versions/3.7/lib/python3.7/site-packages/ipykernel_launcher.py:18: SettingWithCopyWarning: \n",
      "A value is trying to be set on a copy of a slice from a DataFrame.\n",
      "Try using .loc[row_indexer,col_indexer] = value instead\n",
      "\n",
      "See the caveats in the documentation: http://pandas.pydata.org/pandas-docs/stable/user_guide/indexing.html#returning-a-view-versus-a-copy\n"
     ],
     "output_type": "stream"
    }
   ],
   "source": [
    "import pandas as pd\n",
    "\n",
    "unprocessed_df = pd.read_csv(\"features_data.csv\")\n",
    "new = unprocessed_df[['views','likes','dislikes']]\n",
    "new.dtypes\n",
    "#new[\"views\"] = new.views.astype(float)\n",
    "new[\"views\"] = pd.to_numeric(new.views, errors='coerce')\n",
    "new.dtypes\n",
    "new[\"likes\"] = pd.to_numeric(new.likes, errors='coerce')\n",
    "new[\"dislikes\"] = pd.to_numeric(new.dislikes, errors='coerce')\n",
    "new.dtypes\n",
    "\n",
    "\n",
    "\n",
    "def outcome(new, w1,w2,w3, iter = 1):\n",
    "    new['neutral']=new['views']-new['likes']-new['dislikes']\n",
    "    y=w1*new['likes']+w2*new['neutral']+w3*new['dislikes']\n",
    "    new[\"y_cat_\"+ str(iter)] =pd.qcut(y,3,labels=[\"low\", \"medium\", \"high\"])  \n",
    "    return new\n",
    "\n",
    "new = outcome(new, 1/3,1/3,1/3, 1) # equally important\n",
    "new = outcome(new, 1/2,1/4,1/4, 2) # likes more important\n",
    "new = outcome(new, 1/2,3/8,1/8, 3) # likes more important"
   ]
  },
  {
   "cell_type": "code",
   "execution_count": 18,
   "outputs": [
    {
     "name": "stderr",
     "text": [
      "/Library/Frameworks/Python.framework/Versions/3.7/lib/python3.7/site-packages/ipykernel_launcher.py:16: SettingWithCopyWarning: \n",
      "A value is trying to be set on a copy of a slice from a DataFrame.\n",
      "Try using .loc[row_indexer,col_indexer] = value instead\n",
      "\n",
      "See the caveats in the documentation: http://pandas.pydata.org/pandas-docs/stable/user_guide/indexing.html#returning-a-view-versus-a-copy\n",
      "  app.launch_new_instance()\n",
      "/Library/Frameworks/Python.framework/Versions/3.7/lib/python3.7/site-packages/ipykernel_launcher.py:18: SettingWithCopyWarning: \n",
      "A value is trying to be set on a copy of a slice from a DataFrame.\n",
      "Try using .loc[row_indexer,col_indexer] = value instead\n",
      "\n",
      "See the caveats in the documentation: http://pandas.pydata.org/pandas-docs/stable/user_guide/indexing.html#returning-a-view-versus-a-copy\n"
     ],
     "output_type": "stream"
    },
    {
     "data": {
      "text/plain": "          views     likes  dislikes    neutral y_cat_1 y_cat_2 y_cat_3\n0       81377.0     655.0      25.0    80697.0     low     low     low\n1      288922.0    7515.0     792.0   280615.0  medium  medium  medium\n2       34785.0     308.0      26.0    34451.0     low     low     low\n3     1496225.0   16116.0     236.0  1479873.0    high    high    high\n4      237307.0    1896.0      74.0   235337.0     low     low     low\n...         ...       ...       ...        ...     ...     ...     ...\n6434   735189.0   13364.0     488.0   721337.0  medium  medium  medium\n6435   820885.0   21819.0     463.0   798603.0  medium  medium  medium\n6436  2771306.0   81319.0    4182.0  2685805.0    high    high    high\n6437   608459.0   21784.0     175.0   586500.0  medium  medium  medium\n6438  5660813.0  192957.0    2846.0  5465010.0    high    high    high\n\n[6439 rows x 7 columns]",
      "text/html": "<div>\n<style scoped>\n    .dataframe tbody tr th:only-of-type {\n        vertical-align: middle;\n    }\n\n    .dataframe tbody tr th {\n        vertical-align: top;\n    }\n\n    .dataframe thead th {\n        text-align: right;\n    }\n</style>\n<table border=\"1\" class=\"dataframe\">\n  <thead>\n    <tr style=\"text-align: right;\">\n      <th></th>\n      <th>views</th>\n      <th>likes</th>\n      <th>dislikes</th>\n      <th>neutral</th>\n      <th>y_cat_1</th>\n      <th>y_cat_2</th>\n      <th>y_cat_3</th>\n    </tr>\n  </thead>\n  <tbody>\n    <tr>\n      <th>0</th>\n      <td>81377.0</td>\n      <td>655.0</td>\n      <td>25.0</td>\n      <td>80697.0</td>\n      <td>low</td>\n      <td>low</td>\n      <td>low</td>\n    </tr>\n    <tr>\n      <th>1</th>\n      <td>288922.0</td>\n      <td>7515.0</td>\n      <td>792.0</td>\n      <td>280615.0</td>\n      <td>medium</td>\n      <td>medium</td>\n      <td>medium</td>\n    </tr>\n    <tr>\n      <th>2</th>\n      <td>34785.0</td>\n      <td>308.0</td>\n      <td>26.0</td>\n      <td>34451.0</td>\n      <td>low</td>\n      <td>low</td>\n      <td>low</td>\n    </tr>\n    <tr>\n      <th>3</th>\n      <td>1496225.0</td>\n      <td>16116.0</td>\n      <td>236.0</td>\n      <td>1479873.0</td>\n      <td>high</td>\n      <td>high</td>\n      <td>high</td>\n    </tr>\n    <tr>\n      <th>4</th>\n      <td>237307.0</td>\n      <td>1896.0</td>\n      <td>74.0</td>\n      <td>235337.0</td>\n      <td>low</td>\n      <td>low</td>\n      <td>low</td>\n    </tr>\n    <tr>\n      <th>...</th>\n      <td>...</td>\n      <td>...</td>\n      <td>...</td>\n      <td>...</td>\n      <td>...</td>\n      <td>...</td>\n      <td>...</td>\n    </tr>\n    <tr>\n      <th>6434</th>\n      <td>735189.0</td>\n      <td>13364.0</td>\n      <td>488.0</td>\n      <td>721337.0</td>\n      <td>medium</td>\n      <td>medium</td>\n      <td>medium</td>\n    </tr>\n    <tr>\n      <th>6435</th>\n      <td>820885.0</td>\n      <td>21819.0</td>\n      <td>463.0</td>\n      <td>798603.0</td>\n      <td>medium</td>\n      <td>medium</td>\n      <td>medium</td>\n    </tr>\n    <tr>\n      <th>6436</th>\n      <td>2771306.0</td>\n      <td>81319.0</td>\n      <td>4182.0</td>\n      <td>2685805.0</td>\n      <td>high</td>\n      <td>high</td>\n      <td>high</td>\n    </tr>\n    <tr>\n      <th>6437</th>\n      <td>608459.0</td>\n      <td>21784.0</td>\n      <td>175.0</td>\n      <td>586500.0</td>\n      <td>medium</td>\n      <td>medium</td>\n      <td>medium</td>\n    </tr>\n    <tr>\n      <th>6438</th>\n      <td>5660813.0</td>\n      <td>192957.0</td>\n      <td>2846.0</td>\n      <td>5465010.0</td>\n      <td>high</td>\n      <td>high</td>\n      <td>high</td>\n    </tr>\n  </tbody>\n</table>\n<p>6439 rows × 7 columns</p>\n</div>"
     },
     "metadata": {},
     "output_type": "execute_result",
     "execution_count": 18
    }
   ],
   "source": [
    "from sklearn.neural_network import MLPClassifier\n",
    "import numpy as np\n",
    "\n",
    "\n",
    "outcome(new,1/3,1/3,1/3, 1)\n",
    "#X,Y = new, y\n",
    "\n",
    "\n",
    "#mlp = MLPClassifier()\n",
    "#mlp.fit(X, Y)\n",
    "\n",
    "\n"
   ],
   "metadata": {
    "collapsed": false,
    "pycharm": {
     "name": "#%%\n",
     "is_executing": false
    }
   }
  },
  {
   "cell_type": "code",
   "execution_count": 5,
   "outputs": [
    {
     "name": "stdout",
     "text": [
      "[0.09003057 0.24472847 0.66524096]\n"
     ],
     "output_type": "stream"
    }
   ],
   "source": [
    "def softmax(A):\n",
    "    expA = np.exp(A)\n",
    "    return expA / expA.sum()\n",
    "\n",
    "nums = np.array([4, 5, 6])\n",
    "print(softmax(nums))\n",
    "\n"
   ],
   "metadata": {
    "collapsed": false,
    "pycharm": {
     "name": "#%%\n",
     "is_executing": false
    }
   }
  },
  {
   "cell_type": "code",
   "execution_count": 6,
   "outputs": [
    {
     "traceback": [
      "\u001b[0;31m---------------------------------------------------------------------------\u001b[0m",
      "\u001b[0;31mNameError\u001b[0m                                 Traceback (most recent call last)",
      "\u001b[0;32m<ipython-input-6-3876d58987a6>\u001b[0m in \u001b[0;36m<module>\u001b[0;34m\u001b[0m\n\u001b[1;32m      2\u001b[0m                'clf__activation': ['identity', 'logistic', 'tanh', 'relu']}]\n\u001b[1;32m      3\u001b[0m \u001b[0;34m\u001b[0m\u001b[0m\n\u001b[0;32m----> 4\u001b[0;31m \u001b[0mparam_grids\u001b[0m\u001b[0;34m[\u001b[0m\u001b[0;34m'mlp'\u001b[0m\u001b[0;34m]\u001b[0m \u001b[0;34m=\u001b[0m \u001b[0mparam_grid\u001b[0m\u001b[0;34m\u001b[0m\u001b[0;34m\u001b[0m\u001b[0m\n\u001b[0m\u001b[1;32m      5\u001b[0m \u001b[0;34m\u001b[0m\u001b[0m\n",
      "\u001b[0;31mNameError\u001b[0m: name 'param_grids' is not defined"
     ],
     "ename": "NameError",
     "evalue": "name 'param_grids' is not defined",
     "output_type": "error"
    }
   ],
   "source": [
    "from sklearn.pipeline import Pipeline\n",
    "from sklearn.preprocessing import StandardScaler\n",
    "\n",
    "pipe_clfs = {}\n",
    "\n",
    "for name, clf in clfs.items():\n",
    "    # Implement me\n",
    "    pipe_clfs[name] = \n",
    "\n",
    "param_grid = [{'clf__hidden_layer_sizes': [10, 100],\n",
    "               'clf__activation': ['identity', 'logistic', 'tanh', 'relu']}]\n",
    "\n",
    "param_grids['mlp'] = param_grid"
   ],
   "metadata": {
    "collapsed": false,
    "pycharm": {
     "name": "#%%\n",
     "is_executing": false
    }
   }
  },
  {
   "cell_type": "code",
   "execution_count": null,
   "outputs": [],
   "source": [
    "\n"
   ],
   "metadata": {
    "collapsed": false,
    "pycharm": {
     "name": "#%%\n"
    }
   }
  }
 ],
 "metadata": {
  "kernelspec": {
   "display_name": "Python 3",
   "language": "python",
   "name": "python3"
  },
  "language_info": {
   "codemirror_mode": {
    "name": "ipython",
    "version": 2
   },
   "file_extension": ".py",
   "mimetype": "text/x-python",
   "name": "python",
   "nbconvert_exporter": "python",
   "pygments_lexer": "ipython2",
   "version": "2.7.6"
  },
  "pycharm": {
   "stem_cell": {
    "cell_type": "raw",
    "source": [],
    "metadata": {
     "collapsed": false
    }
   }
  }
 },
 "nbformat": 4,
 "nbformat_minor": 0
}