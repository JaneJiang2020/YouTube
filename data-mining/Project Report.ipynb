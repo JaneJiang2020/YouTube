{
 "cells": [
  {
   "cell_type": "code",
   "execution_count": 244,
   "metadata": {},
   "outputs": [
    {
     "data": {
      "text/html": [
       "<script>\n",
       "code_show=true; \n",
       "function code_toggle() {\n",
       " if (code_show){\n",
       " $('div.input').hide();\n",
       " } else {\n",
       " $('div.input').show();\n",
       " }\n",
       " code_show = !code_show\n",
       "} \n",
       "$( document ).ready(code_toggle);\n",
       "</script>\n",
       "<form action=\"javascript:code_toggle()\"><input type=\"submit\" value=\"Please click here to toggle on/off the code\"></form>"
      ],
      "text/plain": [
       "<IPython.core.display.HTML object>"
      ]
     },
     "execution_count": 244,
     "metadata": {},
     "output_type": "execute_result"
    }
   ],
   "source": [
    "from IPython.display import HTML\n",
    "\n",
    "HTML('''<script>\n",
    "code_show=true; \n",
    "function code_toggle() {\n",
    " if (code_show){\n",
    " $('div.input').hide();\n",
    " } else {\n",
    " $('div.input').show();\n",
    " }\n",
    " code_show = !code_show\n",
    "} \n",
    "$( document ).ready(code_toggle);\n",
    "</script>\n",
    "<form action=\"javascript:code_toggle()\"><input type=\"submit\" value=\"Please click here to toggle on/off the code\"></form>''')"
   ]
  },
  {
   "cell_type": "markdown",
   "metadata": {},
   "source": [
    "<b>\n",
    "\n",
    "<p>\n",
    "<center>\n",
    "<font size=\"5\">\n",
    "Machine Learning I (DATS 6202), Fall 2019\n",
    "</font>\n",
    "</center>\n",
    "</p>\n",
    "\n",
    "<p>\n",
    "<center>\n",
    "<font size=\"4\">\n",
    "Final Project: YouTube Video Popularity Level Classification\n",
    "</font>\n",
    "</center>\n",
    "</p>\n",
    "\n",
    "<p>\n",
    "<center>\n",
    "<font size=\"3\">\n",
    "Data Science, Columbian College of Arts & Sciences, George Washington University\n",
    "</font>\n",
    "</center>\n",
    "</p>\n",
    "\n",
    "<p>\n",
    "<center>\n",
    "<font size=\"3\">\n",
    "Author: Tanaya Kavathekar, Yunyun Jiang, Mishkin Khunger\n",
    "</font>\n",
    "</center>\n",
    "</p>\n",
    "\n",
    "</b>"
   ]
  },
  {
   "cell_type": "markdown",
   "metadata": {
    "toc": true
   },
   "source": [
    "<h1>Table of Contents<span class=\"tocSkip\"></span></h1>\n",
    "<div class=\"toc\"><ul class=\"toc-item\"><li><span><a href=\"#Introduction\" data-toc-modified-id=\"Introduction-1\"><span class=\"toc-item-num\">1&nbsp;&nbsp;</span>Introduction</a></span></li><li><span><a href=\"#Literature-Review\" data-toc-modified-id=\"Literature-Review-2\"><span class=\"toc-item-num\">2&nbsp;&nbsp;</span>Literature Review</a></span></li><li><span><a href=\"#Import-libraries\" data-toc-modified-id=\"Import-libraries-3\"><span class=\"toc-item-num\">3&nbsp;&nbsp;</span>Import libraries</a></span></li><li><span><a href=\"#Data\" data-toc-modified-id=\"Data-4\"><span class=\"toc-item-num\">4&nbsp;&nbsp;</span>Data</a></span><ul class=\"toc-item\"><li><span><a href=\"#Data-preprocessing\" data-toc-modified-id=\"Data-preprocessing-4.1\"><span class=\"toc-item-num\">4.1&nbsp;&nbsp;</span>Data preprocessing</a></span><ul class=\"toc-item\"><li><span><a href=\"#Merging-category-description\" data-toc-modified-id=\"Merging-category-description-4.1.1\"><span class=\"toc-item-num\">4.1.1&nbsp;&nbsp;</span>Merging category description</a></span></li><li><span><a href=\"#Filter-for-the-last-row\" data-toc-modified-id=\"Filter-for-the-last-row-4.1.2\"><span class=\"toc-item-num\">4.1.2&nbsp;&nbsp;</span>Filter for the last row</a></span></li><li><span><a href=\"#Missing-value-check\" data-toc-modified-id=\"Missing-value-check-4.1.3\"><span class=\"toc-item-num\">4.1.3&nbsp;&nbsp;</span>Missing value check</a></span></li><li><span><a href=\"#Outlier-detection-and-treatment\" data-toc-modified-id=\"Outlier-detection-and-treatment-4.1.4\"><span class=\"toc-item-num\">4.1.4&nbsp;&nbsp;</span>Outlier detection and treatment</a></span></li><li><span><a href=\"#Calculating-neutral-views\" data-toc-modified-id=\"Calculating-neutral-views-4.1.5\"><span class=\"toc-item-num\">4.1.5&nbsp;&nbsp;</span>Calculating neutral views</a></span></li></ul></li><li><span><a href=\"#Exploratory-Data-Analysis\" data-toc-modified-id=\"Exploratory-Data-Analysis-4.2\"><span class=\"toc-item-num\">4.2&nbsp;&nbsp;</span>Exploratory Data Analysis</a></span><ul class=\"toc-item\"><li><span><a href=\"#Data-Summary\" data-toc-modified-id=\"Data-Summary-4.2.1\"><span class=\"toc-item-num\">4.2.1&nbsp;&nbsp;</span>Data Summary</a></span></li><li><span><a href=\"#Data-Distribution\" data-toc-modified-id=\"Data-Distribution-4.2.2\"><span class=\"toc-item-num\">4.2.2&nbsp;&nbsp;</span>Data Distribution</a></span></li><li><span><a href=\"#Month-wise-distribution-for-published-time\" data-toc-modified-id=\"Month-wise-distribution-for-published-time-4.2.3\"><span class=\"toc-item-num\">4.2.3&nbsp;&nbsp;</span>Month wise distribution for published time</a></span></li><li><span><a href=\"#Month-wise-distribution-for-trending-date\" data-toc-modified-id=\"Month-wise-distribution-for-trending-date-4.2.4\"><span class=\"toc-item-num\">4.2.4&nbsp;&nbsp;</span>Month wise distribution for trending date</a></span></li><li><span><a href=\"#Day-wise-distribution-for-published-time\" data-toc-modified-id=\"Day-wise-distribution-for-published-time-4.2.5\"><span class=\"toc-item-num\">4.2.5&nbsp;&nbsp;</span>Day wise distribution for published time</a></span></li><li><span><a href=\"#Day-wise-distribution-for-trending-date\" data-toc-modified-id=\"Day-wise-distribution-for-trending-date-4.2.6\"><span class=\"toc-item-num\">4.2.6&nbsp;&nbsp;</span>Day wise distribution for trending date</a></span></li><li><span><a href=\"#Hour-wise-distribution-for-published-time\" data-toc-modified-id=\"Hour-wise-distribution-for-published-time-4.2.7\"><span class=\"toc-item-num\">4.2.7&nbsp;&nbsp;</span>Hour wise distribution for published time</a></span></li><li><span><a href=\"#Category-wise-distribution\" data-toc-modified-id=\"Category-wise-distribution-4.2.8\"><span class=\"toc-item-num\">4.2.8&nbsp;&nbsp;</span>Category wise distribution</a></span></li><li><span><a href=\"#Average-views-in-each-category\" data-toc-modified-id=\"Average-views-in-each-category-4.2.9\"><span class=\"toc-item-num\">4.2.9&nbsp;&nbsp;</span>Average views in each category</a></span></li><li><span><a href=\"#Merge-average-category-views-as-a-category-defining-feature\" data-toc-modified-id=\"Merge-average-category-views-as-a-category-defining-feature-4.2.10\"><span class=\"toc-item-num\">4.2.10&nbsp;&nbsp;</span>Merge average category views as a category defining feature</a></span></li><li><span><a href=\"#Time-difference-between-trending-date-and-published-date\" data-toc-modified-id=\"Time-difference-between-trending-date-and-published-date-4.2.11\"><span class=\"toc-item-num\">4.2.11&nbsp;&nbsp;</span>Time difference between trending date and published date</a></span></li><li><span><a href=\"#Counting-the-word-counts-in-title-and-tags\" data-toc-modified-id=\"Counting-the-word-counts-in-title-and-tags-4.2.12\"><span class=\"toc-item-num\">4.2.12&nbsp;&nbsp;</span>Counting the word counts in title and tags</a></span></li></ul></li></ul></li><li><span><a href=\"#Outcome-Variable\" data-toc-modified-id=\"Outcome-Variable-5\"><span class=\"toc-item-num\">5&nbsp;&nbsp;</span>Outcome Variable</a></span><ul class=\"toc-item\"><li><span><a href=\"#Compare-across-popularity-level-with-different-weights\" data-toc-modified-id=\"Compare-across-popularity-level-with-different-weights-5.1\"><span class=\"toc-item-num\">5.1&nbsp;&nbsp;</span>Compare across popularity level with different weights</a></span></li><li><span><a href=\"#Divide-views-into-three-equal-classes\" data-toc-modified-id=\"Divide-views-into-three-equal-classes-5.2\"><span class=\"toc-item-num\">5.2&nbsp;&nbsp;</span>Divide views into three equal classes</a></span></li><li><span><a href=\"#Correlation-plot\" data-toc-modified-id=\"Correlation-plot-5.3\"><span class=\"toc-item-num\">5.3&nbsp;&nbsp;</span>Correlation plot</a></span></li></ul></li><li><span><a href=\"#Target-and-Indepedent-Variables\" data-toc-modified-id=\"Target-and-Indepedent-Variables-6\"><span class=\"toc-item-num\">6&nbsp;&nbsp;</span>Target and Indepedent Variables</a></span><ul class=\"toc-item\"><li><span><a href=\"#Check-categorical-values\" data-toc-modified-id=\"Check-categorical-values-6.1\"><span class=\"toc-item-num\">6.1&nbsp;&nbsp;</span>Check categorical values</a></span></li><li><span><a href=\"#One-hot-encoding\" data-toc-modified-id=\"One-hot-encoding-6.2\"><span class=\"toc-item-num\">6.2&nbsp;&nbsp;</span>One hot encoding</a></span></li></ul></li><li><span><a href=\"#Separate-train-and-test-to-predict-the-model\" data-toc-modified-id=\"Separate-train-and-test-to-predict-the-model-7\"><span class=\"toc-item-num\">7&nbsp;&nbsp;</span>Separate train and test to predict the model</a></span></li><li><span><a href=\"#Model-Building\" data-toc-modified-id=\"Model-Building-8\"><span class=\"toc-item-num\">8&nbsp;&nbsp;</span>Model Building</a></span><ul class=\"toc-item\"><li><span><a href=\"#Defining-models-and-hyper-parameters\" data-toc-modified-id=\"Defining-models-and-hyper-parameters-8.1\"><span class=\"toc-item-num\">8.1&nbsp;&nbsp;</span>Defining models and hyper parameters</a></span></li><li><span><a href=\"#Grid-Search\" data-toc-modified-id=\"Grid-Search-8.2\"><span class=\"toc-item-num\">8.2&nbsp;&nbsp;</span>Grid Search</a></span></li><li><span><a href=\"#Feature-Importance\" data-toc-modified-id=\"Feature-Importance-8.3\"><span class=\"toc-item-num\">8.3&nbsp;&nbsp;</span>Feature Importance</a></span></li><li><span><a href=\"#Model-accuracy\" data-toc-modified-id=\"Model-accuracy-8.4\"><span class=\"toc-item-num\">8.4&nbsp;&nbsp;</span>Model accuracy</a></span></li></ul></li><li><span><a href=\"#Prediction\" data-toc-modified-id=\"Prediction-9\"><span class=\"toc-item-num\">9&nbsp;&nbsp;</span>Prediction</a></span><ul class=\"toc-item\"><li><span><a href=\"#Confusion-Matrix\" data-toc-modified-id=\"Confusion-Matrix-9.1\"><span class=\"toc-item-num\">9.1&nbsp;&nbsp;</span>Confusion Matrix</a></span></li><li><span><a href=\"#Receiver-operating-characteristic-curve\" data-toc-modified-id=\"Receiver-operating-characteristic-curve-9.2\"><span class=\"toc-item-num\">9.2&nbsp;&nbsp;</span>Receiver operating characteristic curve</a></span></li></ul></li><li><span><a href=\"#Conclusion\" data-toc-modified-id=\"Conclusion-10\"><span class=\"toc-item-num\">10&nbsp;&nbsp;</span>Conclusion</a></span></li><li><span><a href=\"#Limitation\" data-toc-modified-id=\"Limitation-11\"><span class=\"toc-item-num\">11&nbsp;&nbsp;</span>Limitation</a></span></li><li><span><a href=\"#Future-work\" data-toc-modified-id=\"Future-work-12\"><span class=\"toc-item-num\">12&nbsp;&nbsp;</span>Future work</a></span></li><li><span><a href=\"#References\" data-toc-modified-id=\"References-13\"><span class=\"toc-item-num\">13&nbsp;&nbsp;</span>References</a></span></li></ul></div>"
   ]
  },
  {
   "cell_type": "markdown",
   "metadata": {},
   "source": [
    "# Introduction\n",
    "A wide range of reasons may affect the popularity level of a Youtube video such as trending time, category, popular tags, duration of video,\n",
    "as well as the publish time (whether it is weekend and weekdays). The goal of this project is  get a better understanding of important features\n",
    "that affect the popularity level of a Youtube video and how we can make prediction of the popularity level for a future Youtube video. There are two\n",
    "objectives for this study listed as follow:\n",
    "\n",
    "1. To efficiently plan advertisement strategies based upon the artists’ evaluation of chances of success of the youtube video before release\n",
    "2. To determine the appropriate time of the day to release the youtube video to maximize hits.  "
   ]
  },
  {
   "cell_type": "markdown",
   "metadata": {},
   "source": [
    "# Literature Review"
   ]
  },
  {
   "cell_type": "markdown",
   "metadata": {},
   "source": [
    "The YouTube users has reached 1.9 billions worldwide according to Statista,2019. [1] Watching videos in YouTube becomes an important part of our daily life. Predicting videos popularity is of valuable for many services and applications from supporting design and evaluation of a wide range of systems. Several studies have analyzed and predicted which videos are viewed the most on YouTube using machine learning method including logistic regression and support vector machine. [2,3] Previous studies made prediction based on the temporal features including the “age” of the video, category, video length, video rate, ratings, and number of comments.[2] However,  the performance of prediction among different methods have not been compared etc random forest, support vector machine and deep neural network. Secondly, other important features would make significant contribution to the model prediction , which has not been taken into consideration in previous studies. For instance, the average review counts in each video category, number of tags, which were used in the similar fashion to predict Twitter Hashtags Popularity Level. [4] To address these issues, we explore and evaluate currently widely used machine learning techniques with respect to prediction accuracy by incorporating a white range of potential temporal features."
   ]
  },
  {
   "cell_type": "markdown",
   "metadata": {},
   "source": [
    "# Import libraries\n"
   ]
  },
  {
   "cell_type": "markdown",
   "metadata": {},
   "source": [
    "We are importing various data munging and machine learning libraries here."
   ]
  },
  {
   "cell_type": "code",
   "execution_count": 240,
   "metadata": {
    "pycharm": {
     "is_executing": false
    }
   },
   "outputs": [],
   "source": [
    "import pandas as pd\n",
    "import json\n",
    "import matplotlib.pyplot as plt\n",
    "import seaborn as sns\n",
    "import numpy as np\n",
    "from wordcloud import WordCloud, STOPWORDS\n",
    "\n",
    "# Models\n",
    "from sklearn.model_selection import GridSearchCV\n",
    "from sklearn.model_selection import StratifiedKFold\n",
    "from sklearn.linear_model import LogisticRegression\n",
    "from sklearn.neural_network import MLPClassifier\n",
    "from sklearn.tree import DecisionTreeClassifier\n",
    "from sklearn.ensemble import RandomForestClassifier\n",
    "from xgboost.sklearn import XGBClassifier\n",
    "from sklearn.svm import SVC\n",
    "from sklearn.neighbors import KNeighborsClassifier\n",
    "from sklearn.naive_bayes import GaussianNB\n",
    "from sklearn.model_selection import train_test_split\n",
    "from sklearn.model_selection import GridSearchCV\n",
    "from sklearn.model_selection import StratifiedKFold\n",
    "from sklearn.pipeline import Pipeline\n",
    "from sklearn.preprocessing import StandardScaler\n",
    "from scipy import stats\n",
    "from pandas_ml import ConfusionMatrix\n",
    "from sklearn.preprocessing import label_binarize\n",
    "from sklearn.metrics import roc_curve, auc\n",
    "from scipy import interp\n",
    "from itertools import cycle\n",
    "from sklearn.metrics import confusion_matrix\n",
    "\n",
    "import warnings\n",
    "warnings.filterwarnings('ignore')"
   ]
  },
  {
   "cell_type": "markdown",
   "metadata": {
    "pycharm": {
     "name": "#%% md\n"
    }
   },
   "source": [
    "# Data"
   ]
  },
  {
   "cell_type": "markdown",
   "metadata": {},
   "source": [
    "Data source for this project is Kaggle. You can find data [here](https://www.kaggle.com/datasnaek/youtube-new)\n",
    "The data is present for several countries and has around 16 columns such as trending date, views, likes, dislikes, etc. We are using data for US region. We are using following files for our analysis:\n",
    "1. US Videos: This is a CSV file having daily records of trending videos \n",
    "2. Category ID: This is a mapping of JSON file type. This file gives description of categories ID\n"
   ]
  },
  {
   "cell_type": "code",
   "execution_count": 196,
   "metadata": {
    "pycharm": {
     "is_executing": false,
     "name": "#%%\n"
    }
   },
   "outputs": [
    {
     "name": "stdout",
     "output_type": "stream",
     "text": [
      "Below are top 2 lines of US videos data\n"
     ]
    },
    {
     "data": {
      "text/html": [
       "<div>\n",
       "<style scoped>\n",
       "    .dataframe tbody tr th:only-of-type {\n",
       "        vertical-align: middle;\n",
       "    }\n",
       "\n",
       "    .dataframe tbody tr th {\n",
       "        vertical-align: top;\n",
       "    }\n",
       "\n",
       "    .dataframe thead th {\n",
       "        text-align: right;\n",
       "    }\n",
       "</style>\n",
       "<table border=\"1\" class=\"dataframe\">\n",
       "  <thead>\n",
       "    <tr style=\"text-align: right;\">\n",
       "      <th></th>\n",
       "      <th>video_id</th>\n",
       "      <th>trending_date</th>\n",
       "      <th>title</th>\n",
       "      <th>channel_title</th>\n",
       "      <th>category_id</th>\n",
       "      <th>publish_time</th>\n",
       "      <th>tags</th>\n",
       "      <th>views</th>\n",
       "      <th>likes</th>\n",
       "      <th>dislikes</th>\n",
       "      <th>comment_count</th>\n",
       "      <th>thumbnail_link</th>\n",
       "      <th>comments_disabled</th>\n",
       "      <th>ratings_disabled</th>\n",
       "      <th>video_error_or_removed</th>\n",
       "      <th>description</th>\n",
       "    </tr>\n",
       "  </thead>\n",
       "  <tbody>\n",
       "    <tr>\n",
       "      <th>0</th>\n",
       "      <td>2kyS6SvSYSE</td>\n",
       "      <td>17.14.11</td>\n",
       "      <td>WE WANT TO TALK ABOUT OUR MARRIAGE</td>\n",
       "      <td>CaseyNeistat</td>\n",
       "      <td>22</td>\n",
       "      <td>2017-11-13T17:13:01.000Z</td>\n",
       "      <td>SHANtell martin</td>\n",
       "      <td>748374</td>\n",
       "      <td>57527</td>\n",
       "      <td>2966</td>\n",
       "      <td>15954</td>\n",
       "      <td>https://i.ytimg.com/vi/2kyS6SvSYSE/default.jpg</td>\n",
       "      <td>False</td>\n",
       "      <td>False</td>\n",
       "      <td>False</td>\n",
       "      <td>SHANTELL'S CHANNEL - https://www.youtube.com/s...</td>\n",
       "    </tr>\n",
       "    <tr>\n",
       "      <th>1</th>\n",
       "      <td>1ZAPwfrtAFY</td>\n",
       "      <td>17.14.11</td>\n",
       "      <td>The Trump Presidency: Last Week Tonight with J...</td>\n",
       "      <td>LastWeekTonight</td>\n",
       "      <td>24</td>\n",
       "      <td>2017-11-13T07:30:00.000Z</td>\n",
       "      <td>last week tonight trump presidency|\"last week ...</td>\n",
       "      <td>2418783</td>\n",
       "      <td>97185</td>\n",
       "      <td>6146</td>\n",
       "      <td>12703</td>\n",
       "      <td>https://i.ytimg.com/vi/1ZAPwfrtAFY/default.jpg</td>\n",
       "      <td>False</td>\n",
       "      <td>False</td>\n",
       "      <td>False</td>\n",
       "      <td>One year after the presidential election, John...</td>\n",
       "    </tr>\n",
       "  </tbody>\n",
       "</table>\n",
       "</div>"
      ],
      "text/plain": [
       "      video_id trending_date  \\\n",
       "0  2kyS6SvSYSE      17.14.11   \n",
       "1  1ZAPwfrtAFY      17.14.11   \n",
       "\n",
       "                                               title    channel_title  \\\n",
       "0                 WE WANT TO TALK ABOUT OUR MARRIAGE     CaseyNeistat   \n",
       "1  The Trump Presidency: Last Week Tonight with J...  LastWeekTonight   \n",
       "\n",
       "   category_id              publish_time  \\\n",
       "0           22  2017-11-13T17:13:01.000Z   \n",
       "1           24  2017-11-13T07:30:00.000Z   \n",
       "\n",
       "                                                tags    views  likes  \\\n",
       "0                                    SHANtell martin   748374  57527   \n",
       "1  last week tonight trump presidency|\"last week ...  2418783  97185   \n",
       "\n",
       "   dislikes  comment_count                                  thumbnail_link  \\\n",
       "0      2966          15954  https://i.ytimg.com/vi/2kyS6SvSYSE/default.jpg   \n",
       "1      6146          12703  https://i.ytimg.com/vi/1ZAPwfrtAFY/default.jpg   \n",
       "\n",
       "   comments_disabled  ratings_disabled  video_error_or_removed  \\\n",
       "0              False             False                   False   \n",
       "1              False             False                   False   \n",
       "\n",
       "                                         description  \n",
       "0  SHANTELL'S CHANNEL - https://www.youtube.com/s...  \n",
       "1  One year after the presidential election, John...  "
      ]
     },
     "execution_count": 196,
     "metadata": {},
     "output_type": "execute_result"
    }
   ],
   "source": [
    "# read files\n",
    "unprocessed_df = pd.read_csv(\"../Data/US_videos.csv\")\n",
    "\n",
    "# read json file\n",
    "with open(\"../Data/US_category_id.json\") as train_file:\n",
    "    categories = json.load(train_file)[\"items\"]\n",
    "\n",
    "print(\"Below are top 2 lines of US videos data\")\n",
    "unprocessed_df.head(2)"
   ]
  },
  {
   "cell_type": "code",
   "execution_count": 197,
   "metadata": {},
   "outputs": [
    {
     "data": {
      "text/plain": [
       "(40949, 16)"
      ]
     },
     "execution_count": 197,
     "metadata": {},
     "output_type": "execute_result"
    }
   ],
   "source": [
    "unprocessed_df.shape"
   ]
  },
  {
   "cell_type": "markdown",
   "metadata": {},
   "source": [
    "## Data preprocessing\n",
    "In this section we will be performing various data manipulation and data cleaning steps. "
   ]
  },
  {
   "cell_type": "markdown",
   "metadata": {},
   "source": [
    "### Merging category description "
   ]
  },
  {
   "cell_type": "markdown",
   "metadata": {},
   "source": [
    "As original CSV does not have category description, we are maping json file containing data description to the original dataset"
   ]
  },
  {
   "cell_type": "code",
   "execution_count": 198,
   "metadata": {
    "pycharm": {
     "is_executing": false,
     "name": "#%%\n"
    }
   },
   "outputs": [
    {
     "data": {
      "text/html": [
       "<div>\n",
       "<style scoped>\n",
       "    .dataframe tbody tr th:only-of-type {\n",
       "        vertical-align: middle;\n",
       "    }\n",
       "\n",
       "    .dataframe tbody tr th {\n",
       "        vertical-align: top;\n",
       "    }\n",
       "\n",
       "    .dataframe thead th {\n",
       "        text-align: right;\n",
       "    }\n",
       "</style>\n",
       "<table border=\"1\" class=\"dataframe\">\n",
       "  <thead>\n",
       "    <tr style=\"text-align: right;\">\n",
       "      <th></th>\n",
       "      <th>category_name</th>\n",
       "      <th>category_id</th>\n",
       "    </tr>\n",
       "  </thead>\n",
       "  <tbody>\n",
       "    <tr>\n",
       "      <th>0</th>\n",
       "      <td>People &amp; Blogs</td>\n",
       "      <td>22</td>\n",
       "    </tr>\n",
       "    <tr>\n",
       "      <th>1</th>\n",
       "      <td>Entertainment</td>\n",
       "      <td>24</td>\n",
       "    </tr>\n",
       "    <tr>\n",
       "      <th>2</th>\n",
       "      <td>Comedy</td>\n",
       "      <td>23</td>\n",
       "    </tr>\n",
       "    <tr>\n",
       "      <th>3</th>\n",
       "      <td>Entertainment</td>\n",
       "      <td>24</td>\n",
       "    </tr>\n",
       "    <tr>\n",
       "      <th>4</th>\n",
       "      <td>Entertainment</td>\n",
       "      <td>24</td>\n",
       "    </tr>\n",
       "  </tbody>\n",
       "</table>\n",
       "</div>"
      ],
      "text/plain": [
       "    category_name  category_id\n",
       "0  People & Blogs           22\n",
       "1   Entertainment           24\n",
       "2          Comedy           23\n",
       "3   Entertainment           24\n",
       "4   Entertainment           24"
      ]
     },
     "execution_count": 198,
     "metadata": {},
     "output_type": "execute_result"
    }
   ],
   "source": [
    "def get_category_id(categories):\n",
    "    \"\"\"\"\n",
    "    \n",
    "    Get descriptions of the category ids\n",
    "    \n",
    "    Parameters\n",
    "    ----------\n",
    "    categories: dataframe\n",
    "    \n",
    "    Returns\n",
    "    ----------\n",
    "    Dataframe with a new column of categories descriptions\n",
    "    \"\"\"\n",
    "    cat_dict = {}\n",
    "    for cat in categories:\n",
    "        cat_dict[int(cat[\"id\"])] = cat[\"snippet\"][\"title\"]\n",
    "    return cat_dict\n",
    "\n",
    "cat_dict = get_category_id(categories)\n",
    "unprocessed_df['category_name'] = unprocessed_df['category_id'].map(cat_dict)\n",
    "unprocessed_df[['category_name', 'category_id']][:5]"
   ]
  },
  {
   "cell_type": "markdown",
   "metadata": {
    "pycharm": {
     "name": "#%% md\n"
    }
   },
   "source": [
    "### Filter for the last row"
   ]
  },
  {
   "cell_type": "markdown",
   "metadata": {},
   "source": [
    "Number of views, likes, dislikes and comment count are cumulative columns because data is a sample of daily records. Hence we are subsetting data for the last trending date record. Now the level of the data is video ID"
   ]
  },
  {
   "cell_type": "code",
   "execution_count": 199,
   "metadata": {
    "pycharm": {
     "is_executing": false,
     "name": "#%%\n"
    }
   },
   "outputs": [
    {
     "data": {
      "text/html": [
       "<div>\n",
       "<style scoped>\n",
       "    .dataframe tbody tr th:only-of-type {\n",
       "        vertical-align: middle;\n",
       "    }\n",
       "\n",
       "    .dataframe tbody tr th {\n",
       "        vertical-align: top;\n",
       "    }\n",
       "\n",
       "    .dataframe thead th {\n",
       "        text-align: right;\n",
       "    }\n",
       "</style>\n",
       "<table border=\"1\" class=\"dataframe\">\n",
       "  <thead>\n",
       "    <tr style=\"text-align: right;\">\n",
       "      <th></th>\n",
       "      <th>video_id</th>\n",
       "      <th>trending_date</th>\n",
       "      <th>title</th>\n",
       "      <th>channel_title</th>\n",
       "      <th>category_id</th>\n",
       "      <th>publish_time</th>\n",
       "      <th>tags</th>\n",
       "      <th>views</th>\n",
       "      <th>likes</th>\n",
       "      <th>dislikes</th>\n",
       "      <th>comment_count</th>\n",
       "      <th>thumbnail_link</th>\n",
       "      <th>comments_disabled</th>\n",
       "      <th>ratings_disabled</th>\n",
       "      <th>video_error_or_removed</th>\n",
       "      <th>description</th>\n",
       "      <th>category_name</th>\n",
       "    </tr>\n",
       "  </thead>\n",
       "  <tbody>\n",
       "    <tr>\n",
       "      <th>10</th>\n",
       "      <td>9wRQljFNDW8</td>\n",
       "      <td>17.14.11</td>\n",
       "      <td>Dion Lewis' 103-Yd Kick Return TD vs. Denver! ...</td>\n",
       "      <td>NFL</td>\n",
       "      <td>17</td>\n",
       "      <td>2017-11-13T02:05:26.000Z</td>\n",
       "      <td>NFL|\"Football\"|\"offense\"|\"defense\"|\"afc\"|\"nfc\"...</td>\n",
       "      <td>81377</td>\n",
       "      <td>655</td>\n",
       "      <td>25</td>\n",
       "      <td>177</td>\n",
       "      <td>https://i.ytimg.com/vi/9wRQljFNDW8/default.jpg</td>\n",
       "      <td>False</td>\n",
       "      <td>False</td>\n",
       "      <td>False</td>\n",
       "      <td>New England Patriots returner Dion Lewis blast...</td>\n",
       "      <td>Sports</td>\n",
       "    </tr>\n",
       "    <tr>\n",
       "      <th>36</th>\n",
       "      <td>Om_zGhJLZ5U</td>\n",
       "      <td>17.14.11</td>\n",
       "      <td>TL;DW - Every DCEU Movie Before Justice League</td>\n",
       "      <td>Screen Junkies</td>\n",
       "      <td>1</td>\n",
       "      <td>2017-11-12T18:00:03.000Z</td>\n",
       "      <td>screenjunkies|\"screen junkies\"|\"sj news\"|\"hone...</td>\n",
       "      <td>288922</td>\n",
       "      <td>7515</td>\n",
       "      <td>792</td>\n",
       "      <td>2111</td>\n",
       "      <td>https://i.ytimg.com/vi/Om_zGhJLZ5U/default.jpg</td>\n",
       "      <td>False</td>\n",
       "      <td>False</td>\n",
       "      <td>False</td>\n",
       "      <td>With Justice League approaching fast we rewatc...</td>\n",
       "      <td>Film &amp; Animation</td>\n",
       "    </tr>\n",
       "  </tbody>\n",
       "</table>\n",
       "</div>"
      ],
      "text/plain": [
       "       video_id trending_date  \\\n",
       "10  9wRQljFNDW8      17.14.11   \n",
       "36  Om_zGhJLZ5U      17.14.11   \n",
       "\n",
       "                                                title   channel_title  \\\n",
       "10  Dion Lewis' 103-Yd Kick Return TD vs. Denver! ...             NFL   \n",
       "36     TL;DW - Every DCEU Movie Before Justice League  Screen Junkies   \n",
       "\n",
       "    category_id              publish_time  \\\n",
       "10           17  2017-11-13T02:05:26.000Z   \n",
       "36            1  2017-11-12T18:00:03.000Z   \n",
       "\n",
       "                                                 tags   views  likes  \\\n",
       "10  NFL|\"Football\"|\"offense\"|\"defense\"|\"afc\"|\"nfc\"...   81377    655   \n",
       "36  screenjunkies|\"screen junkies\"|\"sj news\"|\"hone...  288922   7515   \n",
       "\n",
       "    dislikes  comment_count                                  thumbnail_link  \\\n",
       "10        25            177  https://i.ytimg.com/vi/9wRQljFNDW8/default.jpg   \n",
       "36       792           2111  https://i.ytimg.com/vi/Om_zGhJLZ5U/default.jpg   \n",
       "\n",
       "    comments_disabled  ratings_disabled  video_error_or_removed  \\\n",
       "10              False             False                   False   \n",
       "36              False             False                   False   \n",
       "\n",
       "                                          description     category_name  \n",
       "10  New England Patriots returner Dion Lewis blast...            Sports  \n",
       "36  With Justice League approaching fast we rewatc...  Film & Animation  "
      ]
     },
     "execution_count": 199,
     "metadata": {},
     "output_type": "execute_result"
    }
   ],
   "source": [
    "def get_latest_update_video_id(df):\n",
    "    \"\"\"\"\n",
    "    \n",
    "    Get latest updated row corresponding to a video\n",
    "    \n",
    "    Parameters\n",
    "    ----------\n",
    "    df : dataframe\n",
    "    \n",
    "    Returns\n",
    "    ----------\n",
    "    Dataframe at a video id level\n",
    "    \"\"\"\n",
    "    \n",
    "    idx = df.groupby(['video_id'])['trending_date'].transform(max) == df['trending_date']\n",
    "\n",
    "    df = df[idx]\n",
    "    return df\n",
    "unprocessed_df = get_latest_update_video_id(unprocessed_df)\n",
    "unprocessed_df.head(2)"
   ]
  },
  {
   "cell_type": "markdown",
   "metadata": {},
   "source": [
    "### Missing value check"
   ]
  },
  {
   "cell_type": "markdown",
   "metadata": {},
   "source": [
    "Missing values in data can give inaccurate results. Hence we need to check for missing values before building a model. Our data has missing values only in description column of the video. We are not using this column in model building hence we are not treating it"
   ]
  },
  {
   "cell_type": "code",
   "execution_count": 200,
   "metadata": {
    "pycharm": {
     "is_executing": false,
     "name": "#%%\n"
    }
   },
   "outputs": [
    {
     "name": "stdout",
     "output_type": "stream",
     "text": [
      "Variable with missing values   Proportion of missing values\n",
      "description                    0.015423355366698142\n"
     ]
    }
   ],
   "source": [
    "def missing_value_checker(df):\n",
    "    \"\"\"\n",
    "    The missing value checker\n",
    "\n",
    "    Parameters\n",
    "    ----------\n",
    "    df : dataframe\n",
    "    \n",
    "    Returns\n",
    "    ----------\n",
    "    The variables with missing value and their proportion of missing value\n",
    "    \"\"\"\n",
    "    \n",
    "    variable_proportion = [[variable, df[variable].isna().sum() / df.shape[0]] \n",
    "                           for variable in df.columns \n",
    "                           if df[variable].isna().sum() > 0]\n",
    "\n",
    "    print('%-30s' % 'Variable with missing values', 'Proportion of missing values')\n",
    "    for variable, proportion in sorted(variable_proportion, key=lambda x : x[1]):\n",
    "        print('%-30s' % variable, proportion)\n",
    "        \n",
    "    return variable_proportion\n",
    "variable_proportion = missing_value_checker(unprocessed_df)\n",
    "# Only desc has nulls "
   ]
  },
  {
   "cell_type": "markdown",
   "metadata": {},
   "source": [
    "### Outlier detection and treatment"
   ]
  },
  {
   "cell_type": "markdown",
   "metadata": {},
   "source": [
    "For determining the outliers in our dataset we computed the z-score, and the datapoints which were 3 standard deviation away were declared as outliers. As an outlier treatment, we replaced the outlier data points with the mean values."
   ]
  },
  {
   "cell_type": "code",
   "execution_count": 201,
   "metadata": {},
   "outputs": [
    {
     "name": "stdout",
     "output_type": "stream",
     "text": [
      "Total outlier points for likes: 78\n",
      "Total outlier points for dislikes: 19\n",
      "Total outlier points for views: 75\n",
      "Total outlier points for comment_count: 40\n"
     ]
    }
   ],
   "source": [
    "def outlier_treatment(df):\n",
    "    \"\"\"\n",
    "    \n",
    "    Values lying outside 3SD are considered as outliers for this analysis\n",
    "    Outlier values are treated with mean of that column\n",
    "    \n",
    "    Parameters\n",
    "    ----------\n",
    "    df : dataframe\n",
    "    \n",
    "    Returns\n",
    "    ----------\n",
    "    Dataframe with treated outlier values\n",
    "    \"\"\"\n",
    "    \n",
    "    for col in [\"likes\", \"dislikes\", \"views\", \"comment_count\"]:\n",
    "        outliers = df[(np.abs(stats.zscore(df[col]))>3)][col]\n",
    "        print(\"Total outlier points for \" +col+ \":\", len(outliers))\n",
    "        df.loc[outliers.index, col] = df[col].mean()\n",
    "    return df\n",
    "\n",
    "processed_df = outlier_treatment(unprocessed_df)\n"
   ]
  },
  {
   "cell_type": "markdown",
   "metadata": {},
   "source": [
    "### Calculating neutral views"
   ]
  },
  {
   "cell_type": "markdown",
   "metadata": {},
   "source": [
    "People who simply watched the videos can be considered as neural views. If may happen the person is watching the videos again and had liked the video previously. Hence neural view count is expected to be larger. We are calculating neutral views as *views - likes - dislikes*"
   ]
  },
  {
   "cell_type": "code",
   "execution_count": 202,
   "metadata": {},
   "outputs": [
    {
     "data": {
      "text/plain": [
       "10      80697.0\n",
       "36     280615.0\n",
       "41      34451.0\n",
       "55    1479873.0\n",
       "76     235337.0\n",
       "Name: neutral, dtype: float64"
      ]
     },
     "execution_count": 202,
     "metadata": {},
     "output_type": "execute_result"
    }
   ],
   "source": [
    "unprocessed_df['neutral'] = unprocessed_df['views']-unprocessed_df['likes']-unprocessed_df['dislikes']\n",
    "unprocessed_df['neutral'][:5]"
   ]
  },
  {
   "cell_type": "markdown",
   "metadata": {},
   "source": [
    "## Exploratory Data Analysis"
   ]
  },
  {
   "cell_type": "markdown",
   "metadata": {},
   "source": [
    "### Data Summary"
   ]
  },
  {
   "cell_type": "markdown",
   "metadata": {},
   "source": [
    "Below is the summary of the numerical columns in the data. We can see the mean of views and neutral columns is much larger than likes, dislikes and comment count columns."
   ]
  },
  {
   "cell_type": "code",
   "execution_count": 203,
   "metadata": {
    "pycharm": {
     "is_executing": false,
     "name": "#%%\n"
    }
   },
   "outputs": [
    {
     "data": {
      "text/html": [
       "<div>\n",
       "<style scoped>\n",
       "    .dataframe tbody tr th:only-of-type {\n",
       "        vertical-align: middle;\n",
       "    }\n",
       "\n",
       "    .dataframe tbody tr th {\n",
       "        vertical-align: top;\n",
       "    }\n",
       "\n",
       "    .dataframe thead th {\n",
       "        text-align: right;\n",
       "    }\n",
       "</style>\n",
       "<table border=\"1\" class=\"dataframe\">\n",
       "  <thead>\n",
       "    <tr style=\"text-align: right;\">\n",
       "      <th></th>\n",
       "      <th>category_id</th>\n",
       "      <th>views</th>\n",
       "      <th>likes</th>\n",
       "      <th>dislikes</th>\n",
       "      <th>comment_count</th>\n",
       "      <th>neutral</th>\n",
       "    </tr>\n",
       "  </thead>\n",
       "  <tbody>\n",
       "    <tr>\n",
       "      <th>count</th>\n",
       "      <td>6354.000000</td>\n",
       "      <td>6.354000e+03</td>\n",
       "      <td>6354.000000</td>\n",
       "      <td>6354.000000</td>\n",
       "      <td>6354.000000</td>\n",
       "      <td>6.354000e+03</td>\n",
       "    </tr>\n",
       "    <tr>\n",
       "      <th>mean</th>\n",
       "      <td>20.428706</td>\n",
       "      <td>1.288998e+06</td>\n",
       "      <td>37725.489745</td>\n",
       "      <td>1928.700356</td>\n",
       "      <td>4456.314438</td>\n",
       "      <td>1.249344e+06</td>\n",
       "    </tr>\n",
       "    <tr>\n",
       "      <th>std</th>\n",
       "      <td>7.230658</td>\n",
       "      <td>2.313714e+06</td>\n",
       "      <td>72478.166489</td>\n",
       "      <td>5587.931867</td>\n",
       "      <td>9712.794822</td>\n",
       "      <td>2.262232e+06</td>\n",
       "    </tr>\n",
       "    <tr>\n",
       "      <th>min</th>\n",
       "      <td>1.000000</td>\n",
       "      <td>5.590000e+02</td>\n",
       "      <td>0.000000</td>\n",
       "      <td>0.000000</td>\n",
       "      <td>0.000000</td>\n",
       "      <td>5.500000e+02</td>\n",
       "    </tr>\n",
       "    <tr>\n",
       "      <th>25%</th>\n",
       "      <td>17.000000</td>\n",
       "      <td>1.544638e+05</td>\n",
       "      <td>2702.500000</td>\n",
       "      <td>123.000000</td>\n",
       "      <td>365.250000</td>\n",
       "      <td>1.488028e+05</td>\n",
       "    </tr>\n",
       "    <tr>\n",
       "      <th>50%</th>\n",
       "      <td>24.000000</td>\n",
       "      <td>4.951385e+05</td>\n",
       "      <td>11716.500000</td>\n",
       "      <td>433.500000</td>\n",
       "      <td>1234.500000</td>\n",
       "      <td>4.787390e+05</td>\n",
       "    </tr>\n",
       "    <tr>\n",
       "      <th>75%</th>\n",
       "      <td>25.000000</td>\n",
       "      <td>1.386434e+06</td>\n",
       "      <td>37366.750000</td>\n",
       "      <td>1440.250000</td>\n",
       "      <td>4000.750000</td>\n",
       "      <td>1.325206e+06</td>\n",
       "    </tr>\n",
       "    <tr>\n",
       "      <th>max</th>\n",
       "      <td>43.000000</td>\n",
       "      <td>1.986478e+07</td>\n",
       "      <td>598021.000000</td>\n",
       "      <td>96851.000000</td>\n",
       "      <td>104113.000000</td>\n",
       "      <td>1.962589e+07</td>\n",
       "    </tr>\n",
       "  </tbody>\n",
       "</table>\n",
       "</div>"
      ],
      "text/plain": [
       "       category_id         views          likes      dislikes  comment_count  \\\n",
       "count  6354.000000  6.354000e+03    6354.000000   6354.000000    6354.000000   \n",
       "mean     20.428706  1.288998e+06   37725.489745   1928.700356    4456.314438   \n",
       "std       7.230658  2.313714e+06   72478.166489   5587.931867    9712.794822   \n",
       "min       1.000000  5.590000e+02       0.000000      0.000000       0.000000   \n",
       "25%      17.000000  1.544638e+05    2702.500000    123.000000     365.250000   \n",
       "50%      24.000000  4.951385e+05   11716.500000    433.500000    1234.500000   \n",
       "75%      25.000000  1.386434e+06   37366.750000   1440.250000    4000.750000   \n",
       "max      43.000000  1.986478e+07  598021.000000  96851.000000  104113.000000   \n",
       "\n",
       "            neutral  \n",
       "count  6.354000e+03  \n",
       "mean   1.249344e+06  \n",
       "std    2.262232e+06  \n",
       "min    5.500000e+02  \n",
       "25%    1.488028e+05  \n",
       "50%    4.787390e+05  \n",
       "75%    1.325206e+06  \n",
       "max    1.962589e+07  "
      ]
     },
     "execution_count": 203,
     "metadata": {},
     "output_type": "execute_result"
    }
   ],
   "source": [
    "#df statistics\n",
    "unprocessed_df.describe()"
   ]
  },
  {
   "cell_type": "markdown",
   "metadata": {},
   "source": [
    "### Data Distribution"
   ]
  },
  {
   "cell_type": "markdown",
   "metadata": {},
   "source": [
    "We first need to define popularity levels. The levels can be defined using #comments. #views, #neutrals, #likes and #dislikes. \n",
    "Lets analyze the distribution of these variables. As the scale of the variables is really high the variables are transformed\n",
    "on a log scale"
   ]
  },
  {
   "cell_type": "code",
   "execution_count": 204,
   "metadata": {
    "pycharm": {
     "is_executing": false,
     "name": "#%%\n"
    }
   },
   "outputs": [
    {
     "data": {
      "image/png": "[encoded data removed]",
      "text/plain": [
       "<Figure size 864x432 with 4 Axes>"
      ]
     },
     "metadata": {
      "needs_background": "light"
     },
     "output_type": "display_data"
    }
   ],
   "source": [
    "unprocessed_df[['views_log', 'dislikes_log', 'likes_log', 'neutral_log']] = np.log(unprocessed_df[['views', 'dislikes', 'likes', 'neutral']] +1)\n",
    "\n",
    "plt.figure(figsize = (12,6))\n",
    "plt.subplot(221)\n",
    "g1 = sns.distplot(unprocessed_df['views_log'])\n",
    "g1.set_title(\"VIEWS LOG DISTRIBUITION\", fontsize=16)\n",
    "# fig.subplots_adjust(bottom=0.7, top=0.3)\n",
    "\n",
    "plt.subplot(222)\n",
    "g2 = sns.distplot(unprocessed_df['likes_log'],color='green')\n",
    "g2.set_title('LIKES LOG DISTRIBUITION', fontsize=16)\n",
    "\n",
    "# fig.subplots_adjust(bottom=0.7, top=0.3)\n",
    "\n",
    "plt.subplot(223)\n",
    "g3 = sns.distplot(unprocessed_df['dislikes_log'], color='r')\n",
    "g3.set_title(\"DISLIKES LOG DISTRIBUITION\", fontsize=16)\n",
    "# fig.subplots_adjust(bottom=0.7, top=0.3)\n",
    "\n",
    "plt.subplot(224)\n",
    "g4 = sns.distplot(unprocessed_df['neutral_log'], color='y')\n",
    "g4.set_title(\"NEUTRAL LOG DISTRIBUITION\", fontsize=16)\n",
    "plt.tight_layout()\n",
    "plt.show()\n",
    "\n",
    "#TODO increase the distance between box plot\n"
   ]
  },
  {
   "cell_type": "markdown",
   "metadata": {},
   "source": [
    "1. Views is slightly left tailed distributed, but looks approximately normal data\n",
    "2. Likes is also slightly left tailed distributed, but looks approximately normal data\n",
    "3. Dislikes is approximately normal but has a slightly modal distribution on left\n",
    "4. Neutral views is also slightly bimodal"
   ]
  },
  {
   "cell_type": "markdown",
   "metadata": {
    "pycharm": {
     "name": "#%% md\n"
    }
   },
   "source": [
    "### Month wise distribution for published time"
   ]
  },
  {
   "cell_type": "markdown",
   "metadata": {},
   "source": [
    "Here we are extracting month value from published time. Months from june till Nov has very less published videos. The less count from june is due to low data points in the data for these months. Maximum videos are published in the month of Dec and Jan. \n"
   ]
  },
  {
   "cell_type": "code",
   "execution_count": 205,
   "metadata": {
    "pycharm": {
     "is_executing": false,
     "name": "#%%\n"
    }
   },
   "outputs": [
    {
     "data": {
      "text/plain": [
       "Text(0,0.5,'Count')"
      ]
     },
     "execution_count": 205,
     "metadata": {},
     "output_type": "execute_result"
    },
    {
     "data": {
      "image/png": "[encoded data removed]",
      "text/plain": [
       "<Figure size 432x288 with 1 Axes>"
      ]
     },
     "metadata": {
      "needs_background": "light"
     },
     "output_type": "display_data"
    }
   ],
   "source": [
    "# convert publish time to datetime object\n",
    "processed_df['publish_time'] = pd.to_datetime(processed_df['publish_time'], format='%Y-%m-%dT%H:%M:%S.%fZ')\n",
    "\n",
    "# extract month from the publish time\n",
    "processed_df['published_month'] = processed_df['publish_time'].dt.month\n",
    "\n",
    "# average views per month\n",
    "avg_mon_views = processed_df.groupby([\"published_month\"], as_index=False).agg({'views':'mean'})\n",
    "\n",
    "# plot\n",
    "g = sns.countplot(\"published_month\", data=processed_df, palette=\"Set1\")\n",
    "# g.set_xticks(processed_df.published_month.values)\n",
    "g.set_title(\"Number of videos published across months\", fontsize=20)\n",
    "g.set_xlabel(\"Months\", fontsize=15)\n",
    "g.set_ylabel(\"Count\", fontsize=15)"
   ]
  },
  {
   "cell_type": "markdown",
   "metadata": {},
   "source": [
    "### Month wise distribution for trending date"
   ]
  },
  {
   "cell_type": "markdown",
   "metadata": {},
   "source": [
    "Here we are extracting month from trending date. \n",
    "As seen in the graph below, months from june onwards do not have trending data points. April & May have highest average views."
   ]
  },
  {
   "cell_type": "code",
   "execution_count": 206,
   "metadata": {
    "pycharm": {
     "is_executing": false,
     "name": "#%%\n"
    }
   },
   "outputs": [
    {
     "data": {
      "text/plain": [
       "Text(0,0.5,'Average')"
      ]
     },
     "execution_count": 206,
     "metadata": {},
     "output_type": "execute_result"
    },
    {
     "data": {
      "image/png": "[encoded data removed]",
      "text/plain": [
       "<Figure size 432x288 with 1 Axes>"
      ]
     },
     "metadata": {
      "needs_background": "light"
     },
     "output_type": "display_data"
    }
   ],
   "source": [
    "# convert publish time to datetime object\n",
    "processed_df['trending_date'] = pd.to_datetime(processed_df['trending_date'], format='%y.%d.%m')\n",
    "\n",
    "# extract month from the publish time\n",
    "processed_df['trending_month'] = processed_df['trending_date'].dt.month\n",
    "\n",
    "# average views per month\n",
    "avg_mon_views = processed_df.groupby([\"trending_month\"], as_index=False).agg({'views':'mean'})\n",
    "\n",
    "# plot\n",
    "g = sns.barplot(x = 'trending_month', y = \"views\", data=avg_mon_views, palette=\"Set1\")\n",
    "g.set_xticks(avg_mon_views.trending_month.values)\n",
    "g.set_title(\"Monthly average views for trending date\", fontsize=20)\n",
    "g.set_xlabel(\"Months\", fontsize=15)\n",
    "g.set_ylabel(\"Average\", fontsize=15)"
   ]
  },
  {
   "cell_type": "markdown",
   "metadata": {},
   "source": [
    "### Day wise distribution for published time"
   ]
  },
  {
   "cell_type": "markdown",
   "metadata": {},
   "source": [
    "Here we are extracting days of week denoted from 1 to 7. It is assumed the week starts on Monday, which is denoted by 1 and ends on Sunday which is denoted by 7.\n",
    "\n",
    "The graph below shows that the more number of videos are published during weekday than weekends"
   ]
  },
  {
   "cell_type": "code",
   "execution_count": 207,
   "metadata": {
    "pycharm": {
     "is_executing": false,
     "name": "#%%\n"
    }
   },
   "outputs": [
    {
     "data": {
      "text/plain": [
       "Text(0,0.5,'Count')"
      ]
     },
     "execution_count": 207,
     "metadata": {},
     "output_type": "execute_result"
    },
    {
     "data": {
      "image/png": "[encoded data removed]",
      "text/plain": [
       "<Figure size 432x288 with 1 Axes>"
      ]
     },
     "metadata": {
      "needs_background": "light"
     },
     "output_type": "display_data"
    }
   ],
   "source": [
    "processed_df['publish_time_dayofweek'] = processed_df['publish_time'].dt.dayofweek+1\n",
    "\n",
    "# dividing data to get boolean of weekend\n",
    "processed_df['publish_weekend'] = processed_df['publish_time_dayofweek']>5\n",
    "\n",
    "# average views per month\n",
    "avg_mon_views = processed_df.groupby([\"publish_time_dayofweek\"], as_index=False).agg({'views':'mean'})\n",
    "\n",
    "# plot\n",
    "g = sns.countplot('publish_time_dayofweek', data=processed_df, palette=\"Set1\")\n",
    "# g.set_xticks(processed_df.publish_time_dayofweek.values)\n",
    "g.set_title(\"Number of videos published across months\", fontsize=20)\n",
    "g.set_xlabel(\"Day of week\", fontsize=15)\n",
    "g.set_ylabel(\"Count\", fontsize=15)"
   ]
  },
  {
   "cell_type": "markdown",
   "metadata": {},
   "source": [
    "### Day wise distribution for trending date"
   ]
  },
  {
   "cell_type": "markdown",
   "metadata": {},
   "source": [
    "The trending data also shows that the videos are trending more in mid-week as compared to weekends."
   ]
  },
  {
   "cell_type": "code",
   "execution_count": 208,
   "metadata": {
    "pycharm": {
     "is_executing": false,
     "name": "#%%\n"
    }
   },
   "outputs": [
    {
     "data": {
      "text/plain": [
       "Text(0,0.5,'Average')"
      ]
     },
     "execution_count": 208,
     "metadata": {},
     "output_type": "execute_result"
    },
    {
     "data": {
      "image/png": "[encoded data removed]",
      "text/plain": [
       "<Figure size 432x288 with 1 Axes>"
      ]
     },
     "metadata": {
      "needs_background": "light"
     },
     "output_type": "display_data"
    }
   ],
   "source": [
    "# extract days of week as 1 to 7\n",
    "processed_df['trending_dayofweek'] = processed_df['trending_date'].dt.dayofweek+1\n",
    "\n",
    "# dividing data into boolean of weekend\n",
    "processed_df['trending_weekend'] = processed_df['trending_dayofweek']>5\n",
    "\n",
    "# average views per month\n",
    "avg_mon_views = processed_df.groupby([\"trending_dayofweek\"], as_index=False).agg({'views':'mean'})\n",
    "\n",
    "# plot\n",
    "g = sns.barplot(x = 'trending_dayofweek', y = \"views\", data=avg_mon_views, palette=\"Set1\")\n",
    "g.set_xticks(avg_mon_views.trending_dayofweek.values)\n",
    "g.set_title(\"Daily average views wrt trending date\", fontsize=20)\n",
    "g.set_xlabel(\"Days of week\", fontsize=15)\n",
    "g.set_ylabel(\"Average\", fontsize=15)"
   ]
  },
  {
   "cell_type": "markdown",
   "metadata": {},
   "source": [
    "### Hour wise distribution for published time"
   ]
  },
  {
   "cell_type": "code",
   "execution_count": 209,
   "metadata": {
    "pycharm": {
     "is_executing": false,
     "name": "#%%\n"
    }
   },
   "outputs": [
    {
     "data": {
      "text/plain": [
       "10     2\n",
       "36    18\n",
       "41    21\n",
       "55    19\n",
       "76    12\n",
       "Name: hour, dtype: int32"
      ]
     },
     "execution_count": 209,
     "metadata": {},
     "output_type": "execute_result"
    }
   ],
   "source": [
    "# separates date and time into two columns from 'publish_time' column\n",
    "processed_df['time'] = processed_df['publish_time'].dt.time\n",
    "\n",
    "processed_df[['hour','min','sec']] = processed_df['time'].astype(str).str.split(':', expand=True).astype(int)\n",
    "\n",
    "processed_df['hour'][:5]"
   ]
  },
  {
   "cell_type": "markdown",
   "metadata": {},
   "source": [
    "It can be seen from the above graph that the number of views are drastically high at 9:00 am and almost equally distributed throughout the day while showing minimum average number of views at 11:00 am. The Maximum during 9:00 am could be due to the commuters watching music or videos on Youtube"
   ]
  },
  {
   "cell_type": "code",
   "execution_count": 210,
   "metadata": {},
   "outputs": [
    {
     "data": {
      "text/plain": [
       "Text(0,0.5,'Average')"
      ]
     },
     "execution_count": 210,
     "metadata": {},
     "output_type": "execute_result"
    },
    {
     "data": {
      "image/png": "[encoded data removed]",
      "text/plain": [
       "<Figure size 432x288 with 1 Axes>"
      ]
     },
     "metadata": {
      "needs_background": "light"
     },
     "output_type": "display_data"
    }
   ],
   "source": [
    "# average views per month\n",
    "avg_mon_views = processed_df.groupby([\"hour\"], as_index=False).agg({'views':'mean'})\n",
    "\n",
    "# plot\n",
    "g = sns.barplot(x = 'hour', y = \"views\", data=avg_mon_views, palette=\"Set1\")\n",
    "g.set_xticks(avg_mon_views.hour.values)\n",
    "g.set_title(\"Daily average views wrt trending date\", fontsize=20)\n",
    "g.set_xlabel(\"Days of week\", fontsize=15)\n",
    "g.set_ylabel(\"Average\", fontsize=15)"
   ]
  },
  {
   "cell_type": "markdown",
   "metadata": {},
   "source": [
    "### Category wise distribution "
   ]
  },
  {
   "cell_type": "markdown",
   "metadata": {},
   "source": [
    "Entertainment category has maximum number of videos followed by music. Where as non profit activism and shows have minimum videos"
   ]
  },
  {
   "cell_type": "code",
   "execution_count": 211,
   "metadata": {
    "pycharm": {
     "is_executing": false,
     "name": "#%%\n"
    }
   },
   "outputs": [
    {
     "data": {
      "text/plain": [
       "Text(0,0.5,'Count')"
      ]
     },
     "execution_count": 211,
     "metadata": {},
     "output_type": "execute_result"
    },
    {
     "data": {
      "image/png": "[encoded data removed]",
      "text/plain": [
       "<Figure size 864x360 with 1 Axes>"
      ]
     },
     "metadata": {
      "needs_background": "light"
     },
     "output_type": "display_data"
    }
   ],
   "source": [
    "# set the graph size\n",
    "fig, ax = plt.subplots(figsize=[12,5])\n",
    "\n",
    "# count plot\n",
    "g = sns.countplot('category_name', data=processed_df, palette=\"Set1\",ax = ax)\n",
    "g.set_xticklabels(g.get_xticklabels(),rotation=90)\n",
    "g.set_title(\"Count of videos in each category\", fontsize=20)\n",
    "\n",
    "# Initialize Figure and Axes object\n",
    "# plt.figure(figsize=(16, 10))\n",
    "g.set_xlabel(\"Category\", fontsize=15)\n",
    "g.set_ylabel(\"Count\", fontsize=15)"
   ]
  },
  {
   "cell_type": "markdown",
   "metadata": {},
   "source": [
    "### Average views in each category"
   ]
  },
  {
   "cell_type": "markdown",
   "metadata": {},
   "source": [
    "The graph shows that the maximum number of videos on youtube are Entertainment related. But in terms of views, the category that achieves maximum number of average views is music followed by gaming. News and Politics receive minimum number of views. This meas that not many people usually watch news on Youtube."
   ]
  },
  {
   "cell_type": "code",
   "execution_count": 212,
   "metadata": {},
   "outputs": [
    {
     "data": {
      "text/plain": [
       "Text(0,0.5,'Average Views')"
      ]
     },
     "execution_count": 212,
     "metadata": {},
     "output_type": "execute_result"
    },
    {
     "data": {
      "image/png": "[encoded data removed]",
      "text/plain": [
       "<Figure size 864x360 with 1 Axes>"
      ]
     },
     "metadata": {
      "needs_background": "light"
     },
     "output_type": "display_data"
    }
   ],
   "source": [
    "avg_views = processed_df.groupby([\"category_name\"], as_index=False).agg({'views':'mean'})\n",
    "avg_views = avg_views.sort_values('views')\n",
    "\n",
    "fig, ax = plt.subplots(figsize=[12,5])\n",
    "g = sns.barplot(x = 'category_name', y = \"views\", data=avg_views, palette=\"Set1\", ax=ax)\n",
    "g.set_xticklabels(g.get_xticklabels(),rotation=90)\n",
    "# g.set_xticks(avg_views.category_name.values)\n",
    "g.set_title(\"Average views across each category\", fontsize=20)\n",
    "g.set_xlabel(\"Category\", fontsize=15)\n",
    "g.set_ylabel(\"Average Views\", fontsize=15)"
   ]
  },
  {
   "cell_type": "markdown",
   "metadata": {},
   "source": [
    "### Merge average category views as a category defining feature"
   ]
  },
  {
   "cell_type": "markdown",
   "metadata": {},
   "source": [
    "We are merging average views per category as a cateogry defining variable"
   ]
  },
  {
   "cell_type": "code",
   "execution_count": 213,
   "metadata": {},
   "outputs": [
    {
     "data": {
      "text/plain": [
       "(6354, 33)"
      ]
     },
     "execution_count": 213,
     "metadata": {},
     "output_type": "execute_result"
    }
   ],
   "source": [
    "processed_df = pd.merge(processed_df, avg_views, on = ['category_name'], how = \"left\")\n",
    "processed_df = processed_df.rename(columns = {'views_x':'views', 'views_y':'cat_average_views'})\n",
    "processed_df.shape"
   ]
  },
  {
   "cell_type": "markdown",
   "metadata": {},
   "source": [
    "### Time difference between trending date and published date"
   ]
  },
  {
   "cell_type": "markdown",
   "metadata": {},
   "source": [
    "We are taking a number of days difference between trending date and published date. This variable can also act as a proxy for age of the video."
   ]
  },
  {
   "cell_type": "code",
   "execution_count": 214,
   "metadata": {},
   "outputs": [
    {
     "data": {
      "text/plain": [
       "0    0\n",
       "1    1\n",
       "2    1\n",
       "3    3\n",
       "4    3\n",
       "Name: timediff, dtype: int64"
      ]
     },
     "execution_count": 214,
     "metadata": {},
     "output_type": "execute_result"
    }
   ],
   "source": [
    "processed_df['timediff'] = (processed_df['trending_date'] - processed_df['publish_time']).dt.days\n",
    "processed_df['timediff'][:5]"
   ]
  },
  {
   "cell_type": "markdown",
   "metadata": {
    "pycharm": {
     "name": "#%% md\n"
    }
   },
   "source": [
    "### Counting the word counts in title and tags"
   ]
  },
  {
   "cell_type": "markdown",
   "metadata": {},
   "source": [
    "We hypothesize that the longer the video title length is lesser the views for that video, as no one will type long title to search a video. Also the title of a video should be short and eye catching to get maximum views. Hence we are creating a variable called count of words in title. \n",
    "\n",
    "Similarly the number of hash tags in the video increases its chances of visiblity. Hence we are creating a variable of count of tags."
   ]
  },
  {
   "cell_type": "code",
   "execution_count": 215,
   "metadata": {
    "pycharm": {
     "is_executing": false,
     "name": "#%%\n"
    }
   },
   "outputs": [
    {
     "data": {
      "text/html": [
       "<div>\n",
       "<style scoped>\n",
       "    .dataframe tbody tr th:only-of-type {\n",
       "        vertical-align: middle;\n",
       "    }\n",
       "\n",
       "    .dataframe tbody tr th {\n",
       "        vertical-align: top;\n",
       "    }\n",
       "\n",
       "    .dataframe thead th {\n",
       "        text-align: right;\n",
       "    }\n",
       "</style>\n",
       "<table border=\"1\" class=\"dataframe\">\n",
       "  <thead>\n",
       "    <tr style=\"text-align: right;\">\n",
       "      <th></th>\n",
       "      <th>count_tags</th>\n",
       "      <th>count_word</th>\n",
       "    </tr>\n",
       "  </thead>\n",
       "  <tbody>\n",
       "    <tr>\n",
       "      <th>0</th>\n",
       "      <td>49</td>\n",
       "      <td>16</td>\n",
       "    </tr>\n",
       "    <tr>\n",
       "      <th>1</th>\n",
       "      <td>28</td>\n",
       "      <td>8</td>\n",
       "    </tr>\n",
       "    <tr>\n",
       "      <th>2</th>\n",
       "      <td>10</td>\n",
       "      <td>10</td>\n",
       "    </tr>\n",
       "    <tr>\n",
       "      <th>3</th>\n",
       "      <td>14</td>\n",
       "      <td>13</td>\n",
       "    </tr>\n",
       "    <tr>\n",
       "      <th>4</th>\n",
       "      <td>8</td>\n",
       "      <td>9</td>\n",
       "    </tr>\n",
       "  </tbody>\n",
       "</table>\n",
       "</div>"
      ],
      "text/plain": [
       "   count_tags  count_word\n",
       "0          49          16\n",
       "1          28           8\n",
       "2          10          10\n",
       "3          14          13\n",
       "4           8           9"
      ]
     },
     "execution_count": 215,
     "metadata": {},
     "output_type": "execute_result"
    }
   ],
   "source": [
    "# Word count in title and tags\n",
    "processed_df['count_word']=processed_df[\"title\"].apply(lambda x: len(str(x).split()))\n",
    "processed_df['count_tags']=processed_df[\"tags\"].apply(lambda x: len(set(str(x).split(\"|\"))))\n",
    "processed_df[['count_tags', 'count_word']][:5]"
   ]
  },
  {
   "cell_type": "markdown",
   "metadata": {},
   "source": [
    "# Outcome Variable "
   ]
  },
  {
   "cell_type": "markdown",
   "metadata": {},
   "source": [
    "Our original plan is to develop a weighted score by taking into account the proportion “like”, “dislike” and “neural” comments to determine the popularity level. However, after examining the distribution of the “like”, “dislike” and “neural”, only ~3% of the total comments are either “like” or “dislike”. We decide to use the total number of views as the single outcome/target. We use the like and dislike as prediction features. "
   ]
  },
  {
   "cell_type": "code",
   "execution_count": 216,
   "metadata": {
    "pycharm": {
     "is_executing": false,
     "name": "#%%\n"
    }
   },
   "outputs": [],
   "source": [
    "def outcome(df, w1,w2,w3, num):\n",
    "    \"\"\"\n",
    "    \n",
    "    Calculate the dependent variable using likes , dislikes and neural behaviour of the views. \n",
    "    Assign different weights to calculate popularity score\n",
    "    Popularity score is a weighted average of each likes, dislikes and neutral values\n",
    "    Popularity score is further divided into 3 classes as low\n",
    "    \n",
    "    Parameters\n",
    "    ----------\n",
    "    df : dataframe having likes, dislikes and views\n",
    "    w1 : weight for views\n",
    "    w2 : weight for likes\n",
    "    w3 : weight for dislikes\n",
    "    num : number of scenario generation\n",
    "    \n",
    "    Returns\n",
    "    ----------\n",
    "    Dataframe with popularity level \n",
    "    \"\"\"\n",
    "    \n",
    "    y = w1*df['likes']+w2*df['neutral']+w3*df['dislikes']\n",
    "\n",
    "    df[\"y_cat_\"+ str(num)] =pd.qcut(y ,3,labels=[\"low\", \"medium\", \"high\"])  \n",
    "    return df\n",
    "\n",
    "processed_df = outcome(processed_df, 1/3,1/3,1/3, 1) # equally important\n",
    "processed_df = outcome(processed_df, 0.9,0, 0.1, 2) #likes more important\n",
    "processed_df = outcome(processed_df, 0.5,0.05, 0.45, 3) #likes more important\n",
    "# processed_df = outcome(processed_df, 1/2,1/4,1/4, 2) # likes more important\n",
    "# processed_df = outcome(processed_df, 1/2,3/8,1/8, 3) # likes more important\n",
    "# processed_df = outcome(processed_df, 0.6,0.2,0.2, 3) # likes more important\n",
    "# processed_df = outcome(processed_df, 0.6,0.3,0.1, 2) #ikes more important"
   ]
  },
  {
   "cell_type": "code",
   "execution_count": 217,
   "metadata": {},
   "outputs": [
    {
     "name": "stdout",
     "output_type": "stream",
     "text": [
      "Percentage of neutral in the data set 0.969\n",
      "Percentage of likes in the data set 0.029\n",
      "Percentage of dislikes in the data set 0.001\n"
     ]
    }
   ],
   "source": [
    "print(\"Percentage of neutral in the data set\", round(processed_df['neutral'].sum()/sum(processed_df['neutral']+processed_df['likes']+processed_df['dislikes']),3))\n",
    "print(\"Percentage of likes in the data set\", round(processed_df['likes'].sum()/sum(processed_df['neutral']+processed_df['likes']+processed_df['dislikes']),3))\n",
    "print(\"Percentage of dislikes in the data set\", round(processed_df['dislikes'].sum()/sum(processed_df['neutral']+processed_df['likes']+processed_df['dislikes']),3))"
   ]
  },
  {
   "cell_type": "markdown",
   "metadata": {},
   "source": [
    "## Compare across popularity level with different weights"
   ]
  },
  {
   "cell_type": "markdown",
   "metadata": {},
   "source": [
    "This shows that even after changing weights drastically the class of the videos are not changing much. This also means that the class of the video is not sensitive to weights. This is because in our dataset the neutral views highly contributes to the overall views. Hence the weights methodology to divide videos into popularity levels may not work best. "
   ]
  },
  {
   "cell_type": "code",
   "execution_count": 218,
   "metadata": {},
   "outputs": [
    {
     "data": {
      "text/plain": [
       "[1643, 1352, 354]"
      ]
     },
     "execution_count": 218,
     "metadata": {},
     "output_type": "execute_result"
    }
   ],
   "source": [
    "classes_changed = [sum(processed_df['y_cat_1'] != processed_df['y_cat_2']),\n",
    "sum(processed_df['y_cat_2'] != processed_df['y_cat_3']),\n",
    "sum(processed_df['y_cat_1'] != processed_df['y_cat_3'])]\n",
    "classes_changed"
   ]
  },
  {
   "cell_type": "markdown",
   "metadata": {},
   "source": [
    "## Divide views into three equal classes"
   ]
  },
  {
   "cell_type": "markdown",
   "metadata": {},
   "source": [
    "Below is the quantitle distribution of the number of views"
   ]
  },
  {
   "cell_type": "code",
   "execution_count": 219,
   "metadata": {},
   "outputs": [
    {
     "data": {
      "image/png": "[encoded data removed]",
      "text/plain": [
       "<Figure size 432x288 with 1 Axes>"
      ]
     },
     "metadata": {
      "needs_background": "light"
     },
     "output_type": "display_data"
    }
   ],
   "source": [
    "import statsmodels.api as sm\n",
    "fig = sm.qqplot(processed_df['views_log'], stats.t, fit=True, line='45')\n",
    "plt.show()"
   ]
  },
  {
   "cell_type": "markdown",
   "metadata": {},
   "source": [
    "Hence to define outcome variable we decided to divide the number of views columns into 3 equal buckets of low, medium and high based on quantile"
   ]
  },
  {
   "cell_type": "code",
   "execution_count": 220,
   "metadata": {},
   "outputs": [
    {
     "data": {
      "text/plain": [
       "0       low\n",
       "1    medium\n",
       "2       low\n",
       "Name: views_cat, dtype: category\n",
       "Categories (3, object): [low < medium < high]"
      ]
     },
     "execution_count": 220,
     "metadata": {},
     "output_type": "execute_result"
    }
   ],
   "source": [
    "processed_df[\"views_cat\"] =pd.qcut(processed_df['views'] ,3,labels=[\"low\", \"medium\", \"high\"])\n",
    "processed_df[\"views_cat\"][:3]"
   ]
  },
  {
   "cell_type": "markdown",
   "metadata": {},
   "source": [
    "## Correlation plot"
   ]
  },
  {
   "cell_type": "markdown",
   "metadata": {},
   "source": [
    "The following correlation heatmap shows that likes, comment count, neutral are highly correlated. "
   ]
  },
  {
   "cell_type": "code",
   "execution_count": 221,
   "metadata": {
    "pycharm": {
     "is_executing": false,
     "name": "#%%\n"
    }
   },
   "outputs": [
    {
     "data": {
      "image/png": "[encoded data removed]",
      "text/plain": [
       "<Figure size 432x288 with 2 Axes>"
      ]
     },
     "metadata": {
      "needs_background": "light"
     },
     "output_type": "display_data"
    }
   ],
   "source": [
    "corr = processed_df.corr()\n",
    "ax = sns.heatmap(\n",
    "    corr, \n",
    "    vmin=-1, vmax=1, center=0,\n",
    "    cmap=sns.diverging_palette(20, 220, n=200),\n",
    "    square=True\n",
    ")"
   ]
  },
  {
   "cell_type": "markdown",
   "metadata": {},
   "source": [
    "# Target and Indepedent Variables"
   ]
  },
  {
   "cell_type": "markdown",
   "metadata": {},
   "source": [
    "Here we are setting target as views category and selecting a list of following independent variables."
   ]
  },
  {
   "cell_type": "code",
   "execution_count": 222,
   "metadata": {
    "pycharm": {
     "is_executing": false,
     "name": "#%%\n"
    }
   },
   "outputs": [
    {
     "data": {
      "text/plain": [
       "Index(['timediff', 'comments_disabled', 'ratings_disabled', 'comment_count',\n",
       "       'video_error_or_removed', 'category_name', 'published_month',\n",
       "       'trending_month', 'publish_weekend', 'trending_weekend', 'hour',\n",
       "       'count_word', 'count_tags', 'dislikes', 'likes', 'cat_average_views'],\n",
       "      dtype='object')"
      ]
     },
     "execution_count": 222,
     "metadata": {},
     "output_type": "execute_result"
    }
   ],
   "source": [
    "target = ['views_cat']\n",
    "X = processed_df[['timediff', 'comments_disabled', 'ratings_disabled', 'comment_count',\n",
    "       'video_error_or_removed', 'category_name', 'published_month', 'trending_month',\n",
    "       'publish_weekend','trending_weekend','hour', 'count_word',\n",
    "       'count_tags', 'dislikes', 'likes', 'cat_average_views']]\n",
    "X.columns"
   ]
  },
  {
   "cell_type": "markdown",
   "metadata": {},
   "source": [
    "## Check categorical values "
   ]
  },
  {
   "cell_type": "markdown",
   "metadata": {},
   "source": [
    "We have only category name as a categorical value in our list of independents."
   ]
  },
  {
   "cell_type": "code",
   "execution_count": 223,
   "metadata": {
    "pycharm": {
     "is_executing": false,
     "name": "#%%\n"
    }
   },
   "outputs": [
    {
     "name": "stdout",
     "output_type": "stream",
     "text": [
      "Categorical feature            Number of unique value\n",
      "category_name                  16\n"
     ]
    }
   ],
   "source": [
    "def categorical_feature_checker(df, target, dtype):\n",
    "    \"\"\"\n",
    "    The categorical feature checker\n",
    "\n",
    "    Parameters\n",
    "    ----------\n",
    "    df : dataframe\n",
    "    target : the target\n",
    "    dtype : the type of the feature\n",
    "    \n",
    "    Returns\n",
    "    ----------\n",
    "    The categorical features and their number of unique value\n",
    "    \"\"\"\n",
    "    \n",
    "    feature_number = [[feature, df[feature].nunique()] \n",
    "                      for feature in df.columns \n",
    "                      if feature not in target and df[feature].dtype.name == dtype]\n",
    "    \n",
    "    print('%-30s' % 'Categorical feature', 'Number of unique value')\n",
    "    for feature, number in sorted(feature_number, key=lambda x : x[1]):\n",
    "        print('%-30s' % feature, number)\n",
    "    \n",
    "    return feature_number\n",
    "feature_number = categorical_feature_checker(X, target, 'object')"
   ]
  },
  {
   "cell_type": "markdown",
   "metadata": {},
   "source": [
    "## One hot encoding"
   ]
  },
  {
   "cell_type": "markdown",
   "metadata": {},
   "source": [
    "In this step we are converting category names into boolean columns using one hot encoding."
   ]
  },
  {
   "cell_type": "code",
   "execution_count": 224,
   "metadata": {},
   "outputs": [
    {
     "data": {
      "text/html": [
       "<div>\n",
       "<style scoped>\n",
       "    .dataframe tbody tr th:only-of-type {\n",
       "        vertical-align: middle;\n",
       "    }\n",
       "\n",
       "    .dataframe tbody tr th {\n",
       "        vertical-align: top;\n",
       "    }\n",
       "\n",
       "    .dataframe thead th {\n",
       "        text-align: right;\n",
       "    }\n",
       "</style>\n",
       "<table border=\"1\" class=\"dataframe\">\n",
       "  <thead>\n",
       "    <tr style=\"text-align: right;\">\n",
       "      <th></th>\n",
       "      <th>timediff</th>\n",
       "      <th>comments_disabled</th>\n",
       "      <th>ratings_disabled</th>\n",
       "      <th>comment_count</th>\n",
       "      <th>video_error_or_removed</th>\n",
       "      <th>published_month</th>\n",
       "      <th>trending_month</th>\n",
       "      <th>publish_weekend</th>\n",
       "      <th>trending_weekend</th>\n",
       "      <th>hour</th>\n",
       "      <th>...</th>\n",
       "      <th>category_name_Howto &amp; Style</th>\n",
       "      <th>category_name_Music</th>\n",
       "      <th>category_name_News &amp; Politics</th>\n",
       "      <th>category_name_Nonprofits &amp; Activism</th>\n",
       "      <th>category_name_People &amp; Blogs</th>\n",
       "      <th>category_name_Pets &amp; Animals</th>\n",
       "      <th>category_name_Science &amp; Technology</th>\n",
       "      <th>category_name_Shows</th>\n",
       "      <th>category_name_Sports</th>\n",
       "      <th>category_name_Travel &amp; Events</th>\n",
       "    </tr>\n",
       "  </thead>\n",
       "  <tbody>\n",
       "    <tr>\n",
       "      <th>0</th>\n",
       "      <td>0</td>\n",
       "      <td>False</td>\n",
       "      <td>False</td>\n",
       "      <td>177.0</td>\n",
       "      <td>False</td>\n",
       "      <td>11</td>\n",
       "      <td>11</td>\n",
       "      <td>False</td>\n",
       "      <td>False</td>\n",
       "      <td>2</td>\n",
       "      <td>...</td>\n",
       "      <td>0</td>\n",
       "      <td>0</td>\n",
       "      <td>0</td>\n",
       "      <td>0</td>\n",
       "      <td>0</td>\n",
       "      <td>0</td>\n",
       "      <td>0</td>\n",
       "      <td>0</td>\n",
       "      <td>1</td>\n",
       "      <td>0</td>\n",
       "    </tr>\n",
       "    <tr>\n",
       "      <th>1</th>\n",
       "      <td>1</td>\n",
       "      <td>False</td>\n",
       "      <td>False</td>\n",
       "      <td>2111.0</td>\n",
       "      <td>False</td>\n",
       "      <td>11</td>\n",
       "      <td>11</td>\n",
       "      <td>True</td>\n",
       "      <td>False</td>\n",
       "      <td>18</td>\n",
       "      <td>...</td>\n",
       "      <td>0</td>\n",
       "      <td>0</td>\n",
       "      <td>0</td>\n",
       "      <td>0</td>\n",
       "      <td>0</td>\n",
       "      <td>0</td>\n",
       "      <td>0</td>\n",
       "      <td>0</td>\n",
       "      <td>0</td>\n",
       "      <td>0</td>\n",
       "    </tr>\n",
       "    <tr>\n",
       "      <th>2</th>\n",
       "      <td>1</td>\n",
       "      <td>False</td>\n",
       "      <td>False</td>\n",
       "      <td>413.0</td>\n",
       "      <td>False</td>\n",
       "      <td>11</td>\n",
       "      <td>11</td>\n",
       "      <td>True</td>\n",
       "      <td>False</td>\n",
       "      <td>21</td>\n",
       "      <td>...</td>\n",
       "      <td>0</td>\n",
       "      <td>0</td>\n",
       "      <td>1</td>\n",
       "      <td>0</td>\n",
       "      <td>0</td>\n",
       "      <td>0</td>\n",
       "      <td>0</td>\n",
       "      <td>0</td>\n",
       "      <td>0</td>\n",
       "      <td>0</td>\n",
       "    </tr>\n",
       "    <tr>\n",
       "      <th>3</th>\n",
       "      <td>3</td>\n",
       "      <td>False</td>\n",
       "      <td>False</td>\n",
       "      <td>605.0</td>\n",
       "      <td>False</td>\n",
       "      <td>11</td>\n",
       "      <td>11</td>\n",
       "      <td>False</td>\n",
       "      <td>False</td>\n",
       "      <td>19</td>\n",
       "      <td>...</td>\n",
       "      <td>0</td>\n",
       "      <td>0</td>\n",
       "      <td>0</td>\n",
       "      <td>0</td>\n",
       "      <td>0</td>\n",
       "      <td>0</td>\n",
       "      <td>0</td>\n",
       "      <td>0</td>\n",
       "      <td>0</td>\n",
       "      <td>0</td>\n",
       "    </tr>\n",
       "    <tr>\n",
       "      <th>4</th>\n",
       "      <td>3</td>\n",
       "      <td>False</td>\n",
       "      <td>False</td>\n",
       "      <td>260.0</td>\n",
       "      <td>False</td>\n",
       "      <td>11</td>\n",
       "      <td>11</td>\n",
       "      <td>False</td>\n",
       "      <td>False</td>\n",
       "      <td>12</td>\n",
       "      <td>...</td>\n",
       "      <td>0</td>\n",
       "      <td>0</td>\n",
       "      <td>0</td>\n",
       "      <td>0</td>\n",
       "      <td>0</td>\n",
       "      <td>0</td>\n",
       "      <td>1</td>\n",
       "      <td>0</td>\n",
       "      <td>0</td>\n",
       "      <td>0</td>\n",
       "    </tr>\n",
       "  </tbody>\n",
       "</table>\n",
       "<p>5 rows × 31 columns</p>\n",
       "</div>"
      ],
      "text/plain": [
       "   timediff  comments_disabled  ratings_disabled  comment_count  \\\n",
       "0         0              False             False          177.0   \n",
       "1         1              False             False         2111.0   \n",
       "2         1              False             False          413.0   \n",
       "3         3              False             False          605.0   \n",
       "4         3              False             False          260.0   \n",
       "\n",
       "   video_error_or_removed  published_month  trending_month  publish_weekend  \\\n",
       "0                   False               11              11            False   \n",
       "1                   False               11              11             True   \n",
       "2                   False               11              11             True   \n",
       "3                   False               11              11            False   \n",
       "4                   False               11              11            False   \n",
       "\n",
       "   trending_weekend  hour              ...                \\\n",
       "0             False     2              ...                 \n",
       "1             False    18              ...                 \n",
       "2             False    21              ...                 \n",
       "3             False    19              ...                 \n",
       "4             False    12              ...                 \n",
       "\n",
       "   category_name_Howto & Style  category_name_Music  \\\n",
       "0                            0                    0   \n",
       "1                            0                    0   \n",
       "2                            0                    0   \n",
       "3                            0                    0   \n",
       "4                            0                    0   \n",
       "\n",
       "   category_name_News & Politics  category_name_Nonprofits & Activism  \\\n",
       "0                              0                                    0   \n",
       "1                              0                                    0   \n",
       "2                              1                                    0   \n",
       "3                              0                                    0   \n",
       "4                              0                                    0   \n",
       "\n",
       "   category_name_People & Blogs  category_name_Pets & Animals  \\\n",
       "0                             0                             0   \n",
       "1                             0                             0   \n",
       "2                             0                             0   \n",
       "3                             0                             0   \n",
       "4                             0                             0   \n",
       "\n",
       "   category_name_Science & Technology  category_name_Shows  \\\n",
       "0                                   0                    0   \n",
       "1                                   0                    0   \n",
       "2                                   0                    0   \n",
       "3                                   0                    0   \n",
       "4                                   1                    0   \n",
       "\n",
       "   category_name_Sports  category_name_Travel & Events  \n",
       "0                     1                              0  \n",
       "1                     0                              0  \n",
       "2                     0                              0  \n",
       "3                     0                              0  \n",
       "4                     0                              0  \n",
       "\n",
       "[5 rows x 31 columns]"
      ]
     },
     "execution_count": 224,
     "metadata": {},
     "output_type": "execute_result"
    }
   ],
   "source": [
    "X = pd.get_dummies(data = X)\n",
    "X.head()"
   ]
  },
  {
   "cell_type": "markdown",
   "metadata": {},
   "source": [
    "# Separate train and test to predict the model"
   ]
  },
  {
   "cell_type": "markdown",
   "metadata": {},
   "source": [
    "We are separating 2% of the dataset for prediction. Rest of the data will be used for model building exercise using grid search and cross validation"
   ]
  },
  {
   "cell_type": "code",
   "execution_count": 225,
   "metadata": {},
   "outputs": [],
   "source": [
    "X_train, X_test, y_train, y_test = train_test_split(X, processed_df[target], random_state=0, test_size=0.02)"
   ]
  },
  {
   "cell_type": "markdown",
   "metadata": {},
   "source": [
    "# Model Building"
   ]
  },
  {
   "cell_type": "markdown",
   "metadata": {},
   "source": [
    "## Defining models and hyper parameters"
   ]
  },
  {
   "cell_type": "markdown",
   "metadata": {},
   "source": [
    "We are building following classifiers: \n",
    "- Logistic Regression\n",
    "\n",
    "- Multi Layer Perceptron\n",
    "\n",
    "- Decision Tree\n",
    "\n",
    "- Random Forest\n",
    "\n",
    "- XGBoost\n",
    "\n",
    "- K-Nearest Neighbour\n",
    "\n",
    "- Naive Bayes\n"
   ]
  },
  {
   "cell_type": "code",
   "execution_count": 226,
   "metadata": {
    "pycharm": {
     "is_executing": false,
     "name": "#%%\n"
    }
   },
   "outputs": [],
   "source": [
    "clfs = { 'lr': LogisticRegression(random_state=0),\n",
    "        'mlp': MLPClassifier(random_state=0),\n",
    "        'dt': DecisionTreeClassifier(random_state=0),\n",
    "        'rf': RandomForestClassifier(random_state=0),\n",
    "        'xgb': XGBClassifier(seed=0),\n",
    "        'svc': SVC(random_state=0),\n",
    "        'knn': KNeighborsClassifier(),\n",
    "        'gnb': GaussianNB()}\n",
    "\n",
    "pipe_clfs = {}\n",
    "\n",
    "for name, clf in clfs.items():\n",
    "    pipe_clfs[name] = Pipeline([('StandardScaler', StandardScaler()), ('clf', clf)])\n",
    "    "
   ]
  },
  {
   "cell_type": "markdown",
   "metadata": {},
   "source": [
    "We are tuning the following hyperparameters of the classifiers:\n",
    "    \n",
    "| Classifier             |  Hyper parameters                                |\n",
    "|:-----------------------|:------------------------------------------------:| \n",
    "| Logistic regression    |  multi class, solver and C                       |\n",
    "| Multi Layer Perceptron |  Hidden layer sizes and activation function      | \n",
    "| Decision Tree          |  min samples split and min samples leaf          | \n",
    "| Support Vector Machine |  C and gamma                                     | \n",
    "| Random forest          |  min samples split, min samples leaf, estimators | \n",
    "| KNN                    |  n neighbours                                    | \n",
    "| Naiye Bayes            |  variable smoothing                              | \n",
    "| xgboost                |  learning rate, gamma and lambda                 | \n",
    "\n"
   ]
  },
  {
   "cell_type": "code",
   "execution_count": 227,
   "metadata": {
    "pycharm": {
     "is_executing": false,
     "name": "#%%\n"
    }
   },
   "outputs": [],
   "source": [
    "param_grids = { }\n",
    "# logistic\n",
    "C_range = [10 ** i for i in range(-4, 5)]\n",
    "\n",
    "param_grid = [{'clf__multi_class': ['ovr'], \n",
    "               'clf__solver': ['newton-cg', 'lbfgs', 'liblinear', 'sag', 'saga'],\n",
    "               'clf__C': C_range},\n",
    "              \n",
    "              {'clf__multi_class': ['multinomial'],\n",
    "               'clf__solver': ['newton-cg', 'lbfgs', 'sag', 'saga'],\n",
    "               'clf__C': C_range}]\n",
    "\n",
    "param_grids['lr'] = param_grid\n",
    "\n",
    "# MLP\n",
    "param_grid = [{'clf__hidden_layer_sizes': [10, 100],\n",
    "               'clf__activation': ['identity', 'logistic', 'tanh', 'relu']}]\n",
    "\n",
    "param_grids['mlp'] = param_grid\n",
    "\n",
    "# Decision tree\n",
    "param_grid = [{'clf__min_samples_split': [2, 10, 30],\n",
    "               'clf__min_samples_leaf': [1, 10, 30]}]\n",
    "\n",
    "param_grids['dt'] = param_grid\n",
    "\n",
    "# xgboost\n",
    "param_grid = [{'clf__learning_rate': [10 ** i for i in range(-4, 1)],\n",
    "               'clf__gamma': [0, 10, 100],\n",
    "               'clf__reg_lambda': [10 ** i for i in range(-4, 5)]}]\n",
    "\n",
    "param_grids['xgb'] = param_grid\n",
    "\n",
    "# SVC\n",
    "param_grid = [{'clf__C': [10 ** i for i in range(-4, 5)],\n",
    "               'clf__gamma': ['auto', 'scale']}]\n",
    "\n",
    "param_grids['svc'] = param_grid\n",
    "\n",
    "#Knn\n",
    "param_grid = [{'clf__n_neighbors': list(range(1, 11))}]\n",
    "\n",
    "param_grids['knn'] = param_grid\n",
    "\n",
    "#GNB\n",
    "param_grid = [{'clf__var_smoothing': [10 ** i for i in range(-10, -7)]}]\n",
    "\n",
    "param_grids['gnb'] = param_grid\n",
    "param_grids\n",
    "\n",
    "# Random forest\n",
    "param_grid = [{'clf__n_estimators': [10, 100],\n",
    "               'clf__min_samples_split': [2, 10, 30],\n",
    "               'clf__min_samples_leaf': [1, 10, 30]}]\n",
    "\n",
    "param_grids['rf'] = param_grid"
   ]
  },
  {
   "cell_type": "markdown",
   "metadata": {},
   "source": [
    "Below are all 7 classifiers:"
   ]
  },
  {
   "cell_type": "code",
   "execution_count": 228,
   "metadata": {},
   "outputs": [
    {
     "data": {
      "text/plain": [
       "{'lr': Pipeline(memory=None,\n",
       "          steps=[('StandardScaler',\n",
       "                  StandardScaler(copy=True, with_mean=True, with_std=True)),\n",
       "                 ('clf',\n",
       "                  LogisticRegression(C=1.0, class_weight=None, dual=False,\n",
       "                                     fit_intercept=True, intercept_scaling=1,\n",
       "                                     l1_ratio=None, max_iter=100,\n",
       "                                     multi_class='warn', n_jobs=None,\n",
       "                                     penalty='l2', random_state=0, solver='warn',\n",
       "                                     tol=0.0001, verbose=0, warm_start=False))],\n",
       "          verbose=False), 'mlp': Pipeline(memory=None,\n",
       "          steps=[('StandardScaler',\n",
       "                  StandardScaler(copy=True, with_mean=True, with_std=True)),\n",
       "                 ('clf',\n",
       "                  MLPClassifier(activation='relu', alpha=0.0001,\n",
       "                                batch_size='auto', beta_1=0.9, beta_2=0.999,\n",
       "                                early_stopping=False, epsilon=1e-08,\n",
       "                                hidden_layer_sizes=(100,),\n",
       "                                learning_rate='constant',\n",
       "                                learning_rate_init=0.001, max_iter=200,\n",
       "                                momentum=0.9, n_iter_no_change=10,\n",
       "                                nesterovs_momentum=True, power_t=0.5,\n",
       "                                random_state=0, shuffle=True, solver='adam',\n",
       "                                tol=0.0001, validation_fraction=0.1,\n",
       "                                verbose=False, warm_start=False))],\n",
       "          verbose=False), 'dt': Pipeline(memory=None,\n",
       "          steps=[('StandardScaler',\n",
       "                  StandardScaler(copy=True, with_mean=True, with_std=True)),\n",
       "                 ('clf',\n",
       "                  DecisionTreeClassifier(class_weight=None, criterion='gini',\n",
       "                                         max_depth=None, max_features=None,\n",
       "                                         max_leaf_nodes=None,\n",
       "                                         min_impurity_decrease=0.0,\n",
       "                                         min_impurity_split=None,\n",
       "                                         min_samples_leaf=1, min_samples_split=2,\n",
       "                                         min_weight_fraction_leaf=0.0,\n",
       "                                         presort=False, random_state=0,\n",
       "                                         splitter='best'))],\n",
       "          verbose=False), 'rf': Pipeline(memory=None,\n",
       "          steps=[('StandardScaler',\n",
       "                  StandardScaler(copy=True, with_mean=True, with_std=True)),\n",
       "                 ('clf',\n",
       "                  RandomForestClassifier(bootstrap=True, class_weight=None,\n",
       "                                         criterion='gini', max_depth=None,\n",
       "                                         max_features='auto',\n",
       "                                         max_leaf_nodes=None,\n",
       "                                         min_impurity_decrease=0.0,\n",
       "                                         min_impurity_split=None,\n",
       "                                         min_samples_leaf=1, min_samples_split=2,\n",
       "                                         min_weight_fraction_leaf=0.0,\n",
       "                                         n_estimators='warn', n_jobs=None,\n",
       "                                         oob_score=False, random_state=0,\n",
       "                                         verbose=0, warm_start=False))],\n",
       "          verbose=False), 'xgb': Pipeline(memory=None,\n",
       "          steps=[('StandardScaler',\n",
       "                  StandardScaler(copy=True, with_mean=True, with_std=True)),\n",
       "                 ('clf',\n",
       "                  XGBClassifier(base_score=0.5, booster='gbtree',\n",
       "                                colsample_bylevel=1, colsample_bytree=1, gamma=0,\n",
       "                                learning_rate=0.1, max_delta_step=0, max_depth=3,\n",
       "                                min_child_weight=1, missing=None,\n",
       "                                n_estimators=100, n_jobs=1, nthread=None,\n",
       "                                objective='binary:logistic', random_state=0,\n",
       "                                reg_alpha=0, reg_lambda=1, scale_pos_weight=1,\n",
       "                                seed=0, silent=True, subsample=1))],\n",
       "          verbose=False), 'svc': Pipeline(memory=None,\n",
       "          steps=[('StandardScaler',\n",
       "                  StandardScaler(copy=True, with_mean=True, with_std=True)),\n",
       "                 ('clf',\n",
       "                  SVC(C=1.0, cache_size=200, class_weight=None, coef0=0.0,\n",
       "                      decision_function_shape='ovr', degree=3,\n",
       "                      gamma='auto_deprecated', kernel='rbf', max_iter=-1,\n",
       "                      probability=False, random_state=0, shrinking=True,\n",
       "                      tol=0.001, verbose=False))],\n",
       "          verbose=False), 'knn': Pipeline(memory=None,\n",
       "          steps=[('StandardScaler',\n",
       "                  StandardScaler(copy=True, with_mean=True, with_std=True)),\n",
       "                 ('clf',\n",
       "                  KNeighborsClassifier(algorithm='auto', leaf_size=30,\n",
       "                                       metric='minkowski', metric_params=None,\n",
       "                                       n_jobs=None, n_neighbors=5, p=2,\n",
       "                                       weights='uniform'))],\n",
       "          verbose=False), 'gnb': Pipeline(memory=None,\n",
       "          steps=[('StandardScaler',\n",
       "                  StandardScaler(copy=True, with_mean=True, with_std=True)),\n",
       "                 ('clf', GaussianNB(priors=None, var_smoothing=1e-09))],\n",
       "          verbose=False)}"
      ]
     },
     "execution_count": 228,
     "metadata": {},
     "output_type": "execute_result"
    }
   ],
   "source": [
    "pipe_clfs"
   ]
  },
  {
   "cell_type": "markdown",
   "metadata": {},
   "source": [
    "## Grid Search"
   ]
  },
  {
   "cell_type": "markdown",
   "metadata": {},
   "source": [
    "We have used grid search method to loop across various hyperparameters and classifiers. We are using 5-fold cross validation method to avoid overfitting issue. We will using the model which gives best accuracy for prediction. "
   ]
  },
  {
   "cell_type": "code",
   "execution_count": 229,
   "metadata": {
    "pycharm": {
     "is_executing": false,
     "name": "#%%\n"
    }
   },
   "outputs": [],
   "source": [
    "# The list of [best_score_, best_params_, best_estimator_]\n",
    "complete_gs = []\n",
    "best_score_param_estimators = []\n",
    "# For each classifier\n",
    "for name in pipe_clfs.keys():\n",
    "    # GridSearchCV\n",
    "    # Implement me\n",
    "    gs = GridSearchCV(estimator=pipe_clfs[name],\n",
    "                      param_grid=param_grids[name],\n",
    "                      scoring='accuracy',\n",
    "                      n_jobs=1,\n",
    "                      iid=False,\n",
    "                      cv=StratifiedKFold(n_splits=5,\n",
    "                                         shuffle=True,\n",
    "                                         random_state=0))\n",
    "\n",
    "    \n",
    "    gs = gs.fit(X_train, y_train)\n",
    "    # Update best_score_param_estimators\n",
    "    \n",
    "    best_score_param_estimators.append([gs.best_score_, gs.best_params_, gs.best_estimator_])"
   ]
  },
  {
   "cell_type": "code",
   "execution_count": 230,
   "metadata": {},
   "outputs": [
    {
     "name": "stdout",
     "output_type": "stream",
     "text": [
      "[0.8265367428452078, {'clf__min_samples_leaf': 1, 'clf__min_samples_split': 2, 'clf__n_estimators': 100}, <class 'sklearn.ensemble.forest.RandomForestClassifier'>]\n",
      "\n",
      "[0.8215582349407065, {'clf__gamma': 0, 'clf__learning_rate': 1, 'clf__reg_lambda': 1000}, <class 'xgboost.sklearn.XGBClassifier'>]\n",
      "\n",
      "[0.7989118579123659, {'clf__activation': 'relu', 'clf__hidden_layer_sizes': 10}, <class 'sklearn.neural_network.multilayer_perceptron.MLPClassifier'>]\n",
      "\n",
      "[0.787981315929936, {'clf__min_samples_leaf': 30, 'clf__min_samples_split': 2}, <class 'sklearn.tree.tree.DecisionTreeClassifier'>]\n",
      "\n",
      "[0.7873517664259174, {'clf__C': 100, 'clf__multi_class': 'multinomial', 'clf__solver': 'newton-cg'}, <class 'sklearn.linear_model.logistic.LogisticRegression'>]\n",
      "\n",
      "[0.7756192998244016, {'clf__C': 10, 'clf__gamma': 'auto'}, <class 'sklearn.svm.classes.SVC'>]\n",
      "\n",
      "[0.6058479901603075, {'clf__n_neighbors': 4}, <class 'sklearn.neighbors.classification.KNeighborsClassifier'>]\n",
      "\n",
      "[0.47542823032512765, {'clf__var_smoothing': 1e-08}, <class 'sklearn.naive_bayes.GaussianNB'>]\n",
      "\n"
     ]
    }
   ],
   "source": [
    "best_score_param_estimators = sorted(best_score_param_estimators, key=lambda x : x[0], reverse=True)\n",
    "\n",
    "# For each [best_score_, best_params_, best_estimator_]\n",
    "for best_score_param_estimator in best_score_param_estimators:\n",
    "    # Print out [best_score_, best_params_, best_estimator_], where best_estimator_ is a pipeline\n",
    "    # Since we only print out the type of classifier of the pipeline\n",
    "    print([best_score_param_estimator[0], best_score_param_estimator[1], type(best_score_param_estimator[2].named_steps['clf'])], end='\\n\\n')"
   ]
  },
  {
   "cell_type": "markdown",
   "metadata": {},
   "source": [
    "## Feature Importance "
   ]
  },
  {
   "cell_type": "markdown",
   "metadata": {},
   "source": [
    "We have used best estimator of random forecast to get feature importances. As expected likes, dislikes and comment count are the top three important features. They are followed by count of tags, timediff (proxy for age of video), count of words in title, and so on"
   ]
  },
  {
   "cell_type": "code",
   "execution_count": 232,
   "metadata": {},
   "outputs": [],
   "source": [
    "# this chunk may not run depending on the gs best estimator hence commented\n",
    "# (pd.Series(gs.best_estimator_.named_steps['clf'].feature_importances_, index=X.columns)\n",
    "#    .nlargest(10)\n",
    "#    .plot(kind='barh'))   \n"
   ]
  },
  {
   "cell_type": "markdown",
   "metadata": {},
   "source": [
    "## Model accuracy"
   ]
  },
  {
   "cell_type": "markdown",
   "metadata": {},
   "source": [
    "Below table gives the best accuracy for all 7 classifiers. Random forest and xgboost are giving highest accuracy. This is followed by MLP, decision tree, logistic regression and SVM. We are getting lowest accuracy by Naiye Bayes and KNN."
   ]
  },
  {
   "cell_type": "code",
   "execution_count": 233,
   "metadata": {},
   "outputs": [
    {
     "data": {
      "text/html": [
       "<div>\n",
       "<style scoped>\n",
       "    .dataframe tbody tr th:only-of-type {\n",
       "        vertical-align: middle;\n",
       "    }\n",
       "\n",
       "    .dataframe tbody tr th {\n",
       "        vertical-align: top;\n",
       "    }\n",
       "\n",
       "    .dataframe thead th {\n",
       "        text-align: right;\n",
       "    }\n",
       "</style>\n",
       "<table border=\"1\" class=\"dataframe\">\n",
       "  <thead>\n",
       "    <tr style=\"text-align: right;\">\n",
       "      <th></th>\n",
       "      <th>Accuracy</th>\n",
       "      <th>Parameters</th>\n",
       "      <th>Pipeline</th>\n",
       "    </tr>\n",
       "  </thead>\n",
       "  <tbody>\n",
       "    <tr>\n",
       "      <th>RandomForestClassifier</th>\n",
       "      <td>0.826537</td>\n",
       "      <td>{'clf__min_samples_leaf': 1, 'clf__min_samples...</td>\n",
       "      <td>(StandardScaler(copy=True, with_mean=True, wit...</td>\n",
       "    </tr>\n",
       "    <tr>\n",
       "      <th>XGBClassifier</th>\n",
       "      <td>0.821558</td>\n",
       "      <td>{'clf__gamma': 0, 'clf__learning_rate': 1, 'cl...</td>\n",
       "      <td>(StandardScaler(copy=True, with_mean=True, wit...</td>\n",
       "    </tr>\n",
       "    <tr>\n",
       "      <th>MLPClassifier</th>\n",
       "      <td>0.798912</td>\n",
       "      <td>{'clf__activation': 'relu', 'clf__hidden_layer...</td>\n",
       "      <td>(StandardScaler(copy=True, with_mean=True, wit...</td>\n",
       "    </tr>\n",
       "    <tr>\n",
       "      <th>DecisionTreeClassifier</th>\n",
       "      <td>0.787981</td>\n",
       "      <td>{'clf__min_samples_leaf': 30, 'clf__min_sample...</td>\n",
       "      <td>(StandardScaler(copy=True, with_mean=True, wit...</td>\n",
       "    </tr>\n",
       "    <tr>\n",
       "      <th>LogisticRegression</th>\n",
       "      <td>0.787352</td>\n",
       "      <td>{'clf__C': 100, 'clf__multi_class': 'multinomi...</td>\n",
       "      <td>(StandardScaler(copy=True, with_mean=True, wit...</td>\n",
       "    </tr>\n",
       "    <tr>\n",
       "      <th>SVC</th>\n",
       "      <td>0.775619</td>\n",
       "      <td>{'clf__C': 10, 'clf__gamma': 'auto'}</td>\n",
       "      <td>(StandardScaler(copy=True, with_mean=True, wit...</td>\n",
       "    </tr>\n",
       "    <tr>\n",
       "      <th>KNeighborsClassifier</th>\n",
       "      <td>0.605848</td>\n",
       "      <td>{'clf__n_neighbors': 4}</td>\n",
       "      <td>(StandardScaler(copy=True, with_mean=True, wit...</td>\n",
       "    </tr>\n",
       "    <tr>\n",
       "      <th>GaussianNB</th>\n",
       "      <td>0.475428</td>\n",
       "      <td>{'clf__var_smoothing': 1e-08}</td>\n",
       "      <td>(StandardScaler(copy=True, with_mean=True, wit...</td>\n",
       "    </tr>\n",
       "  </tbody>\n",
       "</table>\n",
       "</div>"
      ],
      "text/plain": [
       "                        Accuracy  \\\n",
       "RandomForestClassifier  0.826537   \n",
       "XGBClassifier           0.821558   \n",
       "MLPClassifier           0.798912   \n",
       "DecisionTreeClassifier  0.787981   \n",
       "LogisticRegression      0.787352   \n",
       "SVC                     0.775619   \n",
       "KNeighborsClassifier    0.605848   \n",
       "GaussianNB              0.475428   \n",
       "\n",
       "                                                               Parameters  \\\n",
       "RandomForestClassifier  {'clf__min_samples_leaf': 1, 'clf__min_samples...   \n",
       "XGBClassifier           {'clf__gamma': 0, 'clf__learning_rate': 1, 'cl...   \n",
       "MLPClassifier           {'clf__activation': 'relu', 'clf__hidden_layer...   \n",
       "DecisionTreeClassifier  {'clf__min_samples_leaf': 30, 'clf__min_sample...   \n",
       "LogisticRegression      {'clf__C': 100, 'clf__multi_class': 'multinomi...   \n",
       "SVC                                  {'clf__C': 10, 'clf__gamma': 'auto'}   \n",
       "KNeighborsClassifier                              {'clf__n_neighbors': 4}   \n",
       "GaussianNB                                  {'clf__var_smoothing': 1e-08}   \n",
       "\n",
       "                                                                 Pipeline  \n",
       "RandomForestClassifier  (StandardScaler(copy=True, with_mean=True, wit...  \n",
       "XGBClassifier           (StandardScaler(copy=True, with_mean=True, wit...  \n",
       "MLPClassifier           (StandardScaler(copy=True, with_mean=True, wit...  \n",
       "DecisionTreeClassifier  (StandardScaler(copy=True, with_mean=True, wit...  \n",
       "LogisticRegression      (StandardScaler(copy=True, with_mean=True, wit...  \n",
       "SVC                     (StandardScaler(copy=True, with_mean=True, wit...  \n",
       "KNeighborsClassifier    (StandardScaler(copy=True, with_mean=True, wit...  \n",
       "GaussianNB              (StandardScaler(copy=True, with_mean=True, wit...  "
      ]
     },
     "execution_count": 233,
     "metadata": {},
     "output_type": "execute_result"
    }
   ],
   "source": [
    "# declare list for index\n",
    "index_list = []\n",
    "\n",
    "# convert list to dataframe\n",
    "best_score_df = pd.DataFrame(best_score_param_estimators, columns = ['Accuracy', 'Parameters', 'Pipeline'])\n",
    "\n",
    "# extract names of the models\n",
    "for num in range(len(best_score_param_estimators)):\n",
    "    index_list.append(str(best_score_df['Pipeline'][num]['clf']).split('(')[0])\n",
    "    \n",
    "# set index as model names\n",
    "best_score_df.index = index_list\n",
    "best_score_df"
   ]
  },
  {
   "cell_type": "markdown",
   "metadata": {},
   "source": [
    "# Prediction"
   ]
  },
  {
   "cell_type": "code",
   "execution_count": 235,
   "metadata": {},
   "outputs": [],
   "source": [
    "best_estimator = best_score_param_estimators[0][2]\n",
    "y_pred = best_estimator.predict(X_test)"
   ]
  },
  {
   "cell_type": "code",
   "execution_count": 236,
   "metadata": {},
   "outputs": [
    {
     "data": {
      "text/plain": [
       "(128,)"
      ]
     },
     "execution_count": 236,
     "metadata": {},
     "output_type": "execute_result"
    }
   ],
   "source": [
    "y_pred.shape"
   ]
  },
  {
   "cell_type": "markdown",
   "metadata": {},
   "source": [
    "## Confusion Matrix"
   ]
  },
  {
   "cell_type": "markdown",
   "metadata": {},
   "source": [
    "The confusion matrix shows the ways in which your classification model is confused when it makes predictions. Below confusion matrix shows that there are only 7 values predicted as medium which were actually high and low whereas 2  and 5 values predicted as high and low when this as actually medium."
   ]
  },
  {
   "cell_type": "code",
   "execution_count": 237,
   "metadata": {},
   "outputs": [
    {
     "name": "stdout",
     "output_type": "stream",
     "text": [
      "Confusion matrix:\n",
      "Predicted  high  low  medium  __all__\n",
      "Actual                               \n",
      "high         34    0       7       41\n",
      "low           0   44       7       51\n",
      "medium        2    5      29       36\n",
      "__all__      36   49      43      128\n"
     ]
    }
   ],
   "source": [
    "confusion_matrix = ConfusionMatrix(np.array(y_test['views_cat']), y_pred)\n",
    "print(\"Confusion matrix:\\n%s\" % confusion_matrix)"
   ]
  },
  {
   "cell_type": "markdown",
   "metadata": {},
   "source": [
    "The same can be visualized in a form of heatmap as below:"
   ]
  },
  {
   "cell_type": "code",
   "execution_count": 243,
   "metadata": {},
   "outputs": [
    {
     "data": {
      "image/png": "[encoded data removed]",
      "text/plain": [
       "<Figure size 576x432 with 2 Axes>"
      ]
     },
     "metadata": {
      "needs_background": "light"
     },
     "output_type": "display_data"
    }
   ],
   "source": [
    "from pandas_ml import ConfusionMatrix\n",
    "def plot_cm(y_true, y_pred, figsize=(8,6)):\n",
    "    \"\"\"\n",
    "    \n",
    "    plot confusion matrix with percentages of accuracy\n",
    "    \n",
    "    Parameters\n",
    "    ----------\n",
    "    y_true : actual values\n",
    "    y_test : actual values\n",
    "    Returns\n",
    "    ----------\n",
    "    Dataframe with treated outlier values\n",
    "    \"\"\"\n",
    "    cm = confusion_matrix(y_true, y_pred, labels=np.unique(y_true))\n",
    "    cm_sum = np.sum(cm, axis=1, keepdims=True)\n",
    "    cm_perc = cm / cm_sum.astype(float) * 100\n",
    "    annot = np.empty_like(cm).astype(str)\n",
    "    nrows, ncols = cm.shape\n",
    "    for i in range(nrows):\n",
    "        for j in range(ncols):\n",
    "            c = cm[i, j]\n",
    "            p = cm_perc[i, j]\n",
    "            if i == j:\n",
    "                s = cm_sum[i]\n",
    "                annot[i, j] = '%.1f%%\\n%d/%d' % (p, c, s)\n",
    "            elif c == 0:\n",
    "                annot[i, j] = ''\n",
    "            else:\n",
    "                annot[i, j] = '%.1f%%\\n%d' % (p, c)\n",
    "    cm = pd.DataFrame(cm, index=np.unique(y_true), columns=np.unique(y_true))\n",
    "    cm.index.name = 'Actual'\n",
    "    cm.columns.name = 'Predicted'\n",
    "    fig, ax = plt.subplots(figsize=figsize)\n",
    "    sns.heatmap(cm, cmap= \"YlGnBu\", annot=annot, fmt='', ax=ax)\n",
    "    \n",
    "plot_cm(np.array(y_test['views_cat']), y_pred)\n"
   ]
  },
  {
   "cell_type": "markdown",
   "metadata": {},
   "source": [
    "## Receiver operating characteristic curve"
   ]
  },
  {
   "cell_type": "markdown",
   "metadata": {},
   "source": [
    "Below is AUC and ROC curve when class 0 represents low, class 1 represents medium, and class 2 represents high. As seen from the graph class 0 and 2 has better auc curve than class 1. For all class AUC is above 80 which shows that model has good measure of separability."
   ]
  },
  {
   "cell_type": "code",
   "execution_count": 242,
   "metadata": {},
   "outputs": [
    {
     "name": "stdout",
     "output_type": "stream",
     "text": [
      "0\n",
      "1\n",
      "2\n"
     ]
    },
    {
     "data": {
      "image/png": "[encoded data removed]",
      "text/plain": [
       "<Figure size 432x288 with 1 Axes>"
      ]
     },
     "metadata": {
      "needs_background": "light"
     },
     "output_type": "display_data"
    },
    {
     "data": {
      "text/plain": [
       "<Figure size 432x288 with 0 Axes>"
      ]
     },
     "execution_count": 242,
     "metadata": {},
     "output_type": "execute_result"
    },
    {
     "data": {
      "text/plain": [
       "<Figure size 432x288 with 0 Axes>"
      ]
     },
     "metadata": {},
     "output_type": "display_data"
    }
   ],
   "source": [
    "# Compute ROC curve and ROC area for each class\n",
    "# Binarize the output\n",
    "y_test_2 = label_binarize(y_test, classes=[\"low\", \"medium\", \"high\"])\n",
    "y_pred_2 = label_binarize(y_pred, classes=[\"low\", \"medium\", \"high\"])\n",
    "n_classes = y_test_2.shape[1]\n",
    "\n",
    "fpr = dict()\n",
    "tpr = dict()\n",
    "roc_auc = dict()\n",
    "for i in range(n_classes):\n",
    "    print(i)\n",
    "    fpr[i], tpr[i], _ = roc_curve(y_test_2[:,i], y_pred_2[:,i])\n",
    "    roc_auc[i] = auc(fpr[i], tpr[i])\n",
    "   \n",
    "# Compute micro-average ROC curve and ROC area\n",
    "fpr[\"micro\"], tpr[\"micro\"], _ = roc_curve(y_test_2.ravel(), y_pred_2.ravel())\n",
    "roc_auc[\"micro\"] = auc(fpr[\"micro\"], tpr[\"micro\"])\n",
    "\n",
    "# Compute micro-average ROC curve and ROC area\n",
    "# First aggregate all false positive rates\n",
    "all_fpr = np.unique(np.concatenate([fpr[i] for i in range(n_classes)]))\n",
    "\n",
    "# Then interpolate all ROC curves at this points\n",
    "mean_tpr = np.zeros_like(all_fpr)\n",
    "for i in range(n_classes):\n",
    "    mean_tpr += interp(all_fpr, fpr[i], tpr[i])\n",
    "\n",
    "# Finally average it and compute AUC\n",
    "mean_tpr /= n_classes\n",
    "\n",
    "fpr[\"macro\"] = all_fpr\n",
    "tpr[\"macro\"] = mean_tpr\n",
    "roc_auc[\"macro\"] = auc(fpr[\"macro\"], tpr[\"macro\"])\n",
    "\n",
    "# Plot all ROC curves\n",
    "plt.figure()\n",
    "plt.plot(fpr[\"micro\"], tpr[\"micro\"],\n",
    "         label='micro-average ROC curve (area = {0:0.2f})'\n",
    "               ''.format(roc_auc[\"micro\"]),\n",
    "         color='deeppink', linestyle=':', linewidth=4)\n",
    "\n",
    "plt.plot(fpr[\"macro\"], tpr[\"macro\"],\n",
    "         label='macro-average ROC curve (area = {0:0.2f})'\n",
    "               ''.format(roc_auc[\"macro\"]),\n",
    "         color='navy', linestyle=':', linewidth=4)\n",
    "\n",
    "colors = cycle(['aqua', 'darkorange', 'cornflowerblue'])\n",
    "lw = 2\n",
    "for i, color in zip(range(n_classes), colors):\n",
    "    plt.plot(fpr[i], tpr[i], color=color, lw=lw,\n",
    "             label='ROC curve of class {0} (area = {1:0.2f})'\n",
    "             ''.format(i, roc_auc[i]))\n",
    "\n",
    "plt.plot([0, 1], [0, 1], 'k--', lw=lw)\n",
    "plt.xlim([0.0, 1.0])\n",
    "plt.ylim([0.0, 1.05])\n",
    "plt.xlabel('False Positive Rate')\n",
    "plt.ylabel('True Positive Rate')\n",
    "plt.title('Receiver operating characteristic of popularity levels')\n",
    "plt.legend(loc=\"lower right\")\n",
    "plt.show()\n",
    "plt.figure()"
   ]
  },
  {
   "cell_type": "markdown",
   "metadata": {},
   "source": [
    "# Conclusion"
   ]
  },
  {
   "cell_type": "markdown",
   "metadata": {},
   "source": [
    "With regards to target variable, most of the views on YouTube are neutral and very minimal percentage of data has positive and negatives views hence weighted sum method did not work well. Hence we used number of views to decide upon popularity level. Number of views were further divided into three equal quantiles such as low, medium and high.\n",
    "\n",
    "Model:\n",
    "Random Forecast and XGBoost give highest accuracy of 82%, followed by MLP, decision tree, logistic  and SVM . Naiye Bayes and KNN give lowest accuracy\n"
   ]
  },
  {
   "cell_type": "markdown",
   "metadata": {},
   "source": [
    "# Limitation"
   ]
  },
  {
   "cell_type": "markdown",
   "metadata": {},
   "source": [
    "There were certain limitation in this analysis as follows:\n",
    "1. This dataset is a sample of top trending videos for a day. Hence this a a biased dataset. \n",
    "2. The dataset used do not include information about typical visual features and video characteristics  such  as background color, video resolution, or textual characteristics of a video etc an average ratio of the text region size with respect to the frame size. \n",
    "3. Less data points after eliminating instances of same video id.\n"
   ]
  },
  {
   "cell_type": "markdown",
   "metadata": {},
   "source": [
    "# Future work"
   ]
  },
  {
   "cell_type": "markdown",
   "metadata": {},
   "source": [
    "We can further enhance this work using a diverse dataset with a wide range of popularity levels and visual features that can be extracted before a video is published online. We can also determine country-specific popular genres and prediction of popularity. Also use natural language processing for extracting information from descriptions, channel title and comments to sentiment on the video."
   ]
  },
  {
   "cell_type": "markdown",
   "metadata": {},
   "source": [
    "# References"
   ]
  },
  {
   "cell_type": "markdown",
   "metadata": {},
   "source": [
    "1.    We Are Social, & Hootsuite, & DataReportal. (October 25, 2019). Most popular social networks worldwide as of October 2019, ranked by number of active users (in millions) [Graph]. In Statista. Retrieved December 08, 2019, from https://www.statista.com/statistics/272014/global-social-networks-ranked-by-number-of-users/.\n",
    "\n",
    "2.    T. Trzciński and P. Rokita, \"Predicting Popularity of Online Videos Using Support Vector Regression,\" in IEEE Transactions on Multimedia, vol. 19, no. 11, pp. 2561-2570, Nov. 2017.doi: 10.1109/TMM.2017.2695439. Retrieved from https://arxiv.org/pdf/1510.06223.pdf\n",
    "\n",
    "3.    Soufana Mekouar, Nabila Zrira, and El-Houssine Bouyakhf. 2017. Popularity Prediction of Videos in YouTube as Case Study: A Regression Analysis Study. In Proceedings of the 2nd international Conference on Big Data, Cloud and Applications (BDCA'17). ACM, New York, NY, USA, Article 51, 6 pages. DOI: https://doi.org/10.1145/3090354.3090406\n",
    "\n",
    "4.    S. H. Doong, \"Predicting Twitter Hashtags Popularity Level,\" 2016 49th Hawaii International Conference on System Sciences (HICSS), Koloa, HI, 2016, pp. 1959-1968. DOI: 10.1109/HICSS.2016.247 Retrieved from https://ieeexplore.ieee.org/document/7427428\n",
    "\n"
   ]
  }
 ],
 "metadata": {
  "kernelspec": {
   "display_name": "Python 3",
   "language": "python",
   "name": "python3"
  },
  "language_info": {
   "codemirror_mode": {
    "name": "ipython",
    "version": 3
   },
   "file_extension": ".py",
   "mimetype": "text/x-python",
   "name": "python",
   "nbconvert_exporter": "python",
   "pygments_lexer": "ipython3",
   "version": "3.7.0"
  },
  "pycharm": {
   "stem_cell": {
    "cell_type": "raw",
    "metadata": {
     "collapsed": false
    },
    "source": [
     "\n"
    ]
   }
  },
  "toc": {
   "base_numbering": 1,
   "nav_menu": {},
   "number_sections": true,
   "sideBar": true,
   "skip_h1_title": false,
   "title_cell": "Table of Contents",
   "title_sidebar": "Contents",
   "toc_cell": true,
   "toc_position": {},
   "toc_section_display": true,
   "toc_window_display": true
  }
 },
 "nbformat": 4,
 "nbformat_minor": 1
}
