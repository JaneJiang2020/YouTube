{
 "cells": [
  {
   "cell_type": "markdown",
   "source": [
    "## Import libraries\n"
   ],
   "metadata": {
    "collapsed": false
   }
  },
  {
   "cell_type": "code",
   "execution_count": 10,
   "outputs": [],
   "source": [
    "import pandas as pd\n",
    "\n",
    "import json\n",
    "import matplotlib.pyplot as plt\n",
    "import seaborn as sns\n",
    "import numpy as np"
   ],
   "metadata": {
    "collapsed": false,
    "pycharm": {
     "name": "#%%\n",
     "is_executing": false
    }
   }
  },
  {
   "cell_type": "markdown",
   "source": [
    "## Data"
   ],
   "metadata": {
    "collapsed": false
   }
  },
  {
   "cell_type": "code",
   "execution_count": 11,
   "outputs": [],
   "source": [
    "# read files\n",
    "unprocessed_df = pd.read_csv(\"../Data/US_videos.csv\")\n",
    "unprocessed_df.head()\n",
    "\n",
    "# read json file\n",
    "with open(\"../Data/US_category_id.json\") as train_file:\n",
    "    categories = json.load(train_file)[\"items\"]"
   ],
   "metadata": {
    "collapsed": false,
    "pycharm": {
     "name": "#%%\n",
     "is_executing": false
    }
   }
  },
  {
   "cell_type": "code",
   "execution_count": 12,
   "outputs": [
    {
     "data": {
      "text/plain": "      video_id trending_date  \\\n0  2kyS6SvSYSE      17.14.11   \n1  1ZAPwfrtAFY      17.14.11   \n\n                                               title    channel_title  \\\n0                 WE WANT TO TALK ABOUT OUR MARRIAGE     CaseyNeistat   \n1  The Trump Presidency: Last Week Tonight with J...  LastWeekTonight   \n\n   category_id              publish_time  \\\n0           22  2017-11-13T17:13:01.000Z   \n1           24  2017-11-13T07:30:00.000Z   \n\n                                                tags    views  likes  \\\n0                                    SHANtell martin   748374  57527   \n1  last week tonight trump presidency|\"last week ...  2418783  97185   \n\n   dislikes  comment_count                                  thumbnail_link  \\\n0      2966          15954  https://i.ytimg.com/vi/2kyS6SvSYSE/default.jpg   \n1      6146          12703  https://i.ytimg.com/vi/1ZAPwfrtAFY/default.jpg   \n\n   comments_disabled  ratings_disabled  video_error_or_removed  \\\n0              False             False                   False   \n1              False             False                   False   \n\n                                         description   category_name  \n0  SHANTELL'S CHANNEL - https://www.youtube.com/s...  People & Blogs  \n1  One year after the presidential election, John...   Entertainment  ",
      "text/html": "<div>\n<style scoped>\n    .dataframe tbody tr th:only-of-type {\n        vertical-align: middle;\n    }\n\n    .dataframe tbody tr th {\n        vertical-align: top;\n    }\n\n    .dataframe thead th {\n        text-align: right;\n    }\n</style>\n<table border=\"1\" class=\"dataframe\">\n  <thead>\n    <tr style=\"text-align: right;\">\n      <th></th>\n      <th>video_id</th>\n      <th>trending_date</th>\n      <th>title</th>\n      <th>channel_title</th>\n      <th>category_id</th>\n      <th>publish_time</th>\n      <th>tags</th>\n      <th>views</th>\n      <th>likes</th>\n      <th>dislikes</th>\n      <th>comment_count</th>\n      <th>thumbnail_link</th>\n      <th>comments_disabled</th>\n      <th>ratings_disabled</th>\n      <th>video_error_or_removed</th>\n      <th>description</th>\n      <th>category_name</th>\n    </tr>\n  </thead>\n  <tbody>\n    <tr>\n      <td>0</td>\n      <td>2kyS6SvSYSE</td>\n      <td>17.14.11</td>\n      <td>WE WANT TO TALK ABOUT OUR MARRIAGE</td>\n      <td>CaseyNeistat</td>\n      <td>22</td>\n      <td>2017-11-13T17:13:01.000Z</td>\n      <td>SHANtell martin</td>\n      <td>748374</td>\n      <td>57527</td>\n      <td>2966</td>\n      <td>15954</td>\n      <td>https://i.ytimg.com/vi/2kyS6SvSYSE/default.jpg</td>\n      <td>False</td>\n      <td>False</td>\n      <td>False</td>\n      <td>SHANTELL'S CHANNEL - https://www.youtube.com/s...</td>\n      <td>People &amp; Blogs</td>\n    </tr>\n    <tr>\n      <td>1</td>\n      <td>1ZAPwfrtAFY</td>\n      <td>17.14.11</td>\n      <td>The Trump Presidency: Last Week Tonight with J...</td>\n      <td>LastWeekTonight</td>\n      <td>24</td>\n      <td>2017-11-13T07:30:00.000Z</td>\n      <td>last week tonight trump presidency|\"last week ...</td>\n      <td>2418783</td>\n      <td>97185</td>\n      <td>6146</td>\n      <td>12703</td>\n      <td>https://i.ytimg.com/vi/1ZAPwfrtAFY/default.jpg</td>\n      <td>False</td>\n      <td>False</td>\n      <td>False</td>\n      <td>One year after the presidential election, John...</td>\n      <td>Entertainment</td>\n    </tr>\n  </tbody>\n</table>\n</div>"
     },
     "metadata": {},
     "output_type": "execute_result",
     "execution_count": 12
    }
   ],
   "source": [
    "def get_category_id(categories):\n",
    "    cat_dict = {}\n",
    "    for cat in categories:\n",
    "        cat_dict[int(cat[\"id\"])] = cat[\"snippet\"][\"title\"]\n",
    "    return cat_dict\n",
    "\n",
    "cat_dict = get_category_id(categories)\n",
    "unprocessed_df['category_name'] = unprocessed_df['category_id'].map(cat_dict)\n",
    "unprocessed_df.head(2)"
   ],
   "metadata": {
    "collapsed": false,
    "pycharm": {
     "name": "#%%\n",
     "is_executing": false
    }
   }
  },
  {
   "cell_type": "code",
   "execution_count": 13,
   "outputs": [
    {
     "name": "stdout",
     "text": [
      "video_id\ntrending_date\ntitle\nchannel_title\ncategory_id\npublish_time\ntags\nviews\nlikes\ndislikes\ncomment_count\nthumbnail_link\ncomments_disabled\nratings_disabled\nvideo_error_or_removed\ndescription\ncategory_name\n"
     ],
     "output_type": "stream"
    }
   ],
   "source": [
    "# iterating the columns \n",
    "for col in unprocessed_df.columns: \n",
    "    print(col)\n",
    "\n",
    "#print(unprocessed_df['views'].mean())"
   ],
   "metadata": {
    "collapsed": false,
    "pycharm": {
     "name": "#%%\n",
     "is_executing": false
    }
   }
  },
  {
   "cell_type": "markdown",
   "source": [
    "## function: encoding outcome"
   ],
   "metadata": {
    "collapsed": false
   }
  },
  {
   "cell_type": "code",
   "execution_count": 15,
   "outputs": [
    {
     "name": "stdout",
     "text": [
      "0         687881\n1        2315452\n2        3040062\n3         332330\n4        1961507\n          ...   \n40944    1646064\n40945    1004408\n40946    1017351\n40947    5465010\n40948    9736064\nName: neutral, Length: 40949, dtype: int64\n"
     ],
     "output_type": "stream"
    }
   ],
   "source": [
    "unprocessed_df['neutral']=unprocessed_df['views']-unprocessed_df['likes']-unprocessed_df['dislikes']\n",
    "#print(unprocessed_df['neutral'])"
   ],
   "metadata": {
    "collapsed": false,
    "pycharm": {
     "name": "#%%\n",
     "is_executing": false
    }
   }
  },
  {
   "cell_type": "code",
   "execution_count": 16,
   "outputs": [
    {
     "name": "stdout",
     "text": [
      "0        2.494580e+05\n1        8.062610e+05\n2        1.063811e+06\n3        1.143893e+05\n4        6.985770e+05\n             ...     \n40944    5.618697e+05\n40945    3.549327e+05\n40946    3.554837e+05\n40947    1.886938e+06\n40948    3.435373e+06\nLength: 40949, dtype: float64\n"
     ],
     "output_type": "stream"
    }
   ],
   "source": [
    "def outcome(w1,w2,w3):\n",
    "    #unprocessed_df['neutral']=unprocessed_df['views']-unprocessed_df['likes']-unprocessed_df['dislikes']\n",
    "    y=w1*unprocessed_df['likes']+w2*unprocessed_df['neutral']+w3*unprocessed_df['dislikes']\n",
    "    return y\n",
    "\n",
    "print(outcome(1/3,1/3,1/3)) # equally important\n",
    "print(outcome(1/2,1/4,1/4)) # likes more important"
   ],
   "metadata": {
    "collapsed": false,
    "pycharm": {
     "name": "#%%\n",
     "is_executing": false
    }
   }
  }
 ],
 "metadata": {
  "kernelspec": {
   "display_name": "Python 3",
   "language": "python",
   "name": "python3"
  },
  "language_info": {
   "codemirror_mode": {
    "name": "ipython",
    "version": 2
   },
   "file_extension": ".py",
   "mimetype": "text/x-python",
   "name": "python",
   "nbconvert_exporter": "python",
   "pygments_lexer": "ipython2",
   "version": "2.7.6"
  },
  "pycharm": {
   "stem_cell": {
    "cell_type": "raw",
    "source": [],
    "metadata": {
     "collapsed": false
    }
   }
  }
 },
 "nbformat": 4,
 "nbformat_minor": 0
}